{
  "nbformat": 4,
  "nbformat_minor": 0,
  "metadata": {
    "kernelspec": {
      "display_name": "Python 3",
      "language": "python",
      "name": "python3"
    },
    "language_info": {
      "codemirror_mode": {
        "name": "ipython",
        "version": 3
      },
      "file_extension": ".py",
      "mimetype": "text/x-python",
      "name": "python",
      "nbconvert_exporter": "python",
      "pygments_lexer": "ipython3",
      "version": "3.8.5"
    },
    "colab": {
      "name": "tejussvm.ipynb",
      "provenance": [],
      "collapsed_sections": [],
      "include_colab_link": true
    }
  },
  "cells": [
    {
      "cell_type": "markdown",
      "metadata": {
        "id": "view-in-github",
        "colab_type": "text"
      },
      "source": [
        "<a href=\"https://colab.research.google.com/github/tejvirus0003/mypynb/blob/main/emailspammersvm.ipynb\" target=\"_parent\"><img src=\"https://colab.research.google.com/assets/colab-badge.svg\" alt=\"Open In Colab\"/></a>"
      ]
    },
    {
      "cell_type": "markdown",
      "metadata": {
        "id": "cOiqlivib2B1"
      },
      "source": [
        "Dataset Link:\n",
        "https://github.com/Shreyakkk/Email-Spam-Detector/blob/master/spam.csv\n",
        "1.\tBased on the dataset above, perform binary classification problem for email spam detection using Support Vector Machine (SVM) based machine Learning classification model.\n",
        "2.\tCheck how performance varies with different types of Kernels\n",
        "3.\tAlso check if the decision boundary changes with change in kernels"
      ]
    },
    {
      "cell_type": "code",
      "metadata": {
        "id": "W207alaub2CJ"
      },
      "source": [
        "import numpy as np\n",
        "import pandas as pd\n",
        "import sklearn"
      ],
      "execution_count": 1,
      "outputs": []
    },
    {
      "cell_type": "code",
      "metadata": {
        "id": "xOmlhmE7b2CL"
      },
      "source": [
        "df = pd.read_csv('https://raw.githubusercontent.com/Shreyakkk/Email-Spam-Detector/master/spam.csv')"
      ],
      "execution_count": 2,
      "outputs": []
    },
    {
      "cell_type": "code",
      "metadata": {
        "colab": {
          "base_uri": "https://localhost:8080/"
        },
        "id": "g0VpVYQAb2CM",
        "outputId": "e2a267d1-7545-4350-e9c9-75452866c527"
      },
      "source": [
        "len(df)"
      ],
      "execution_count": 3,
      "outputs": [
        {
          "output_type": "execute_result",
          "data": {
            "text/plain": [
              "5572"
            ]
          },
          "metadata": {
            "tags": []
          },
          "execution_count": 3
        }
      ]
    },
    {
      "cell_type": "code",
      "metadata": {
        "colab": {
          "base_uri": "https://localhost:8080/"
        },
        "id": "cxWjRhVsb2CR",
        "outputId": "0f451f98-ba72-49b8-8906-d4508f98c70c"
      },
      "source": [
        "df.isna().sum()\n",
        "#no missing values :)"
      ],
      "execution_count": 4,
      "outputs": [
        {
          "output_type": "execute_result",
          "data": {
            "text/plain": [
              "Label        0\n",
              "EmailText    0\n",
              "dtype: int64"
            ]
          },
          "metadata": {
            "tags": []
          },
          "execution_count": 4
        }
      ]
    },
    {
      "cell_type": "code",
      "metadata": {
        "id": "g32GG63Fb2CS"
      },
      "source": [
        "for i in range(len(df)):\n",
        "    if df['Label'][i] == 'ham':\n",
        "        df['Label'][i] = 0\n",
        "    else :\n",
        "        df['Label'][i]= 1\n",
        "#label encoding manually"
      ],
      "execution_count": 5,
      "outputs": []
    },
    {
      "cell_type": "code",
      "metadata": {
        "colab": {
          "base_uri": "https://localhost:8080/",
          "height": 204
        },
        "id": "hPXP-vjsb2CT",
        "outputId": "bbbb7bf2-ecaf-4ad5-b112-ce7e9a5ca52b"
      },
      "source": [
        "df.head()"
      ],
      "execution_count": 6,
      "outputs": [
        {
          "output_type": "execute_result",
          "data": {
            "text/html": [
              "<div>\n",
              "<style scoped>\n",
              "    .dataframe tbody tr th:only-of-type {\n",
              "        vertical-align: middle;\n",
              "    }\n",
              "\n",
              "    .dataframe tbody tr th {\n",
              "        vertical-align: top;\n",
              "    }\n",
              "\n",
              "    .dataframe thead th {\n",
              "        text-align: right;\n",
              "    }\n",
              "</style>\n",
              "<table border=\"1\" class=\"dataframe\">\n",
              "  <thead>\n",
              "    <tr style=\"text-align: right;\">\n",
              "      <th></th>\n",
              "      <th>Label</th>\n",
              "      <th>EmailText</th>\n",
              "    </tr>\n",
              "  </thead>\n",
              "  <tbody>\n",
              "    <tr>\n",
              "      <th>0</th>\n",
              "      <td>0</td>\n",
              "      <td>Go until jurong point, crazy.. Available only ...</td>\n",
              "    </tr>\n",
              "    <tr>\n",
              "      <th>1</th>\n",
              "      <td>0</td>\n",
              "      <td>Ok lar... Joking wif u oni...</td>\n",
              "    </tr>\n",
              "    <tr>\n",
              "      <th>2</th>\n",
              "      <td>1</td>\n",
              "      <td>Free entry in 2 a wkly comp to win FA Cup fina...</td>\n",
              "    </tr>\n",
              "    <tr>\n",
              "      <th>3</th>\n",
              "      <td>0</td>\n",
              "      <td>U dun say so early hor... U c already then say...</td>\n",
              "    </tr>\n",
              "    <tr>\n",
              "      <th>4</th>\n",
              "      <td>0</td>\n",
              "      <td>Nah I don't think he goes to usf, he lives aro...</td>\n",
              "    </tr>\n",
              "  </tbody>\n",
              "</table>\n",
              "</div>"
            ],
            "text/plain": [
              "  Label                                          EmailText\n",
              "0     0  Go until jurong point, crazy.. Available only ...\n",
              "1     0                      Ok lar... Joking wif u oni...\n",
              "2     1  Free entry in 2 a wkly comp to win FA Cup fina...\n",
              "3     0  U dun say so early hor... U c already then say...\n",
              "4     0  Nah I don't think he goes to usf, he lives aro..."
            ]
          },
          "metadata": {
            "tags": []
          },
          "execution_count": 6
        }
      ]
    },
    {
      "cell_type": "code",
      "metadata": {
        "colab": {
          "base_uri": "https://localhost:8080/"
        },
        "id": "3Aptj6VQb2CU",
        "outputId": "828ed2a1-c245-4d2d-d99c-d1d00899c6bb"
      },
      "source": [
        "uniquewords = set()\n",
        "type(uniquewords)"
      ],
      "execution_count": 7,
      "outputs": [
        {
          "output_type": "execute_result",
          "data": {
            "text/plain": [
              "set"
            ]
          },
          "metadata": {
            "tags": []
          },
          "execution_count": 7
        }
      ]
    },
    {
      "cell_type": "code",
      "metadata": {
        "id": "V5J5LTYQb2CV"
      },
      "source": [
        "for i in range(len(df)):\n",
        "    email = df['EmailText'][i].split()\n",
        "    for j in email:\n",
        "        uniquewords.add(j)    "
      ],
      "execution_count": 8,
      "outputs": []
    },
    {
      "cell_type": "code",
      "metadata": {
        "colab": {
          "base_uri": "https://localhost:8080/"
        },
        "id": "-9kfxCBPb2CW",
        "outputId": "b01eeb73-b2b4-40f3-8607-4b132af9522c"
      },
      "source": [
        "len(uniquewords)"
      ],
      "execution_count": 9,
      "outputs": [
        {
          "output_type": "execute_result",
          "data": {
            "text/plain": [
              "15585"
            ]
          },
          "metadata": {
            "tags": []
          },
          "execution_count": 9
        }
      ]
    },
    {
      "cell_type": "code",
      "metadata": {
        "id": "H4myM2Jeb2CX"
      },
      "source": [
        "for i in uniquewords:\n",
        "    df[i]=0"
      ],
      "execution_count": 10,
      "outputs": []
    },
    {
      "cell_type": "code",
      "metadata": {
        "colab": {
          "base_uri": "https://localhost:8080/"
        },
        "id": "83VlKJECb2CX",
        "outputId": "baf3c79b-c006-45f1-f14b-568ed27f0d68"
      },
      "source": [
        "for i in range(len(df)):\n",
        "    jk = df['EmailText'][i].split()\n",
        "    for j in jk:\n",
        "        df[j][i]=1"
      ],
      "execution_count": 11,
      "outputs": [
        {
          "output_type": "stream",
          "text": [
            "/usr/local/lib/python3.7/dist-packages/ipykernel_launcher.py:4: SettingWithCopyWarning: \n",
            "A value is trying to be set on a copy of a slice from a DataFrame\n",
            "\n",
            "See the caveats in the documentation: https://pandas.pydata.org/pandas-docs/stable/user_guide/indexing.html#returning-a-view-versus-a-copy\n",
            "  after removing the cwd from sys.path.\n"
          ],
          "name": "stderr"
        }
      ]
    },
    {
      "cell_type": "code",
      "metadata": {
        "id": "UQeRC3Zkb2Cb"
      },
      "source": [
        "df.drop(['EmailText'] ,axis=1 ,inplace=True)"
      ],
      "execution_count": 12,
      "outputs": []
    },
    {
      "cell_type": "code",
      "metadata": {
        "id": "E_jrGjGEb2Cc"
      },
      "source": [
        "from sklearn.decomposition import PCA"
      ],
      "execution_count": 13,
      "outputs": []
    },
    {
      "cell_type": "code",
      "metadata": {
        "id": "7EJiF_DUb2Cd"
      },
      "source": [
        "pca = PCA(n_components=10)"
      ],
      "execution_count": 73,
      "outputs": []
    },
    {
      "cell_type": "code",
      "metadata": {
        "colab": {
          "base_uri": "https://localhost:8080/",
          "height": 270
        },
        "id": "bcM58IExb2Ce",
        "outputId": "6fda2e0a-aca3-4d56-c067-5b5e6828dfda"
      },
      "source": [
        "df.head()"
      ],
      "execution_count": 74,
      "outputs": [
        {
          "output_type": "execute_result",
          "data": {
            "text/html": [
              "<div>\n",
              "<style scoped>\n",
              "    .dataframe tbody tr th:only-of-type {\n",
              "        vertical-align: middle;\n",
              "    }\n",
              "\n",
              "    .dataframe tbody tr th {\n",
              "        vertical-align: top;\n",
              "    }\n",
              "\n",
              "    .dataframe thead th {\n",
              "        text-align: right;\n",
              "    }\n",
              "</style>\n",
              "<table border=\"1\" class=\"dataframe\">\n",
              "  <thead>\n",
              "    <tr style=\"text-align: right;\">\n",
              "      <th></th>\n",
              "      <th>Label</th>\n",
              "      <th>bak</th>\n",
              "      <th>toshiba...</th>\n",
              "      <th>two!</th>\n",
              "      <th>at</th>\n",
              "      <th>Content</th>\n",
              "      <th>U!</th>\n",
              "      <th>application</th>\n",
              "      <th>items</th>\n",
              "      <th>Oops</th>\n",
              "      <th>4403LDNW1A7RW18</th>\n",
              "      <th>olayiwola's</th>\n",
              "      <th>man...</th>\n",
              "      <th>2%</th>\n",
              "      <th>Ã¥Â£1.50perweeksub.</th>\n",
              "      <th>N-Gage</th>\n",
              "      <th>Rally</th>\n",
              "      <th>performed?</th>\n",
              "      <th>*exposes</th>\n",
              "      <th>length</th>\n",
              "      <th>cozy.</th>\n",
              "      <th>performance</th>\n",
              "      <th>Hogolo</th>\n",
              "      <th>mrng</th>\n",
              "      <th>extra,</th>\n",
              "      <th>plans.</th>\n",
              "      <th>officially</th>\n",
              "      <th>02072069400.</th>\n",
              "      <th>\\SHIT</th>\n",
              "      <th>Hurry</th>\n",
              "      <th>wer</th>\n",
              "      <th>watchng</th>\n",
              "      <th>20,000</th>\n",
              "      <th>heater?</th>\n",
              "      <th>island</th>\n",
              "      <th>Fair</th>\n",
              "      <th>www.txt82228.com.</th>\n",
              "      <th>4)Press</th>\n",
              "      <th>V</th>\n",
              "      <th>insurance.</th>\n",
              "      <th>...</th>\n",
              "      <th>kettoda</th>\n",
              "      <th>08701213186.</th>\n",
              "      <th>Amrca</th>\n",
              "      <th>drugdealer</th>\n",
              "      <th>cheap</th>\n",
              "      <th>050703</th>\n",
              "      <th>ARE</th>\n",
              "      <th>you?</th>\n",
              "      <th>4U</th>\n",
              "      <th>running.lets</th>\n",
              "      <th>5)</th>\n",
              "      <th>DEAD</th>\n",
              "      <th>senrd-dnot</th>\n",
              "      <th>0121</th>\n",
              "      <th>Wot</th>\n",
              "      <th>surely</th>\n",
              "      <th>nt?</th>\n",
              "      <th>1st...\"</th>\n",
              "      <th>Hols.</th>\n",
              "      <th>only!</th>\n",
              "      <th>easy,</th>\n",
              "      <th>date.</th>\n",
              "      <th>Dont</th>\n",
              "      <th>spys</th>\n",
              "      <th>think.</th>\n",
              "      <th>\\POLYS\\\"</th>\n",
              "      <th>was</th>\n",
              "      <th>cash</th>\n",
              "      <th>speechless.</th>\n",
              "      <th>replied:</th>\n",
              "      <th>get</th>\n",
              "      <th>this</th>\n",
              "      <th>Second</th>\n",
              "      <th>one!!</th>\n",
              "      <th>SENT:)</th>\n",
              "      <th>chances</th>\n",
              "      <th>blankets</th>\n",
              "      <th>Yeah</th>\n",
              "      <th>hesitation</th>\n",
              "      <th>ish!</th>\n",
              "    </tr>\n",
              "  </thead>\n",
              "  <tbody>\n",
              "    <tr>\n",
              "      <th>0</th>\n",
              "      <td>0</td>\n",
              "      <td>0</td>\n",
              "      <td>0</td>\n",
              "      <td>0</td>\n",
              "      <td>0</td>\n",
              "      <td>0</td>\n",
              "      <td>0</td>\n",
              "      <td>0</td>\n",
              "      <td>0</td>\n",
              "      <td>0</td>\n",
              "      <td>0</td>\n",
              "      <td>0</td>\n",
              "      <td>0</td>\n",
              "      <td>0</td>\n",
              "      <td>0</td>\n",
              "      <td>0</td>\n",
              "      <td>0</td>\n",
              "      <td>0</td>\n",
              "      <td>0</td>\n",
              "      <td>0</td>\n",
              "      <td>0</td>\n",
              "      <td>0</td>\n",
              "      <td>0</td>\n",
              "      <td>0</td>\n",
              "      <td>0</td>\n",
              "      <td>0</td>\n",
              "      <td>0</td>\n",
              "      <td>0</td>\n",
              "      <td>0</td>\n",
              "      <td>0</td>\n",
              "      <td>0</td>\n",
              "      <td>0</td>\n",
              "      <td>0</td>\n",
              "      <td>0</td>\n",
              "      <td>0</td>\n",
              "      <td>0</td>\n",
              "      <td>0</td>\n",
              "      <td>0</td>\n",
              "      <td>0</td>\n",
              "      <td>0</td>\n",
              "      <td>...</td>\n",
              "      <td>0</td>\n",
              "      <td>0</td>\n",
              "      <td>0</td>\n",
              "      <td>0</td>\n",
              "      <td>0</td>\n",
              "      <td>0</td>\n",
              "      <td>0</td>\n",
              "      <td>0</td>\n",
              "      <td>0</td>\n",
              "      <td>0</td>\n",
              "      <td>0</td>\n",
              "      <td>0</td>\n",
              "      <td>0</td>\n",
              "      <td>0</td>\n",
              "      <td>0</td>\n",
              "      <td>0</td>\n",
              "      <td>0</td>\n",
              "      <td>0</td>\n",
              "      <td>0</td>\n",
              "      <td>0</td>\n",
              "      <td>0</td>\n",
              "      <td>0</td>\n",
              "      <td>0</td>\n",
              "      <td>0</td>\n",
              "      <td>0</td>\n",
              "      <td>0</td>\n",
              "      <td>0</td>\n",
              "      <td>0</td>\n",
              "      <td>0</td>\n",
              "      <td>0</td>\n",
              "      <td>0</td>\n",
              "      <td>0</td>\n",
              "      <td>0</td>\n",
              "      <td>0</td>\n",
              "      <td>0</td>\n",
              "      <td>0</td>\n",
              "      <td>0</td>\n",
              "      <td>0</td>\n",
              "      <td>0</td>\n",
              "      <td>0</td>\n",
              "    </tr>\n",
              "    <tr>\n",
              "      <th>1</th>\n",
              "      <td>0</td>\n",
              "      <td>0</td>\n",
              "      <td>0</td>\n",
              "      <td>0</td>\n",
              "      <td>0</td>\n",
              "      <td>0</td>\n",
              "      <td>0</td>\n",
              "      <td>0</td>\n",
              "      <td>0</td>\n",
              "      <td>0</td>\n",
              "      <td>0</td>\n",
              "      <td>0</td>\n",
              "      <td>0</td>\n",
              "      <td>0</td>\n",
              "      <td>0</td>\n",
              "      <td>0</td>\n",
              "      <td>0</td>\n",
              "      <td>0</td>\n",
              "      <td>0</td>\n",
              "      <td>0</td>\n",
              "      <td>0</td>\n",
              "      <td>0</td>\n",
              "      <td>0</td>\n",
              "      <td>0</td>\n",
              "      <td>0</td>\n",
              "      <td>0</td>\n",
              "      <td>0</td>\n",
              "      <td>0</td>\n",
              "      <td>0</td>\n",
              "      <td>0</td>\n",
              "      <td>0</td>\n",
              "      <td>0</td>\n",
              "      <td>0</td>\n",
              "      <td>0</td>\n",
              "      <td>0</td>\n",
              "      <td>0</td>\n",
              "      <td>0</td>\n",
              "      <td>0</td>\n",
              "      <td>0</td>\n",
              "      <td>0</td>\n",
              "      <td>...</td>\n",
              "      <td>0</td>\n",
              "      <td>0</td>\n",
              "      <td>0</td>\n",
              "      <td>0</td>\n",
              "      <td>0</td>\n",
              "      <td>0</td>\n",
              "      <td>0</td>\n",
              "      <td>0</td>\n",
              "      <td>0</td>\n",
              "      <td>0</td>\n",
              "      <td>0</td>\n",
              "      <td>0</td>\n",
              "      <td>0</td>\n",
              "      <td>0</td>\n",
              "      <td>0</td>\n",
              "      <td>0</td>\n",
              "      <td>0</td>\n",
              "      <td>0</td>\n",
              "      <td>0</td>\n",
              "      <td>0</td>\n",
              "      <td>0</td>\n",
              "      <td>0</td>\n",
              "      <td>0</td>\n",
              "      <td>0</td>\n",
              "      <td>0</td>\n",
              "      <td>0</td>\n",
              "      <td>0</td>\n",
              "      <td>0</td>\n",
              "      <td>0</td>\n",
              "      <td>0</td>\n",
              "      <td>0</td>\n",
              "      <td>0</td>\n",
              "      <td>0</td>\n",
              "      <td>0</td>\n",
              "      <td>0</td>\n",
              "      <td>0</td>\n",
              "      <td>0</td>\n",
              "      <td>0</td>\n",
              "      <td>0</td>\n",
              "      <td>0</td>\n",
              "    </tr>\n",
              "    <tr>\n",
              "      <th>2</th>\n",
              "      <td>1</td>\n",
              "      <td>0</td>\n",
              "      <td>0</td>\n",
              "      <td>0</td>\n",
              "      <td>0</td>\n",
              "      <td>0</td>\n",
              "      <td>0</td>\n",
              "      <td>0</td>\n",
              "      <td>0</td>\n",
              "      <td>0</td>\n",
              "      <td>0</td>\n",
              "      <td>0</td>\n",
              "      <td>0</td>\n",
              "      <td>0</td>\n",
              "      <td>0</td>\n",
              "      <td>0</td>\n",
              "      <td>0</td>\n",
              "      <td>0</td>\n",
              "      <td>0</td>\n",
              "      <td>0</td>\n",
              "      <td>0</td>\n",
              "      <td>0</td>\n",
              "      <td>0</td>\n",
              "      <td>0</td>\n",
              "      <td>0</td>\n",
              "      <td>0</td>\n",
              "      <td>0</td>\n",
              "      <td>0</td>\n",
              "      <td>0</td>\n",
              "      <td>0</td>\n",
              "      <td>0</td>\n",
              "      <td>0</td>\n",
              "      <td>0</td>\n",
              "      <td>0</td>\n",
              "      <td>0</td>\n",
              "      <td>0</td>\n",
              "      <td>0</td>\n",
              "      <td>0</td>\n",
              "      <td>0</td>\n",
              "      <td>0</td>\n",
              "      <td>...</td>\n",
              "      <td>0</td>\n",
              "      <td>0</td>\n",
              "      <td>0</td>\n",
              "      <td>0</td>\n",
              "      <td>0</td>\n",
              "      <td>0</td>\n",
              "      <td>0</td>\n",
              "      <td>0</td>\n",
              "      <td>0</td>\n",
              "      <td>0</td>\n",
              "      <td>0</td>\n",
              "      <td>0</td>\n",
              "      <td>0</td>\n",
              "      <td>0</td>\n",
              "      <td>0</td>\n",
              "      <td>0</td>\n",
              "      <td>0</td>\n",
              "      <td>0</td>\n",
              "      <td>0</td>\n",
              "      <td>0</td>\n",
              "      <td>0</td>\n",
              "      <td>0</td>\n",
              "      <td>0</td>\n",
              "      <td>0</td>\n",
              "      <td>0</td>\n",
              "      <td>0</td>\n",
              "      <td>0</td>\n",
              "      <td>0</td>\n",
              "      <td>0</td>\n",
              "      <td>0</td>\n",
              "      <td>0</td>\n",
              "      <td>0</td>\n",
              "      <td>0</td>\n",
              "      <td>0</td>\n",
              "      <td>0</td>\n",
              "      <td>0</td>\n",
              "      <td>0</td>\n",
              "      <td>0</td>\n",
              "      <td>0</td>\n",
              "      <td>0</td>\n",
              "    </tr>\n",
              "    <tr>\n",
              "      <th>3</th>\n",
              "      <td>0</td>\n",
              "      <td>0</td>\n",
              "      <td>0</td>\n",
              "      <td>0</td>\n",
              "      <td>0</td>\n",
              "      <td>0</td>\n",
              "      <td>0</td>\n",
              "      <td>0</td>\n",
              "      <td>0</td>\n",
              "      <td>0</td>\n",
              "      <td>0</td>\n",
              "      <td>0</td>\n",
              "      <td>0</td>\n",
              "      <td>0</td>\n",
              "      <td>0</td>\n",
              "      <td>0</td>\n",
              "      <td>0</td>\n",
              "      <td>0</td>\n",
              "      <td>0</td>\n",
              "      <td>0</td>\n",
              "      <td>0</td>\n",
              "      <td>0</td>\n",
              "      <td>0</td>\n",
              "      <td>0</td>\n",
              "      <td>0</td>\n",
              "      <td>0</td>\n",
              "      <td>0</td>\n",
              "      <td>0</td>\n",
              "      <td>0</td>\n",
              "      <td>0</td>\n",
              "      <td>0</td>\n",
              "      <td>0</td>\n",
              "      <td>0</td>\n",
              "      <td>0</td>\n",
              "      <td>0</td>\n",
              "      <td>0</td>\n",
              "      <td>0</td>\n",
              "      <td>0</td>\n",
              "      <td>0</td>\n",
              "      <td>0</td>\n",
              "      <td>...</td>\n",
              "      <td>0</td>\n",
              "      <td>0</td>\n",
              "      <td>0</td>\n",
              "      <td>0</td>\n",
              "      <td>0</td>\n",
              "      <td>0</td>\n",
              "      <td>0</td>\n",
              "      <td>0</td>\n",
              "      <td>0</td>\n",
              "      <td>0</td>\n",
              "      <td>0</td>\n",
              "      <td>0</td>\n",
              "      <td>0</td>\n",
              "      <td>0</td>\n",
              "      <td>0</td>\n",
              "      <td>0</td>\n",
              "      <td>0</td>\n",
              "      <td>0</td>\n",
              "      <td>0</td>\n",
              "      <td>0</td>\n",
              "      <td>0</td>\n",
              "      <td>0</td>\n",
              "      <td>0</td>\n",
              "      <td>0</td>\n",
              "      <td>0</td>\n",
              "      <td>0</td>\n",
              "      <td>0</td>\n",
              "      <td>0</td>\n",
              "      <td>0</td>\n",
              "      <td>0</td>\n",
              "      <td>0</td>\n",
              "      <td>0</td>\n",
              "      <td>0</td>\n",
              "      <td>0</td>\n",
              "      <td>0</td>\n",
              "      <td>0</td>\n",
              "      <td>0</td>\n",
              "      <td>0</td>\n",
              "      <td>0</td>\n",
              "      <td>0</td>\n",
              "    </tr>\n",
              "    <tr>\n",
              "      <th>4</th>\n",
              "      <td>0</td>\n",
              "      <td>0</td>\n",
              "      <td>0</td>\n",
              "      <td>0</td>\n",
              "      <td>0</td>\n",
              "      <td>0</td>\n",
              "      <td>0</td>\n",
              "      <td>0</td>\n",
              "      <td>0</td>\n",
              "      <td>0</td>\n",
              "      <td>0</td>\n",
              "      <td>0</td>\n",
              "      <td>0</td>\n",
              "      <td>0</td>\n",
              "      <td>0</td>\n",
              "      <td>0</td>\n",
              "      <td>0</td>\n",
              "      <td>0</td>\n",
              "      <td>0</td>\n",
              "      <td>0</td>\n",
              "      <td>0</td>\n",
              "      <td>0</td>\n",
              "      <td>0</td>\n",
              "      <td>0</td>\n",
              "      <td>0</td>\n",
              "      <td>0</td>\n",
              "      <td>0</td>\n",
              "      <td>0</td>\n",
              "      <td>0</td>\n",
              "      <td>0</td>\n",
              "      <td>0</td>\n",
              "      <td>0</td>\n",
              "      <td>0</td>\n",
              "      <td>0</td>\n",
              "      <td>0</td>\n",
              "      <td>0</td>\n",
              "      <td>0</td>\n",
              "      <td>0</td>\n",
              "      <td>0</td>\n",
              "      <td>0</td>\n",
              "      <td>...</td>\n",
              "      <td>0</td>\n",
              "      <td>0</td>\n",
              "      <td>0</td>\n",
              "      <td>0</td>\n",
              "      <td>0</td>\n",
              "      <td>0</td>\n",
              "      <td>0</td>\n",
              "      <td>0</td>\n",
              "      <td>0</td>\n",
              "      <td>0</td>\n",
              "      <td>0</td>\n",
              "      <td>0</td>\n",
              "      <td>0</td>\n",
              "      <td>0</td>\n",
              "      <td>0</td>\n",
              "      <td>0</td>\n",
              "      <td>0</td>\n",
              "      <td>0</td>\n",
              "      <td>0</td>\n",
              "      <td>0</td>\n",
              "      <td>0</td>\n",
              "      <td>0</td>\n",
              "      <td>0</td>\n",
              "      <td>0</td>\n",
              "      <td>0</td>\n",
              "      <td>0</td>\n",
              "      <td>0</td>\n",
              "      <td>0</td>\n",
              "      <td>0</td>\n",
              "      <td>0</td>\n",
              "      <td>0</td>\n",
              "      <td>0</td>\n",
              "      <td>0</td>\n",
              "      <td>0</td>\n",
              "      <td>0</td>\n",
              "      <td>0</td>\n",
              "      <td>0</td>\n",
              "      <td>0</td>\n",
              "      <td>0</td>\n",
              "      <td>0</td>\n",
              "    </tr>\n",
              "  </tbody>\n",
              "</table>\n",
              "<p>5 rows × 15586 columns</p>\n",
              "</div>"
            ],
            "text/plain": [
              "  Label  bak  toshiba...  two!  at  ...  chances  blankets  Yeah  hesitation  ish!\n",
              "0     0    0           0     0   0  ...        0         0     0           0     0\n",
              "1     0    0           0     0   0  ...        0         0     0           0     0\n",
              "2     1    0           0     0   0  ...        0         0     0           0     0\n",
              "3     0    0           0     0   0  ...        0         0     0           0     0\n",
              "4     0    0           0     0   0  ...        0         0     0           0     0\n",
              "\n",
              "[5 rows x 15586 columns]"
            ]
          },
          "metadata": {
            "tags": []
          },
          "execution_count": 74
        }
      ]
    },
    {
      "cell_type": "code",
      "metadata": {
        "id": "vDK4oCXXcNeZ"
      },
      "source": [
        "X = df.drop(labels=['Label'] , axis=1)"
      ],
      "execution_count": 75,
      "outputs": []
    },
    {
      "cell_type": "code",
      "metadata": {
        "colab": {
          "base_uri": "https://localhost:8080/",
          "height": 270
        },
        "id": "DRtjRMYAcbEO",
        "outputId": "ae5e6ca9-4bbc-4b59-e155-68e3095c1272"
      },
      "source": [
        "X.head()"
      ],
      "execution_count": 76,
      "outputs": [
        {
          "output_type": "execute_result",
          "data": {
            "text/html": [
              "<div>\n",
              "<style scoped>\n",
              "    .dataframe tbody tr th:only-of-type {\n",
              "        vertical-align: middle;\n",
              "    }\n",
              "\n",
              "    .dataframe tbody tr th {\n",
              "        vertical-align: top;\n",
              "    }\n",
              "\n",
              "    .dataframe thead th {\n",
              "        text-align: right;\n",
              "    }\n",
              "</style>\n",
              "<table border=\"1\" class=\"dataframe\">\n",
              "  <thead>\n",
              "    <tr style=\"text-align: right;\">\n",
              "      <th></th>\n",
              "      <th>bak</th>\n",
              "      <th>toshiba...</th>\n",
              "      <th>two!</th>\n",
              "      <th>at</th>\n",
              "      <th>Content</th>\n",
              "      <th>U!</th>\n",
              "      <th>application</th>\n",
              "      <th>items</th>\n",
              "      <th>Oops</th>\n",
              "      <th>4403LDNW1A7RW18</th>\n",
              "      <th>olayiwola's</th>\n",
              "      <th>man...</th>\n",
              "      <th>2%</th>\n",
              "      <th>Ã¥Â£1.50perweeksub.</th>\n",
              "      <th>N-Gage</th>\n",
              "      <th>Rally</th>\n",
              "      <th>performed?</th>\n",
              "      <th>*exposes</th>\n",
              "      <th>length</th>\n",
              "      <th>cozy.</th>\n",
              "      <th>performance</th>\n",
              "      <th>Hogolo</th>\n",
              "      <th>mrng</th>\n",
              "      <th>extra,</th>\n",
              "      <th>plans.</th>\n",
              "      <th>officially</th>\n",
              "      <th>02072069400.</th>\n",
              "      <th>\\SHIT</th>\n",
              "      <th>Hurry</th>\n",
              "      <th>wer</th>\n",
              "      <th>watchng</th>\n",
              "      <th>20,000</th>\n",
              "      <th>heater?</th>\n",
              "      <th>island</th>\n",
              "      <th>Fair</th>\n",
              "      <th>www.txt82228.com.</th>\n",
              "      <th>4)Press</th>\n",
              "      <th>V</th>\n",
              "      <th>insurance.</th>\n",
              "      <th>fun...</th>\n",
              "      <th>...</th>\n",
              "      <th>kettoda</th>\n",
              "      <th>08701213186.</th>\n",
              "      <th>Amrca</th>\n",
              "      <th>drugdealer</th>\n",
              "      <th>cheap</th>\n",
              "      <th>050703</th>\n",
              "      <th>ARE</th>\n",
              "      <th>you?</th>\n",
              "      <th>4U</th>\n",
              "      <th>running.lets</th>\n",
              "      <th>5)</th>\n",
              "      <th>DEAD</th>\n",
              "      <th>senrd-dnot</th>\n",
              "      <th>0121</th>\n",
              "      <th>Wot</th>\n",
              "      <th>surely</th>\n",
              "      <th>nt?</th>\n",
              "      <th>1st...\"</th>\n",
              "      <th>Hols.</th>\n",
              "      <th>only!</th>\n",
              "      <th>easy,</th>\n",
              "      <th>date.</th>\n",
              "      <th>Dont</th>\n",
              "      <th>spys</th>\n",
              "      <th>think.</th>\n",
              "      <th>\\POLYS\\\"</th>\n",
              "      <th>was</th>\n",
              "      <th>cash</th>\n",
              "      <th>speechless.</th>\n",
              "      <th>replied:</th>\n",
              "      <th>get</th>\n",
              "      <th>this</th>\n",
              "      <th>Second</th>\n",
              "      <th>one!!</th>\n",
              "      <th>SENT:)</th>\n",
              "      <th>chances</th>\n",
              "      <th>blankets</th>\n",
              "      <th>Yeah</th>\n",
              "      <th>hesitation</th>\n",
              "      <th>ish!</th>\n",
              "    </tr>\n",
              "  </thead>\n",
              "  <tbody>\n",
              "    <tr>\n",
              "      <th>0</th>\n",
              "      <td>0</td>\n",
              "      <td>0</td>\n",
              "      <td>0</td>\n",
              "      <td>0</td>\n",
              "      <td>0</td>\n",
              "      <td>0</td>\n",
              "      <td>0</td>\n",
              "      <td>0</td>\n",
              "      <td>0</td>\n",
              "      <td>0</td>\n",
              "      <td>0</td>\n",
              "      <td>0</td>\n",
              "      <td>0</td>\n",
              "      <td>0</td>\n",
              "      <td>0</td>\n",
              "      <td>0</td>\n",
              "      <td>0</td>\n",
              "      <td>0</td>\n",
              "      <td>0</td>\n",
              "      <td>0</td>\n",
              "      <td>0</td>\n",
              "      <td>0</td>\n",
              "      <td>0</td>\n",
              "      <td>0</td>\n",
              "      <td>0</td>\n",
              "      <td>0</td>\n",
              "      <td>0</td>\n",
              "      <td>0</td>\n",
              "      <td>0</td>\n",
              "      <td>0</td>\n",
              "      <td>0</td>\n",
              "      <td>0</td>\n",
              "      <td>0</td>\n",
              "      <td>0</td>\n",
              "      <td>0</td>\n",
              "      <td>0</td>\n",
              "      <td>0</td>\n",
              "      <td>0</td>\n",
              "      <td>0</td>\n",
              "      <td>0</td>\n",
              "      <td>...</td>\n",
              "      <td>0</td>\n",
              "      <td>0</td>\n",
              "      <td>0</td>\n",
              "      <td>0</td>\n",
              "      <td>0</td>\n",
              "      <td>0</td>\n",
              "      <td>0</td>\n",
              "      <td>0</td>\n",
              "      <td>0</td>\n",
              "      <td>0</td>\n",
              "      <td>0</td>\n",
              "      <td>0</td>\n",
              "      <td>0</td>\n",
              "      <td>0</td>\n",
              "      <td>0</td>\n",
              "      <td>0</td>\n",
              "      <td>0</td>\n",
              "      <td>0</td>\n",
              "      <td>0</td>\n",
              "      <td>0</td>\n",
              "      <td>0</td>\n",
              "      <td>0</td>\n",
              "      <td>0</td>\n",
              "      <td>0</td>\n",
              "      <td>0</td>\n",
              "      <td>0</td>\n",
              "      <td>0</td>\n",
              "      <td>0</td>\n",
              "      <td>0</td>\n",
              "      <td>0</td>\n",
              "      <td>0</td>\n",
              "      <td>0</td>\n",
              "      <td>0</td>\n",
              "      <td>0</td>\n",
              "      <td>0</td>\n",
              "      <td>0</td>\n",
              "      <td>0</td>\n",
              "      <td>0</td>\n",
              "      <td>0</td>\n",
              "      <td>0</td>\n",
              "    </tr>\n",
              "    <tr>\n",
              "      <th>1</th>\n",
              "      <td>0</td>\n",
              "      <td>0</td>\n",
              "      <td>0</td>\n",
              "      <td>0</td>\n",
              "      <td>0</td>\n",
              "      <td>0</td>\n",
              "      <td>0</td>\n",
              "      <td>0</td>\n",
              "      <td>0</td>\n",
              "      <td>0</td>\n",
              "      <td>0</td>\n",
              "      <td>0</td>\n",
              "      <td>0</td>\n",
              "      <td>0</td>\n",
              "      <td>0</td>\n",
              "      <td>0</td>\n",
              "      <td>0</td>\n",
              "      <td>0</td>\n",
              "      <td>0</td>\n",
              "      <td>0</td>\n",
              "      <td>0</td>\n",
              "      <td>0</td>\n",
              "      <td>0</td>\n",
              "      <td>0</td>\n",
              "      <td>0</td>\n",
              "      <td>0</td>\n",
              "      <td>0</td>\n",
              "      <td>0</td>\n",
              "      <td>0</td>\n",
              "      <td>0</td>\n",
              "      <td>0</td>\n",
              "      <td>0</td>\n",
              "      <td>0</td>\n",
              "      <td>0</td>\n",
              "      <td>0</td>\n",
              "      <td>0</td>\n",
              "      <td>0</td>\n",
              "      <td>0</td>\n",
              "      <td>0</td>\n",
              "      <td>0</td>\n",
              "      <td>...</td>\n",
              "      <td>0</td>\n",
              "      <td>0</td>\n",
              "      <td>0</td>\n",
              "      <td>0</td>\n",
              "      <td>0</td>\n",
              "      <td>0</td>\n",
              "      <td>0</td>\n",
              "      <td>0</td>\n",
              "      <td>0</td>\n",
              "      <td>0</td>\n",
              "      <td>0</td>\n",
              "      <td>0</td>\n",
              "      <td>0</td>\n",
              "      <td>0</td>\n",
              "      <td>0</td>\n",
              "      <td>0</td>\n",
              "      <td>0</td>\n",
              "      <td>0</td>\n",
              "      <td>0</td>\n",
              "      <td>0</td>\n",
              "      <td>0</td>\n",
              "      <td>0</td>\n",
              "      <td>0</td>\n",
              "      <td>0</td>\n",
              "      <td>0</td>\n",
              "      <td>0</td>\n",
              "      <td>0</td>\n",
              "      <td>0</td>\n",
              "      <td>0</td>\n",
              "      <td>0</td>\n",
              "      <td>0</td>\n",
              "      <td>0</td>\n",
              "      <td>0</td>\n",
              "      <td>0</td>\n",
              "      <td>0</td>\n",
              "      <td>0</td>\n",
              "      <td>0</td>\n",
              "      <td>0</td>\n",
              "      <td>0</td>\n",
              "      <td>0</td>\n",
              "    </tr>\n",
              "    <tr>\n",
              "      <th>2</th>\n",
              "      <td>0</td>\n",
              "      <td>0</td>\n",
              "      <td>0</td>\n",
              "      <td>0</td>\n",
              "      <td>0</td>\n",
              "      <td>0</td>\n",
              "      <td>0</td>\n",
              "      <td>0</td>\n",
              "      <td>0</td>\n",
              "      <td>0</td>\n",
              "      <td>0</td>\n",
              "      <td>0</td>\n",
              "      <td>0</td>\n",
              "      <td>0</td>\n",
              "      <td>0</td>\n",
              "      <td>0</td>\n",
              "      <td>0</td>\n",
              "      <td>0</td>\n",
              "      <td>0</td>\n",
              "      <td>0</td>\n",
              "      <td>0</td>\n",
              "      <td>0</td>\n",
              "      <td>0</td>\n",
              "      <td>0</td>\n",
              "      <td>0</td>\n",
              "      <td>0</td>\n",
              "      <td>0</td>\n",
              "      <td>0</td>\n",
              "      <td>0</td>\n",
              "      <td>0</td>\n",
              "      <td>0</td>\n",
              "      <td>0</td>\n",
              "      <td>0</td>\n",
              "      <td>0</td>\n",
              "      <td>0</td>\n",
              "      <td>0</td>\n",
              "      <td>0</td>\n",
              "      <td>0</td>\n",
              "      <td>0</td>\n",
              "      <td>0</td>\n",
              "      <td>...</td>\n",
              "      <td>0</td>\n",
              "      <td>0</td>\n",
              "      <td>0</td>\n",
              "      <td>0</td>\n",
              "      <td>0</td>\n",
              "      <td>0</td>\n",
              "      <td>0</td>\n",
              "      <td>0</td>\n",
              "      <td>0</td>\n",
              "      <td>0</td>\n",
              "      <td>0</td>\n",
              "      <td>0</td>\n",
              "      <td>0</td>\n",
              "      <td>0</td>\n",
              "      <td>0</td>\n",
              "      <td>0</td>\n",
              "      <td>0</td>\n",
              "      <td>0</td>\n",
              "      <td>0</td>\n",
              "      <td>0</td>\n",
              "      <td>0</td>\n",
              "      <td>0</td>\n",
              "      <td>0</td>\n",
              "      <td>0</td>\n",
              "      <td>0</td>\n",
              "      <td>0</td>\n",
              "      <td>0</td>\n",
              "      <td>0</td>\n",
              "      <td>0</td>\n",
              "      <td>0</td>\n",
              "      <td>0</td>\n",
              "      <td>0</td>\n",
              "      <td>0</td>\n",
              "      <td>0</td>\n",
              "      <td>0</td>\n",
              "      <td>0</td>\n",
              "      <td>0</td>\n",
              "      <td>0</td>\n",
              "      <td>0</td>\n",
              "      <td>0</td>\n",
              "    </tr>\n",
              "    <tr>\n",
              "      <th>3</th>\n",
              "      <td>0</td>\n",
              "      <td>0</td>\n",
              "      <td>0</td>\n",
              "      <td>0</td>\n",
              "      <td>0</td>\n",
              "      <td>0</td>\n",
              "      <td>0</td>\n",
              "      <td>0</td>\n",
              "      <td>0</td>\n",
              "      <td>0</td>\n",
              "      <td>0</td>\n",
              "      <td>0</td>\n",
              "      <td>0</td>\n",
              "      <td>0</td>\n",
              "      <td>0</td>\n",
              "      <td>0</td>\n",
              "      <td>0</td>\n",
              "      <td>0</td>\n",
              "      <td>0</td>\n",
              "      <td>0</td>\n",
              "      <td>0</td>\n",
              "      <td>0</td>\n",
              "      <td>0</td>\n",
              "      <td>0</td>\n",
              "      <td>0</td>\n",
              "      <td>0</td>\n",
              "      <td>0</td>\n",
              "      <td>0</td>\n",
              "      <td>0</td>\n",
              "      <td>0</td>\n",
              "      <td>0</td>\n",
              "      <td>0</td>\n",
              "      <td>0</td>\n",
              "      <td>0</td>\n",
              "      <td>0</td>\n",
              "      <td>0</td>\n",
              "      <td>0</td>\n",
              "      <td>0</td>\n",
              "      <td>0</td>\n",
              "      <td>0</td>\n",
              "      <td>...</td>\n",
              "      <td>0</td>\n",
              "      <td>0</td>\n",
              "      <td>0</td>\n",
              "      <td>0</td>\n",
              "      <td>0</td>\n",
              "      <td>0</td>\n",
              "      <td>0</td>\n",
              "      <td>0</td>\n",
              "      <td>0</td>\n",
              "      <td>0</td>\n",
              "      <td>0</td>\n",
              "      <td>0</td>\n",
              "      <td>0</td>\n",
              "      <td>0</td>\n",
              "      <td>0</td>\n",
              "      <td>0</td>\n",
              "      <td>0</td>\n",
              "      <td>0</td>\n",
              "      <td>0</td>\n",
              "      <td>0</td>\n",
              "      <td>0</td>\n",
              "      <td>0</td>\n",
              "      <td>0</td>\n",
              "      <td>0</td>\n",
              "      <td>0</td>\n",
              "      <td>0</td>\n",
              "      <td>0</td>\n",
              "      <td>0</td>\n",
              "      <td>0</td>\n",
              "      <td>0</td>\n",
              "      <td>0</td>\n",
              "      <td>0</td>\n",
              "      <td>0</td>\n",
              "      <td>0</td>\n",
              "      <td>0</td>\n",
              "      <td>0</td>\n",
              "      <td>0</td>\n",
              "      <td>0</td>\n",
              "      <td>0</td>\n",
              "      <td>0</td>\n",
              "    </tr>\n",
              "    <tr>\n",
              "      <th>4</th>\n",
              "      <td>0</td>\n",
              "      <td>0</td>\n",
              "      <td>0</td>\n",
              "      <td>0</td>\n",
              "      <td>0</td>\n",
              "      <td>0</td>\n",
              "      <td>0</td>\n",
              "      <td>0</td>\n",
              "      <td>0</td>\n",
              "      <td>0</td>\n",
              "      <td>0</td>\n",
              "      <td>0</td>\n",
              "      <td>0</td>\n",
              "      <td>0</td>\n",
              "      <td>0</td>\n",
              "      <td>0</td>\n",
              "      <td>0</td>\n",
              "      <td>0</td>\n",
              "      <td>0</td>\n",
              "      <td>0</td>\n",
              "      <td>0</td>\n",
              "      <td>0</td>\n",
              "      <td>0</td>\n",
              "      <td>0</td>\n",
              "      <td>0</td>\n",
              "      <td>0</td>\n",
              "      <td>0</td>\n",
              "      <td>0</td>\n",
              "      <td>0</td>\n",
              "      <td>0</td>\n",
              "      <td>0</td>\n",
              "      <td>0</td>\n",
              "      <td>0</td>\n",
              "      <td>0</td>\n",
              "      <td>0</td>\n",
              "      <td>0</td>\n",
              "      <td>0</td>\n",
              "      <td>0</td>\n",
              "      <td>0</td>\n",
              "      <td>0</td>\n",
              "      <td>...</td>\n",
              "      <td>0</td>\n",
              "      <td>0</td>\n",
              "      <td>0</td>\n",
              "      <td>0</td>\n",
              "      <td>0</td>\n",
              "      <td>0</td>\n",
              "      <td>0</td>\n",
              "      <td>0</td>\n",
              "      <td>0</td>\n",
              "      <td>0</td>\n",
              "      <td>0</td>\n",
              "      <td>0</td>\n",
              "      <td>0</td>\n",
              "      <td>0</td>\n",
              "      <td>0</td>\n",
              "      <td>0</td>\n",
              "      <td>0</td>\n",
              "      <td>0</td>\n",
              "      <td>0</td>\n",
              "      <td>0</td>\n",
              "      <td>0</td>\n",
              "      <td>0</td>\n",
              "      <td>0</td>\n",
              "      <td>0</td>\n",
              "      <td>0</td>\n",
              "      <td>0</td>\n",
              "      <td>0</td>\n",
              "      <td>0</td>\n",
              "      <td>0</td>\n",
              "      <td>0</td>\n",
              "      <td>0</td>\n",
              "      <td>0</td>\n",
              "      <td>0</td>\n",
              "      <td>0</td>\n",
              "      <td>0</td>\n",
              "      <td>0</td>\n",
              "      <td>0</td>\n",
              "      <td>0</td>\n",
              "      <td>0</td>\n",
              "      <td>0</td>\n",
              "    </tr>\n",
              "  </tbody>\n",
              "</table>\n",
              "<p>5 rows × 15585 columns</p>\n",
              "</div>"
            ],
            "text/plain": [
              "   bak  toshiba...  two!  at  ...  blankets  Yeah  hesitation  ish!\n",
              "0    0           0     0   0  ...         0     0           0     0\n",
              "1    0           0     0   0  ...         0     0           0     0\n",
              "2    0           0     0   0  ...         0     0           0     0\n",
              "3    0           0     0   0  ...         0     0           0     0\n",
              "4    0           0     0   0  ...         0     0           0     0\n",
              "\n",
              "[5 rows x 15585 columns]"
            ]
          },
          "metadata": {
            "tags": []
          },
          "execution_count": 76
        }
      ]
    },
    {
      "cell_type": "code",
      "metadata": {
        "id": "-83uY5ymcczs"
      },
      "source": [
        "Y = df[['Label']]"
      ],
      "execution_count": 77,
      "outputs": []
    },
    {
      "cell_type": "code",
      "metadata": {
        "colab": {
          "base_uri": "https://localhost:8080/",
          "height": 204
        },
        "id": "P3k3TrQachZH",
        "outputId": "42985fc9-14d9-418e-f7b3-e453b37d464e"
      },
      "source": [
        "Y.head()"
      ],
      "execution_count": 78,
      "outputs": [
        {
          "output_type": "execute_result",
          "data": {
            "text/html": [
              "<div>\n",
              "<style scoped>\n",
              "    .dataframe tbody tr th:only-of-type {\n",
              "        vertical-align: middle;\n",
              "    }\n",
              "\n",
              "    .dataframe tbody tr th {\n",
              "        vertical-align: top;\n",
              "    }\n",
              "\n",
              "    .dataframe thead th {\n",
              "        text-align: right;\n",
              "    }\n",
              "</style>\n",
              "<table border=\"1\" class=\"dataframe\">\n",
              "  <thead>\n",
              "    <tr style=\"text-align: right;\">\n",
              "      <th></th>\n",
              "      <th>Label</th>\n",
              "    </tr>\n",
              "  </thead>\n",
              "  <tbody>\n",
              "    <tr>\n",
              "      <th>0</th>\n",
              "      <td>0</td>\n",
              "    </tr>\n",
              "    <tr>\n",
              "      <th>1</th>\n",
              "      <td>0</td>\n",
              "    </tr>\n",
              "    <tr>\n",
              "      <th>2</th>\n",
              "      <td>1</td>\n",
              "    </tr>\n",
              "    <tr>\n",
              "      <th>3</th>\n",
              "      <td>0</td>\n",
              "    </tr>\n",
              "    <tr>\n",
              "      <th>4</th>\n",
              "      <td>0</td>\n",
              "    </tr>\n",
              "  </tbody>\n",
              "</table>\n",
              "</div>"
            ],
            "text/plain": [
              "  Label\n",
              "0     0\n",
              "1     0\n",
              "2     1\n",
              "3     0\n",
              "4     0"
            ]
          },
          "metadata": {
            "tags": []
          },
          "execution_count": 78
        }
      ]
    },
    {
      "cell_type": "code",
      "metadata": {
        "colab": {
          "base_uri": "https://localhost:8080/"
        },
        "id": "3YCfoYY-ciyT",
        "outputId": "a867ee7d-c602-4fe8-f2d2-5ce01f399dc5"
      },
      "source": [
        "X.to_numpy()"
      ],
      "execution_count": 79,
      "outputs": [
        {
          "output_type": "execute_result",
          "data": {
            "text/plain": [
              "array([[0, 0, 0, ..., 0, 0, 0],\n",
              "       [0, 0, 0, ..., 0, 0, 0],\n",
              "       [0, 0, 0, ..., 0, 0, 0],\n",
              "       ...,\n",
              "       [0, 0, 0, ..., 0, 0, 0],\n",
              "       [0, 0, 0, ..., 0, 0, 0],\n",
              "       [0, 0, 0, ..., 0, 0, 0]])"
            ]
          },
          "metadata": {
            "tags": []
          },
          "execution_count": 79
        }
      ]
    },
    {
      "cell_type": "code",
      "metadata": {
        "id": "dKnvh82Wcz-v"
      },
      "source": [
        "X_ = pca.fit_transform(X)"
      ],
      "execution_count": 80,
      "outputs": []
    },
    {
      "cell_type": "code",
      "metadata": {
        "id": "dJGrilAqdHMp"
      },
      "source": [
        "lessdf = pd.DataFrame(X_)"
      ],
      "execution_count": 81,
      "outputs": []
    },
    {
      "cell_type": "code",
      "metadata": {
        "colab": {
          "base_uri": "https://localhost:8080/",
          "height": 419
        },
        "id": "gtboXsqPdjEZ",
        "outputId": "9777d512-8bab-4465-c48a-d7d166aef234"
      },
      "source": [
        "lessdf"
      ],
      "execution_count": 82,
      "outputs": [
        {
          "output_type": "execute_result",
          "data": {
            "text/html": [
              "<div>\n",
              "<style scoped>\n",
              "    .dataframe tbody tr th:only-of-type {\n",
              "        vertical-align: middle;\n",
              "    }\n",
              "\n",
              "    .dataframe tbody tr th {\n",
              "        vertical-align: top;\n",
              "    }\n",
              "\n",
              "    .dataframe thead th {\n",
              "        text-align: right;\n",
              "    }\n",
              "</style>\n",
              "<table border=\"1\" class=\"dataframe\">\n",
              "  <thead>\n",
              "    <tr style=\"text-align: right;\">\n",
              "      <th></th>\n",
              "      <th>0</th>\n",
              "      <th>1</th>\n",
              "      <th>2</th>\n",
              "      <th>3</th>\n",
              "      <th>4</th>\n",
              "      <th>5</th>\n",
              "      <th>6</th>\n",
              "      <th>7</th>\n",
              "      <th>8</th>\n",
              "      <th>9</th>\n",
              "    </tr>\n",
              "  </thead>\n",
              "  <tbody>\n",
              "    <tr>\n",
              "      <th>0</th>\n",
              "      <td>-0.480973</td>\n",
              "      <td>0.044946</td>\n",
              "      <td>0.179402</td>\n",
              "      <td>0.186481</td>\n",
              "      <td>0.120665</td>\n",
              "      <td>0.285729</td>\n",
              "      <td>-0.656422</td>\n",
              "      <td>0.065414</td>\n",
              "      <td>0.539515</td>\n",
              "      <td>0.104932</td>\n",
              "    </tr>\n",
              "    <tr>\n",
              "      <th>1</th>\n",
              "      <td>-0.685699</td>\n",
              "      <td>-0.067720</td>\n",
              "      <td>0.128525</td>\n",
              "      <td>-0.074481</td>\n",
              "      <td>-0.040195</td>\n",
              "      <td>0.192829</td>\n",
              "      <td>-0.033941</td>\n",
              "      <td>-0.111047</td>\n",
              "      <td>-0.182093</td>\n",
              "      <td>0.045303</td>\n",
              "    </tr>\n",
              "    <tr>\n",
              "      <th>2</th>\n",
              "      <td>0.359093</td>\n",
              "      <td>-0.978659</td>\n",
              "      <td>0.229191</td>\n",
              "      <td>0.113987</td>\n",
              "      <td>-0.617837</td>\n",
              "      <td>0.186558</td>\n",
              "      <td>-0.901138</td>\n",
              "      <td>-0.004545</td>\n",
              "      <td>0.553207</td>\n",
              "      <td>0.242791</td>\n",
              "    </tr>\n",
              "    <tr>\n",
              "      <th>3</th>\n",
              "      <td>-0.629504</td>\n",
              "      <td>-0.016556</td>\n",
              "      <td>0.106309</td>\n",
              "      <td>-0.052525</td>\n",
              "      <td>-0.066356</td>\n",
              "      <td>0.123786</td>\n",
              "      <td>0.025035</td>\n",
              "      <td>-0.062650</td>\n",
              "      <td>-0.161258</td>\n",
              "      <td>0.020105</td>\n",
              "    </tr>\n",
              "    <tr>\n",
              "      <th>4</th>\n",
              "      <td>0.211723</td>\n",
              "      <td>0.164066</td>\n",
              "      <td>0.159126</td>\n",
              "      <td>-0.916500</td>\n",
              "      <td>-0.415126</td>\n",
              "      <td>-0.448132</td>\n",
              "      <td>-0.190964</td>\n",
              "      <td>0.162920</td>\n",
              "      <td>-0.039637</td>\n",
              "      <td>-0.149716</td>\n",
              "    </tr>\n",
              "    <tr>\n",
              "      <th>...</th>\n",
              "      <td>...</td>\n",
              "      <td>...</td>\n",
              "      <td>...</td>\n",
              "      <td>...</td>\n",
              "      <td>...</td>\n",
              "      <td>...</td>\n",
              "      <td>...</td>\n",
              "      <td>...</td>\n",
              "      <td>...</td>\n",
              "      <td>...</td>\n",
              "    </tr>\n",
              "    <tr>\n",
              "      <th>5567</th>\n",
              "      <td>-0.041035</td>\n",
              "      <td>-0.604094</td>\n",
              "      <td>0.473397</td>\n",
              "      <td>0.728094</td>\n",
              "      <td>0.376271</td>\n",
              "      <td>-0.351140</td>\n",
              "      <td>0.426312</td>\n",
              "      <td>0.650780</td>\n",
              "      <td>-0.792226</td>\n",
              "      <td>0.681933</td>\n",
              "    </tr>\n",
              "    <tr>\n",
              "      <th>5568</th>\n",
              "      <td>-0.129484</td>\n",
              "      <td>-0.566712</td>\n",
              "      <td>-0.158886</td>\n",
              "      <td>-0.636226</td>\n",
              "      <td>-0.025574</td>\n",
              "      <td>-0.041198</td>\n",
              "      <td>-0.193032</td>\n",
              "      <td>0.030675</td>\n",
              "      <td>-0.055783</td>\n",
              "      <td>-0.158906</td>\n",
              "    </tr>\n",
              "    <tr>\n",
              "      <th>5569</th>\n",
              "      <td>-0.338506</td>\n",
              "      <td>0.057612</td>\n",
              "      <td>0.124916</td>\n",
              "      <td>0.222885</td>\n",
              "      <td>0.262863</td>\n",
              "      <td>0.051476</td>\n",
              "      <td>-0.288438</td>\n",
              "      <td>-0.103212</td>\n",
              "      <td>0.882087</td>\n",
              "      <td>0.472096</td>\n",
              "    </tr>\n",
              "    <tr>\n",
              "      <th>5570</th>\n",
              "      <td>0.986443</td>\n",
              "      <td>0.303414</td>\n",
              "      <td>0.605474</td>\n",
              "      <td>-0.676543</td>\n",
              "      <td>0.125780</td>\n",
              "      <td>0.031662</td>\n",
              "      <td>-0.122652</td>\n",
              "      <td>-0.029259</td>\n",
              "      <td>1.383812</td>\n",
              "      <td>-0.006203</td>\n",
              "    </tr>\n",
              "    <tr>\n",
              "      <th>5571</th>\n",
              "      <td>-0.091973</td>\n",
              "      <td>-0.550009</td>\n",
              "      <td>-0.170474</td>\n",
              "      <td>-0.565306</td>\n",
              "      <td>-0.022347</td>\n",
              "      <td>-0.084104</td>\n",
              "      <td>-0.186940</td>\n",
              "      <td>0.079113</td>\n",
              "      <td>-0.021816</td>\n",
              "      <td>-0.195457</td>\n",
              "    </tr>\n",
              "  </tbody>\n",
              "</table>\n",
              "<p>5572 rows × 10 columns</p>\n",
              "</div>"
            ],
            "text/plain": [
              "             0         1         2  ...         7         8         9\n",
              "0    -0.480973  0.044946  0.179402  ...  0.065414  0.539515  0.104932\n",
              "1    -0.685699 -0.067720  0.128525  ... -0.111047 -0.182093  0.045303\n",
              "2     0.359093 -0.978659  0.229191  ... -0.004545  0.553207  0.242791\n",
              "3    -0.629504 -0.016556  0.106309  ... -0.062650 -0.161258  0.020105\n",
              "4     0.211723  0.164066  0.159126  ...  0.162920 -0.039637 -0.149716\n",
              "...        ...       ...       ...  ...       ...       ...       ...\n",
              "5567 -0.041035 -0.604094  0.473397  ...  0.650780 -0.792226  0.681933\n",
              "5568 -0.129484 -0.566712 -0.158886  ...  0.030675 -0.055783 -0.158906\n",
              "5569 -0.338506  0.057612  0.124916  ... -0.103212  0.882087  0.472096\n",
              "5570  0.986443  0.303414  0.605474  ... -0.029259  1.383812 -0.006203\n",
              "5571 -0.091973 -0.550009 -0.170474  ...  0.079113 -0.021816 -0.195457\n",
              "\n",
              "[5572 rows x 10 columns]"
            ]
          },
          "metadata": {
            "tags": []
          },
          "execution_count": 82
        }
      ]
    },
    {
      "cell_type": "code",
      "metadata": {
        "colab": {
          "base_uri": "https://localhost:8080/",
          "height": 359
        },
        "id": "sn6FFO2Ydkwo",
        "outputId": "19c58231-7ced-42e9-f9a6-be2a60503ce1"
      },
      "source": [
        "lessdf.corr()"
      ],
      "execution_count": 83,
      "outputs": [
        {
          "output_type": "execute_result",
          "data": {
            "text/html": [
              "<div>\n",
              "<style scoped>\n",
              "    .dataframe tbody tr th:only-of-type {\n",
              "        vertical-align: middle;\n",
              "    }\n",
              "\n",
              "    .dataframe tbody tr th {\n",
              "        vertical-align: top;\n",
              "    }\n",
              "\n",
              "    .dataframe thead th {\n",
              "        text-align: right;\n",
              "    }\n",
              "</style>\n",
              "<table border=\"1\" class=\"dataframe\">\n",
              "  <thead>\n",
              "    <tr style=\"text-align: right;\">\n",
              "      <th></th>\n",
              "      <th>0</th>\n",
              "      <th>1</th>\n",
              "      <th>2</th>\n",
              "      <th>3</th>\n",
              "      <th>4</th>\n",
              "      <th>5</th>\n",
              "      <th>6</th>\n",
              "      <th>7</th>\n",
              "      <th>8</th>\n",
              "      <th>9</th>\n",
              "    </tr>\n",
              "  </thead>\n",
              "  <tbody>\n",
              "    <tr>\n",
              "      <th>0</th>\n",
              "      <td>1.000000e+00</td>\n",
              "      <td>2.493293e-17</td>\n",
              "      <td>-6.227849e-17</td>\n",
              "      <td>-4.126418e-17</td>\n",
              "      <td>2.547776e-17</td>\n",
              "      <td>-3.152133e-17</td>\n",
              "      <td>1.052141e-17</td>\n",
              "      <td>-4.670211e-17</td>\n",
              "      <td>-2.387352e-17</td>\n",
              "      <td>-2.885983e-17</td>\n",
              "    </tr>\n",
              "    <tr>\n",
              "      <th>1</th>\n",
              "      <td>2.493293e-17</td>\n",
              "      <td>1.000000e+00</td>\n",
              "      <td>3.569138e-16</td>\n",
              "      <td>-6.345970e-17</td>\n",
              "      <td>-1.774210e-17</td>\n",
              "      <td>2.214204e-16</td>\n",
              "      <td>-1.355723e-16</td>\n",
              "      <td>-8.672999e-17</td>\n",
              "      <td>-1.942760e-17</td>\n",
              "      <td>-4.821566e-17</td>\n",
              "    </tr>\n",
              "    <tr>\n",
              "      <th>2</th>\n",
              "      <td>-6.227849e-17</td>\n",
              "      <td>3.569138e-16</td>\n",
              "      <td>1.000000e+00</td>\n",
              "      <td>-2.146150e-17</td>\n",
              "      <td>-1.354352e-17</td>\n",
              "      <td>5.715211e-17</td>\n",
              "      <td>-1.241068e-16</td>\n",
              "      <td>1.651716e-16</td>\n",
              "      <td>-2.352369e-16</td>\n",
              "      <td>3.780621e-17</td>\n",
              "    </tr>\n",
              "    <tr>\n",
              "      <th>3</th>\n",
              "      <td>-4.126418e-17</td>\n",
              "      <td>-6.345970e-17</td>\n",
              "      <td>-2.146150e-17</td>\n",
              "      <td>1.000000e+00</td>\n",
              "      <td>-2.440758e-16</td>\n",
              "      <td>4.073780e-16</td>\n",
              "      <td>3.252821e-17</td>\n",
              "      <td>1.787955e-16</td>\n",
              "      <td>-2.197659e-16</td>\n",
              "      <td>1.887323e-16</td>\n",
              "    </tr>\n",
              "    <tr>\n",
              "      <th>4</th>\n",
              "      <td>2.547776e-17</td>\n",
              "      <td>-1.774210e-17</td>\n",
              "      <td>-1.354352e-17</td>\n",
              "      <td>-2.440758e-16</td>\n",
              "      <td>1.000000e+00</td>\n",
              "      <td>-4.680492e-16</td>\n",
              "      <td>-2.586419e-16</td>\n",
              "      <td>1.046385e-16</td>\n",
              "      <td>-4.078966e-17</td>\n",
              "      <td>-5.816685e-17</td>\n",
              "    </tr>\n",
              "    <tr>\n",
              "      <th>5</th>\n",
              "      <td>-3.152133e-17</td>\n",
              "      <td>2.214204e-16</td>\n",
              "      <td>5.715211e-17</td>\n",
              "      <td>4.073780e-16</td>\n",
              "      <td>-4.680492e-16</td>\n",
              "      <td>1.000000e+00</td>\n",
              "      <td>-1.691559e-17</td>\n",
              "      <td>-7.625405e-16</td>\n",
              "      <td>6.283873e-16</td>\n",
              "      <td>-2.524866e-18</td>\n",
              "    </tr>\n",
              "    <tr>\n",
              "      <th>6</th>\n",
              "      <td>1.052141e-17</td>\n",
              "      <td>-1.355723e-16</td>\n",
              "      <td>-1.241068e-16</td>\n",
              "      <td>3.252821e-17</td>\n",
              "      <td>-2.586419e-16</td>\n",
              "      <td>-1.691559e-17</td>\n",
              "      <td>1.000000e+00</td>\n",
              "      <td>8.483109e-17</td>\n",
              "      <td>-3.984868e-16</td>\n",
              "      <td>-1.036742e-16</td>\n",
              "    </tr>\n",
              "    <tr>\n",
              "      <th>7</th>\n",
              "      <td>-4.670211e-17</td>\n",
              "      <td>-8.672999e-17</td>\n",
              "      <td>1.651716e-16</td>\n",
              "      <td>1.787955e-16</td>\n",
              "      <td>1.046385e-16</td>\n",
              "      <td>-7.625405e-16</td>\n",
              "      <td>8.483109e-17</td>\n",
              "      <td>1.000000e+00</td>\n",
              "      <td>-5.718653e-16</td>\n",
              "      <td>-1.986443e-16</td>\n",
              "    </tr>\n",
              "    <tr>\n",
              "      <th>8</th>\n",
              "      <td>-2.387352e-17</td>\n",
              "      <td>-1.942760e-17</td>\n",
              "      <td>-2.352369e-16</td>\n",
              "      <td>-2.197659e-16</td>\n",
              "      <td>-4.078966e-17</td>\n",
              "      <td>6.283873e-16</td>\n",
              "      <td>-3.984868e-16</td>\n",
              "      <td>-5.718653e-16</td>\n",
              "      <td>1.000000e+00</td>\n",
              "      <td>-6.801638e-16</td>\n",
              "    </tr>\n",
              "    <tr>\n",
              "      <th>9</th>\n",
              "      <td>-2.885983e-17</td>\n",
              "      <td>-4.821566e-17</td>\n",
              "      <td>3.780621e-17</td>\n",
              "      <td>1.887323e-16</td>\n",
              "      <td>-5.816685e-17</td>\n",
              "      <td>-2.524866e-18</td>\n",
              "      <td>-1.036742e-16</td>\n",
              "      <td>-1.986443e-16</td>\n",
              "      <td>-6.801638e-16</td>\n",
              "      <td>1.000000e+00</td>\n",
              "    </tr>\n",
              "  </tbody>\n",
              "</table>\n",
              "</div>"
            ],
            "text/plain": [
              "              0             1  ...             8             9\n",
              "0  1.000000e+00  2.493293e-17  ... -2.387352e-17 -2.885983e-17\n",
              "1  2.493293e-17  1.000000e+00  ... -1.942760e-17 -4.821566e-17\n",
              "2 -6.227849e-17  3.569138e-16  ... -2.352369e-16  3.780621e-17\n",
              "3 -4.126418e-17 -6.345970e-17  ... -2.197659e-16  1.887323e-16\n",
              "4  2.547776e-17 -1.774210e-17  ... -4.078966e-17 -5.816685e-17\n",
              "5 -3.152133e-17  2.214204e-16  ...  6.283873e-16 -2.524866e-18\n",
              "6  1.052141e-17 -1.355723e-16  ... -3.984868e-16 -1.036742e-16\n",
              "7 -4.670211e-17 -8.672999e-17  ... -5.718653e-16 -1.986443e-16\n",
              "8 -2.387352e-17 -1.942760e-17  ...  1.000000e+00 -6.801638e-16\n",
              "9 -2.885983e-17 -4.821566e-17  ... -6.801638e-16  1.000000e+00\n",
              "\n",
              "[10 rows x 10 columns]"
            ]
          },
          "metadata": {
            "tags": []
          },
          "execution_count": 83
        }
      ]
    },
    {
      "cell_type": "code",
      "metadata": {
        "id": "y1mZzhbXduRx"
      },
      "source": [
        "# splitting data into train and test\n",
        "from sklearn.model_selection import train_test_split\n",
        "X_train, X_test, y_train, y_test = train_test_split( X_, Y, test_size=0.3, random_state=0)"
      ],
      "execution_count": 84,
      "outputs": []
    },
    {
      "cell_type": "code",
      "metadata": {
        "colab": {
          "base_uri": "https://localhost:8080/"
        },
        "id": "LwMGkelBd74o",
        "outputId": "7553db0f-fc33-4460-b8aa-07b680324578"
      },
      "source": [
        "len(X_train) , len(X_test)"
      ],
      "execution_count": 85,
      "outputs": [
        {
          "output_type": "execute_result",
          "data": {
            "text/plain": [
              "(3900, 1672)"
            ]
          },
          "metadata": {
            "tags": []
          },
          "execution_count": 85
        }
      ]
    },
    {
      "cell_type": "code",
      "metadata": {
        "id": "IYhZ8aDXeU_R"
      },
      "source": [
        "from sklearn.svm import SVC"
      ],
      "execution_count": 86,
      "outputs": []
    },
    {
      "cell_type": "code",
      "metadata": {
        "id": "7WFjhA6Pee_J"
      },
      "source": [
        "from sklearn.model_selection import RandomizedSearchCV"
      ],
      "execution_count": 87,
      "outputs": []
    },
    {
      "cell_type": "code",
      "metadata": {
        "id": "Fmcy216BfQeD"
      },
      "source": [
        "parameters = {'C': [0.1, 1, 10, 100], \n",
        "              'gamma': [1, 0.1, 0.01, 0.001],\n",
        "              'kernel': ['rbf' , 'poly' , 'linear']} "
      ],
      "execution_count": 88,
      "outputs": []
    },
    {
      "cell_type": "code",
      "metadata": {
        "id": "25EE3ytzfruW"
      },
      "source": [
        "classifier = RandomizedSearchCV(SVC() , param_distributions=parameters , n_iter=5 , n_jobs=-1 , cv=10 ,verbose=3 )"
      ],
      "execution_count": 89,
      "outputs": []
    },
    {
      "cell_type": "code",
      "metadata": {
        "id": "_aXVUI9XiQ0w"
      },
      "source": [
        "Y = Y.astype(int)"
      ],
      "execution_count": 90,
      "outputs": []
    },
    {
      "cell_type": "code",
      "metadata": {
        "colab": {
          "base_uri": "https://localhost:8080/"
        },
        "id": "eiesy6ikhfBx",
        "outputId": "dcc4f671-0b0b-41ea-993a-ef63f1082e19"
      },
      "source": [
        "classifier.fit(X_ , Y)"
      ],
      "execution_count": 91,
      "outputs": [
        {
          "output_type": "stream",
          "text": [
            "Fitting 10 folds for each of 5 candidates, totalling 50 fits\n"
          ],
          "name": "stdout"
        },
        {
          "output_type": "stream",
          "text": [
            "[Parallel(n_jobs=-1)]: Using backend LokyBackend with 2 concurrent workers.\n",
            "[Parallel(n_jobs=-1)]: Done  28 tasks      | elapsed:    5.5s\n",
            "[Parallel(n_jobs=-1)]: Done  50 out of  50 | elapsed:    8.0s finished\n",
            "/usr/local/lib/python3.7/dist-packages/sklearn/utils/validation.py:760: DataConversionWarning: A column-vector y was passed when a 1d array was expected. Please change the shape of y to (n_samples, ), for example using ravel().\n",
            "  y = column_or_1d(y, warn=True)\n"
          ],
          "name": "stderr"
        },
        {
          "output_type": "execute_result",
          "data": {
            "text/plain": [
              "RandomizedSearchCV(cv=10, error_score=nan,\n",
              "                   estimator=SVC(C=1.0, break_ties=False, cache_size=200,\n",
              "                                 class_weight=None, coef0=0.0,\n",
              "                                 decision_function_shape='ovr', degree=3,\n",
              "                                 gamma='scale', kernel='rbf', max_iter=-1,\n",
              "                                 probability=False, random_state=None,\n",
              "                                 shrinking=True, tol=0.001, verbose=False),\n",
              "                   iid='deprecated', n_iter=5, n_jobs=-1,\n",
              "                   param_distributions={'C': [0.1, 1, 10, 100],\n",
              "                                        'gamma': [1, 0.1, 0.01, 0.001],\n",
              "                                        'kernel': ['rbf', 'poly', 'linear']},\n",
              "                   pre_dispatch='2*n_jobs', random_state=None, refit=True,\n",
              "                   return_train_score=False, scoring=None, verbose=3)"
            ]
          },
          "metadata": {
            "tags": []
          },
          "execution_count": 91
        }
      ]
    },
    {
      "cell_type": "code",
      "metadata": {
        "colab": {
          "base_uri": "https://localhost:8080/"
        },
        "id": "RldbvIM8hsiT",
        "outputId": "76cb2cd2-4178-4885-e1da-b83629aed171"
      },
      "source": [
        "classifier.get_params"
      ],
      "execution_count": 92,
      "outputs": [
        {
          "output_type": "execute_result",
          "data": {
            "text/plain": [
              "<bound method BaseEstimator.get_params of RandomizedSearchCV(cv=10, error_score=nan,\n",
              "                   estimator=SVC(C=1.0, break_ties=False, cache_size=200,\n",
              "                                 class_weight=None, coef0=0.0,\n",
              "                                 decision_function_shape='ovr', degree=3,\n",
              "                                 gamma='scale', kernel='rbf', max_iter=-1,\n",
              "                                 probability=False, random_state=None,\n",
              "                                 shrinking=True, tol=0.001, verbose=False),\n",
              "                   iid='deprecated', n_iter=5, n_jobs=-1,\n",
              "                   param_distributions={'C': [0.1, 1, 10, 100],\n",
              "                                        'gamma': [1, 0.1, 0.01, 0.001],\n",
              "                                        'kernel': ['rbf', 'poly', 'linear']},\n",
              "                   pre_dispatch='2*n_jobs', random_state=None, refit=True,\n",
              "                   return_train_score=False, scoring=None, verbose=3)>"
            ]
          },
          "metadata": {
            "tags": []
          },
          "execution_count": 92
        }
      ]
    },
    {
      "cell_type": "code",
      "metadata": {
        "colab": {
          "base_uri": "https://localhost:8080/"
        },
        "id": "0U3GAnfBksAz",
        "outputId": "2b2b7a1b-b4be-4d54-b7f0-a9e64f7ce56b"
      },
      "source": [
        "classifier.best_estimator_"
      ],
      "execution_count": 93,
      "outputs": [
        {
          "output_type": "execute_result",
          "data": {
            "text/plain": [
              "SVC(C=0.1, break_ties=False, cache_size=200, class_weight=None, coef0=0.0,\n",
              "    decision_function_shape='ovr', degree=3, gamma=1, kernel='poly',\n",
              "    max_iter=-1, probability=False, random_state=None, shrinking=True,\n",
              "    tol=0.001, verbose=False)"
            ]
          },
          "metadata": {
            "tags": []
          },
          "execution_count": 93
        }
      ]
    },
    {
      "cell_type": "code",
      "metadata": {
        "id": "Qf4Bf2DXkzuQ"
      },
      "source": [
        "## POLY WON \n",
        "y_train = y_train.astype(int)\n",
        "y_test = y_test.astype(int)"
      ],
      "execution_count": 94,
      "outputs": []
    },
    {
      "cell_type": "code",
      "metadata": {
        "colab": {
          "base_uri": "https://localhost:8080/"
        },
        "id": "ndwbEji9lMpI",
        "outputId": "676bda43-441b-4e07-8aac-3df60e606c23"
      },
      "source": [
        "classifier = SVC(kernel='linear')\n",
        "classifier.fit(X_train , y_train)"
      ],
      "execution_count": 95,
      "outputs": [
        {
          "output_type": "stream",
          "text": [
            "/usr/local/lib/python3.7/dist-packages/sklearn/utils/validation.py:760: DataConversionWarning: A column-vector y was passed when a 1d array was expected. Please change the shape of y to (n_samples, ), for example using ravel().\n",
            "  y = column_or_1d(y, warn=True)\n"
          ],
          "name": "stderr"
        },
        {
          "output_type": "execute_result",
          "data": {
            "text/plain": [
              "SVC(C=1.0, break_ties=False, cache_size=200, class_weight=None, coef0=0.0,\n",
              "    decision_function_shape='ovr', degree=3, gamma='scale', kernel='linear',\n",
              "    max_iter=-1, probability=False, random_state=None, shrinking=True,\n",
              "    tol=0.001, verbose=False)"
            ]
          },
          "metadata": {
            "tags": []
          },
          "execution_count": 95
        }
      ]
    },
    {
      "cell_type": "code",
      "metadata": {
        "colab": {
          "base_uri": "https://localhost:8080/"
        },
        "id": "iYclMDxell31",
        "outputId": "06be9e5c-a137-41f9-db04-a7d503b0c51c"
      },
      "source": [
        "classifier.score(X_test , y_test)"
      ],
      "execution_count": 96,
      "outputs": [
        {
          "output_type": "execute_result",
          "data": {
            "text/plain": [
              "0.9294258373205742"
            ]
          },
          "metadata": {
            "tags": []
          },
          "execution_count": 96
        }
      ]
    },
    {
      "cell_type": "code",
      "metadata": {
        "id": "mKLEgKzylm8p"
      },
      "source": [
        "\n",
        "#now lets change kernel one by one and see the accuracy but before that lets build the confusion matrix of above\n"
      ],
      "execution_count": 97,
      "outputs": []
    },
    {
      "cell_type": "code",
      "metadata": {
        "colab": {
          "base_uri": "https://localhost:8080/",
          "height": 69
        },
        "id": "aJM3bVfklrnE",
        "outputId": "3f579fc0-9299-45ac-8b4d-e1feb1520ca3"
      },
      "source": [
        "\n",
        "\n",
        "y_pred = classifier.predict(X_test)\n",
        "from sklearn.metrics import classification_report , confusion_matrix\n",
        "\n",
        "from sklearn.metrics import ConfusionMatrixDisplay\n",
        "\n",
        "classification_report(y_test , y_pred)\n"
      ],
      "execution_count": 98,
      "outputs": [
        {
          "output_type": "execute_result",
          "data": {
            "application/vnd.google.colaboratory.intrinsic+json": {
              "type": "string"
            },
            "text/plain": [
              "'              precision    recall  f1-score   support\\n\\n           0       0.94      0.98      0.96      1434\\n           1       0.85      0.61      0.71       238\\n\\n    accuracy                           0.93      1672\\n   macro avg       0.90      0.80      0.84      1672\\nweighted avg       0.93      0.93      0.92      1672\\n'"
            ]
          },
          "metadata": {
            "tags": []
          },
          "execution_count": 98
        }
      ]
    },
    {
      "cell_type": "code",
      "metadata": {
        "colab": {
          "base_uri": "https://localhost:8080/",
          "height": 299
        },
        "id": "V-OhkY0Qlw8X",
        "outputId": "1d843564-4f28-4c5c-c0a3-2a2a8a4b92fd"
      },
      "source": [
        "\n",
        "\n",
        "cum = confusion_matrix(y_test , y_pred)\n",
        "matrix = ConfusionMatrixDisplay(cum , display_labels=classifier.classes_)\n",
        "matrix.plot()\n"
      ],
      "execution_count": 99,
      "outputs": [
        {
          "output_type": "execute_result",
          "data": {
            "text/plain": [
              "<sklearn.metrics._plot.confusion_matrix.ConfusionMatrixDisplay at 0x7ffb1a1d7850>"
            ]
          },
          "metadata": {
            "tags": []
          },
          "execution_count": 99
        },
        {
          "output_type": "display_data",
          "data": {
            "image/png": "[encoded data removed]",
            "text/plain": [
              "<Figure size 432x288 with 2 Axes>"
            ]
          },
          "metadata": {
            "tags": [],
            "needs_background": "light"
          }
        }
      ]
    },
    {
      "cell_type": "code",
      "metadata": {
        "colab": {
          "base_uri": "https://localhost:8080/",
          "height": 285
        },
        "id": "E2-qVLHll7hu",
        "outputId": "a898d870-65f7-47fc-c10d-bd3599d86797"
      },
      "source": [
        "\n",
        "import seaborn as sn\n",
        "\n",
        "\n",
        "sn.heatmap(cum , annot=True)\n"
      ],
      "execution_count": 100,
      "outputs": [
        {
          "output_type": "execute_result",
          "data": {
            "text/plain": [
              "<matplotlib.axes._subplots.AxesSubplot at 0x7ffb1a26e690>"
            ]
          },
          "metadata": {
            "tags": []
          },
          "execution_count": 100
        },
        {
          "output_type": "display_data",
          "data": {
            "image/png": "[encoded data removed]",
            "text/plain": [
              "<Figure size 432x288 with 2 Axes>"
            ]
          },
          "metadata": {
            "tags": [],
            "needs_background": "light"
          }
        }
      ]
    },
    {
      "cell_type": "markdown",
      "metadata": {
        "id": "gnLQ5QAzmIAZ"
      },
      "source": [
        "\n",
        "**Changing Kernels**\n",
        "\n",
        "Types of kernels are : <br>\n",
        "Linear kernel (already done) <br>\n",
        "Polynomial Kernel ( poly ) <br>\n",
        "Gaussian Kernel <br>\n",
        "sigmoid kernel <br>\n"
      ]
    },
    {
      "cell_type": "code",
      "metadata": {
        "colab": {
          "base_uri": "https://localhost:8080/"
        },
        "id": "pAUlW6aqmC3L",
        "outputId": "a069d618-0953-4751-c2f0-e53bea6254ca"
      },
      "source": [
        "\n",
        "model2 = SVC(kernel='poly')\n",
        "model2.fit(X_train , y_train)\n"
      ],
      "execution_count": 101,
      "outputs": [
        {
          "output_type": "stream",
          "text": [
            "/usr/local/lib/python3.7/dist-packages/sklearn/utils/validation.py:760: DataConversionWarning: A column-vector y was passed when a 1d array was expected. Please change the shape of y to (n_samples, ), for example using ravel().\n",
            "  y = column_or_1d(y, warn=True)\n"
          ],
          "name": "stderr"
        },
        {
          "output_type": "execute_result",
          "data": {
            "text/plain": [
              "SVC(C=1.0, break_ties=False, cache_size=200, class_weight=None, coef0=0.0,\n",
              "    decision_function_shape='ovr', degree=3, gamma='scale', kernel='poly',\n",
              "    max_iter=-1, probability=False, random_state=None, shrinking=True,\n",
              "    tol=0.001, verbose=False)"
            ]
          },
          "metadata": {
            "tags": []
          },
          "execution_count": 101
        }
      ]
    },
    {
      "cell_type": "code",
      "metadata": {
        "colab": {
          "base_uri": "https://localhost:8080/"
        },
        "id": "-DrjQU1GmtEl",
        "outputId": "486a8ac5-164f-404a-9046-11f2ebd81ba2"
      },
      "source": [
        "\n",
        "model2.score(X_test , y_test)\n"
      ],
      "execution_count": 102,
      "outputs": [
        {
          "output_type": "execute_result",
          "data": {
            "text/plain": [
              "0.9366028708133971"
            ]
          },
          "metadata": {
            "tags": []
          },
          "execution_count": 102
        }
      ]
    },
    {
      "cell_type": "code",
      "metadata": {
        "colab": {
          "base_uri": "https://localhost:8080/"
        },
        "id": "Q1dGoyEUmMOA",
        "outputId": "52c87976-f2da-4034-ecc2-3c7e9bed7c95"
      },
      "source": [
        "model3 = SVC(kernel='rbf')\n",
        "model3.fit(X_train , y_train)\n"
      ],
      "execution_count": 103,
      "outputs": [
        {
          "output_type": "stream",
          "text": [
            "/usr/local/lib/python3.7/dist-packages/sklearn/utils/validation.py:760: DataConversionWarning: A column-vector y was passed when a 1d array was expected. Please change the shape of y to (n_samples, ), for example using ravel().\n",
            "  y = column_or_1d(y, warn=True)\n"
          ],
          "name": "stderr"
        },
        {
          "output_type": "execute_result",
          "data": {
            "text/plain": [
              "SVC(C=1.0, break_ties=False, cache_size=200, class_weight=None, coef0=0.0,\n",
              "    decision_function_shape='ovr', degree=3, gamma='scale', kernel='rbf',\n",
              "    max_iter=-1, probability=False, random_state=None, shrinking=True,\n",
              "    tol=0.001, verbose=False)"
            ]
          },
          "metadata": {
            "tags": []
          },
          "execution_count": 103
        }
      ]
    },
    {
      "cell_type": "code",
      "metadata": {
        "colab": {
          "base_uri": "https://localhost:8080/"
        },
        "id": "n4ReaRxHmuhz",
        "outputId": "e08c0180-4e84-47e5-c7ec-bfe0d26e5e11"
      },
      "source": [
        "\n",
        "model3.score(X_test , y_test)\n"
      ],
      "execution_count": 104,
      "outputs": [
        {
          "output_type": "execute_result",
          "data": {
            "text/plain": [
              "0.9425837320574163"
            ]
          },
          "metadata": {
            "tags": []
          },
          "execution_count": 104
        }
      ]
    },
    {
      "cell_type": "code",
      "metadata": {
        "colab": {
          "base_uri": "https://localhost:8080/"
        },
        "id": "N_FbffM1mT1G",
        "outputId": "af5bb52d-c190-4ede-cb92-fc97503afa30"
      },
      "source": [
        "model4 = SVC(kernel='sigmoid')\n",
        "model4.fit(X_train , y_train)"
      ],
      "execution_count": 105,
      "outputs": [
        {
          "output_type": "stream",
          "text": [
            "/usr/local/lib/python3.7/dist-packages/sklearn/utils/validation.py:760: DataConversionWarning: A column-vector y was passed when a 1d array was expected. Please change the shape of y to (n_samples, ), for example using ravel().\n",
            "  y = column_or_1d(y, warn=True)\n"
          ],
          "name": "stderr"
        },
        {
          "output_type": "execute_result",
          "data": {
            "text/plain": [
              "SVC(C=1.0, break_ties=False, cache_size=200, class_weight=None, coef0=0.0,\n",
              "    decision_function_shape='ovr', degree=3, gamma='scale', kernel='sigmoid',\n",
              "    max_iter=-1, probability=False, random_state=None, shrinking=True,\n",
              "    tol=0.001, verbose=False)"
            ]
          },
          "metadata": {
            "tags": []
          },
          "execution_count": 105
        }
      ]
    },
    {
      "cell_type": "code",
      "metadata": {
        "colab": {
          "base_uri": "https://localhost:8080/"
        },
        "id": "baiM4Q1xmkRp",
        "outputId": "6656cb65-1d0b-4735-e1c5-e26723765651"
      },
      "source": [
        "\n",
        "model4.score(X_test , y_test)\n"
      ],
      "execution_count": 106,
      "outputs": [
        {
          "output_type": "execute_result",
          "data": {
            "text/plain": [
              "0.8648325358851675"
            ]
          },
          "metadata": {
            "tags": []
          },
          "execution_count": 106
        }
      ]
    },
    {
      "cell_type": "code",
      "metadata": {
        "colab": {
          "base_uri": "https://localhost:8080/",
          "height": 282
        },
        "id": "msDYHnQGmyUh",
        "outputId": "8524222e-d473-415b-bf21-145ca3d65be8"
      },
      "source": [
        "#plotting the features\n",
        "y_train = y_train.astype(int)\n",
        "import matplotlib.pyplot as plt\n",
        "plt.scatter(X_[:,0], X_[:,5], c=Y.to_numpy(), s=25, cmap='autumn')"
      ],
      "execution_count": 107,
      "outputs": [
        {
          "output_type": "execute_result",
          "data": {
            "text/plain": [
              "<matplotlib.collections.PathCollection at 0x7ffb1a34c210>"
            ]
          },
          "metadata": {
            "tags": []
          },
          "execution_count": 107
        },
        {
          "output_type": "display_data",
          "data": {
            "image/png": "[encoded data removed]",
            "text/plain": [
              "<Figure size 432x288 with 1 Axes>"
            ]
          },
          "metadata": {
            "tags": [],
            "needs_background": "light"
          }
        }
      ]
    },
    {
      "cell_type": "code",
      "metadata": {
        "id": "Jmr7FrZjnKik",
        "colab": {
          "base_uri": "https://localhost:8080/"
        },
        "outputId": "bbd5ae10-7737-4710-879a-eaf6b20c0a8a"
      },
      "source": [
        "X_[:,0]"
      ],
      "execution_count": 108,
      "outputs": [
        {
          "output_type": "execute_result",
          "data": {
            "text/plain": [
              "array([-0.48097292, -0.68569898,  0.35909322, ..., -0.33850623,\n",
              "        0.98644304, -0.09197297])"
            ]
          },
          "metadata": {
            "tags": []
          },
          "execution_count": 108
        }
      ]
    },
    {
      "cell_type": "code",
      "metadata": {
        "colab": {
          "base_uri": "https://localhost:8080/"
        },
        "id": "UCayfPdB6I7Q",
        "outputId": "db20aee7-0fe4-4cef-c356-47fd8872082b"
      },
      "source": [
        "Y.to_numpy()"
      ],
      "execution_count": 109,
      "outputs": [
        {
          "output_type": "execute_result",
          "data": {
            "text/plain": [
              "array([[0],\n",
              "       [0],\n",
              "       [1],\n",
              "       ...,\n",
              "       [0],\n",
              "       [0],\n",
              "       [0]])"
            ]
          },
          "metadata": {
            "tags": []
          },
          "execution_count": 109
        }
      ]
    },
    {
      "cell_type": "code",
      "metadata": {
        "colab": {
          "base_uri": "https://localhost:8080/",
          "height": 282
        },
        "id": "qp5Pu2kL64Bf",
        "outputId": "5d1687d4-59fa-4acb-ded6-df945c4ce8aa"
      },
      "source": [
        "plt.scatter(X_[:,1], X_[:,0], c=Y.to_numpy(), s=25, cmap='autumn')"
      ],
      "execution_count": 114,
      "outputs": [
        {
          "output_type": "execute_result",
          "data": {
            "text/plain": [
              "<matplotlib.collections.PathCollection at 0x7ffb1a46bd90>"
            ]
          },
          "metadata": {
            "tags": []
          },
          "execution_count": 114
        },
        {
          "output_type": "display_data",
          "data": {
            "image/png": "[encoded data removed]",
            "text/plain": [
              "<Figure size 432x288 with 1 Axes>"
            ]
          },
          "metadata": {
            "tags": [],
            "needs_background": "light"
          }
        }
      ]
    },
    {
      "cell_type": "code",
      "metadata": {
        "colab": {
          "base_uri": "https://localhost:8080/"
        },
        "id": "rvj8Wl5y7yw_",
        "outputId": "ea5f568c-74b4-43a8-f59c-db6211ee1616"
      },
      "source": [
        "X_train"
      ],
      "execution_count": 115,
      "outputs": [
        {
          "output_type": "execute_result",
          "data": {
            "text/plain": [
              "array([[-0.60908575, -0.13948767, -0.15805838, ..., -0.08098617,\n",
              "         0.03250084,  0.01981688],\n",
              "       [ 0.22631502, -0.2054361 , -0.87899762, ...,  0.18382946,\n",
              "        -0.16132453, -0.05310011],\n",
              "       [ 0.17496928, -0.59404146, -0.10451901, ...,  0.12073939,\n",
              "         0.20254845,  0.18286295],\n",
              "       ...,\n",
              "       [ 0.21315431,  0.63700711,  0.84872742, ..., -0.42783304,\n",
              "        -0.48680479,  0.1973464 ],\n",
              "       [-0.08291143, -0.15045904,  0.13259537, ..., -0.32048758,\n",
              "        -0.3753745 , -0.1035441 ],\n",
              "       [ 0.60892259,  0.51330408, -0.52557583, ...,  0.01032429,\n",
              "        -0.47178643,  0.21544954]])"
            ]
          },
          "metadata": {
            "tags": []
          },
          "execution_count": 115
        }
      ]
    },
    {
      "cell_type": "code",
      "metadata": {
        "colab": {
          "base_uri": "https://localhost:8080/",
          "height": 282
        },
        "id": "jT_DY9tV85mX",
        "outputId": "1a7bcd23-567c-4ddf-d9bf-2cc1f4748c1d"
      },
      "source": [
        "plt.scatter(X_test[:,1], X_test[:,5], c=y_test.to_numpy(), s=25, cmap='autumn')"
      ],
      "execution_count": 118,
      "outputs": [
        {
          "output_type": "execute_result",
          "data": {
            "text/plain": [
              "<matplotlib.collections.PathCollection at 0x7ffb1a55f390>"
            ]
          },
          "metadata": {
            "tags": []
          },
          "execution_count": 118
        },
        {
          "output_type": "display_data",
          "data": {
            "image/png": "[encoded data removed]",
            "text/plain": [
              "<Figure size 432x288 with 1 Axes>"
            ]
          },
          "metadata": {
            "tags": [],
            "needs_background": "light"
          }
        }
      ]
    },
    {
      "cell_type": "code",
      "metadata": {
        "id": "Tw3bQlNC9DPF"
      },
      "source": [
        ""
      ],
      "execution_count": null,
      "outputs": []
    }
  ]
}