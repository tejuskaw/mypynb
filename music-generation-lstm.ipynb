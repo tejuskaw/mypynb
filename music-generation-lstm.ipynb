{
  "nbformat": 4,
  "nbformat_minor": 0,
  "metadata": {
    "kernelspec": {
      "display_name": "Python 3",
      "language": "python",
      "name": "python3"
    },
    "language_info": {
      "codemirror_mode": {
        "name": "ipython",
        "version": 3
      },
      "file_extension": ".py",
      "mimetype": "text/x-python",
      "name": "python",
      "nbconvert_exporter": "python",
      "pygments_lexer": "ipython3",
      "version": "3.9.2"
    },
    "colab": {
      "name": "music-generation-lstm.ipynb",
      "provenance": []
    },
    "accelerator": "GPU"
  },
  "cells": [
    {
      "cell_type": "code",
      "metadata": {
        "id": "fC6TSmoOAeU5",
        "outputId": "f601ddcb-06a8-40cd-99db-c1432e6d9704",
        "colab": {
          "base_uri": "https://localhost:8080/"
        }
      },
      "source": [
        "!pip3 install numpy pandas"
      ],
      "execution_count": 1,
      "outputs": [
        {
          "output_type": "stream",
          "name": "stdout",
          "text": [
            "Requirement already satisfied: numpy in /usr/local/lib/python3.7/dist-packages (1.19.5)\n",
            "Requirement already satisfied: pandas in /usr/local/lib/python3.7/dist-packages (1.1.5)\n",
            "Requirement already satisfied: python-dateutil>=2.7.3 in /usr/local/lib/python3.7/dist-packages (from pandas) (2.8.2)\n",
            "Requirement already satisfied: pytz>=2017.2 in /usr/local/lib/python3.7/dist-packages (from pandas) (2018.9)\n",
            "Requirement already satisfied: six>=1.5 in /usr/local/lib/python3.7/dist-packages (from python-dateutil>=2.7.3->pandas) (1.15.0)\n"
          ]
        }
      ]
    },
    {
      "cell_type": "code",
      "metadata": {
        "_kg_hide-input": true,
        "_kg_hide-output": true,
        "execution": {
          "iopub.execute_input": "2021-10-11T11:16:18.677034Z",
          "iopub.status.busy": "2021-10-11T11:16:18.676798Z",
          "iopub.status.idle": "2021-10-11T11:17:00.625141Z",
          "shell.execute_reply": "2021-10-11T11:17:00.624313Z",
          "shell.execute_reply.started": "2021-10-11T11:16:18.676965Z"
        },
        "id": "hzPO2iC5AeU8",
        "outputId": "d6674944-2a84-44d7-ce36-93d6bcc2390c",
        "colab": {
          "base_uri": "https://localhost:8080/"
        }
      },
      "source": [
        "import numpy as np # linear algebra\n",
        "import pandas as pd # data processing, CSV file I/O (e.g. pd.read_csv)\n",
        "\n",
        "import os\n",
        "for dirname, _, filenames in os.walk('./data'):\n",
        "    for filename in filenames:\n",
        "        print(os.path.join(dirname, filename))\n",
        "\n",
        "!pip3 install music21\n",
        "!sudo apt-get install -y lilypond"
      ],
      "execution_count": 2,
      "outputs": [
        {
          "output_type": "stream",
          "name": "stdout",
          "text": [
            "Requirement already satisfied: music21 in /usr/local/lib/python3.7/dist-packages (5.5.0)\n",
            "Reading package lists... Done\n",
            "Building dependency tree       \n",
            "Reading state information... Done\n",
            "The following additional packages will be installed:\n",
            "  fonts-droid-fallback fonts-lmodern fonts-noto-mono ghostscript gsfonts\n",
            "  libauthen-sasl-perl libcupsfilters1 libcupsimage2 libdata-dump-perl\n",
            "  libencode-locale-perl libfile-listing-perl libfont-afm-perl libgs9\n",
            "  libgs9-common libhtml-form-perl libhtml-format-perl libhtml-parser-perl\n",
            "  libhtml-tagset-perl libhtml-tree-perl libhttp-cookies-perl\n",
            "  libhttp-daemon-perl libhttp-date-perl libhttp-message-perl\n",
            "  libhttp-negotiate-perl libijs-0.35 libio-html-perl libio-socket-ssl-perl\n",
            "  libjbig2dec0 libkpathsea6 liblwp-mediatypes-perl liblwp-protocol-https-perl\n",
            "  libmailtools-perl libnet-http-perl libnet-smtp-ssl-perl libnet-ssleay-perl\n",
            "  libpotrace0 libptexenc1 libsynctex1 libtexlua52 libtexluajit2\n",
            "  libtext-unidecode-perl libtimedate-perl libtry-tiny-perl liburi-perl\n",
            "  libwww-perl libwww-robotrules-perl libxml-libxml-perl\n",
            "  libxml-namespacesupport-perl libxml-parser-perl libxml-sax-base-perl\n",
            "  libxml-sax-expat-perl libxml-sax-perl libzzip-0-13 lilypond-data lmodern\n",
            "  netbase perl-openssl-defaults poppler-data t1utils tex-common texinfo\n",
            "  texlive-base texlive-binaries texlive-latex-base\n",
            "Suggested packages:\n",
            "  fonts-noto ghostscript-x libdigest-hmac-perl libgssapi-perl\n",
            "  libcrypt-ssleay-perl libauthen-ntlm-perl lilypond-doc poppler-utils\n",
            "  fonts-japanese-mincho | fonts-ipafont-mincho fonts-japanese-gothic\n",
            "  | fonts-ipafont-gothic fonts-arphic-ukai fonts-arphic-uming fonts-nanum\n",
            "  debhelper texlive-generic-recommended texinfo-doc-nonfree\n",
            "  texlive-fonts-recommended perl-tk xpdf-reader | pdf-viewer\n",
            "  texlive-latex-base-doc\n",
            "The following NEW packages will be installed:\n",
            "  fonts-droid-fallback fonts-lmodern fonts-noto-mono ghostscript gsfonts\n",
            "  libauthen-sasl-perl libcupsfilters1 libcupsimage2 libdata-dump-perl\n",
            "  libencode-locale-perl libfile-listing-perl libfont-afm-perl libgs9\n",
            "  libgs9-common libhtml-form-perl libhtml-format-perl libhtml-parser-perl\n",
            "  libhtml-tagset-perl libhtml-tree-perl libhttp-cookies-perl\n",
            "  libhttp-daemon-perl libhttp-date-perl libhttp-message-perl\n",
            "  libhttp-negotiate-perl libijs-0.35 libio-html-perl libio-socket-ssl-perl\n",
            "  libjbig2dec0 libkpathsea6 liblwp-mediatypes-perl liblwp-protocol-https-perl\n",
            "  libmailtools-perl libnet-http-perl libnet-smtp-ssl-perl libnet-ssleay-perl\n",
            "  libpotrace0 libptexenc1 libsynctex1 libtexlua52 libtexluajit2\n",
            "  libtext-unidecode-perl libtimedate-perl libtry-tiny-perl liburi-perl\n",
            "  libwww-perl libwww-robotrules-perl libxml-libxml-perl\n",
            "  libxml-namespacesupport-perl libxml-parser-perl libxml-sax-base-perl\n",
            "  libxml-sax-expat-perl libxml-sax-perl libzzip-0-13 lilypond lilypond-data\n",
            "  lmodern netbase perl-openssl-defaults poppler-data t1utils tex-common\n",
            "  texinfo texlive-base texlive-binaries texlive-latex-base\n",
            "0 upgraded, 65 newly installed, 0 to remove and 37 not upgraded.\n",
            "Need to get 63.4 MB of archives.\n",
            "After this operation, 227 MB of additional disk space will be used.\n",
            "Get:1 http://archive.ubuntu.com/ubuntu bionic/main amd64 fonts-droid-fallback all 1:6.0.1r16-1.1 [1,805 kB]\n",
            "Get:2 http://archive.ubuntu.com/ubuntu bionic/main amd64 poppler-data all 0.4.8-2 [1,479 kB]\n",
            "Get:3 http://archive.ubuntu.com/ubuntu bionic/main amd64 tex-common all 6.09 [33.0 kB]\n",
            "Get:4 http://archive.ubuntu.com/ubuntu bionic/main amd64 netbase all 5.4 [12.7 kB]\n",
            "Get:5 http://archive.ubuntu.com/ubuntu bionic/main amd64 fonts-lmodern all 2.004.5-3 [4,551 kB]\n",
            "Get:6 http://archive.ubuntu.com/ubuntu bionic/main amd64 fonts-noto-mono all 20171026-2 [75.5 kB]\n",
            "Get:7 http://archive.ubuntu.com/ubuntu bionic-updates/main amd64 libcupsimage2 amd64 2.2.7-1ubuntu2.8 [18.6 kB]\n",
            "Get:8 http://archive.ubuntu.com/ubuntu bionic/main amd64 libijs-0.35 amd64 0.35-13 [15.5 kB]\n",
            "Get:9 http://archive.ubuntu.com/ubuntu bionic/main amd64 libjbig2dec0 amd64 0.13-6 [55.9 kB]\n",
            "Get:10 http://archive.ubuntu.com/ubuntu bionic-updates/main amd64 libgs9-common all 9.26~dfsg+0-0ubuntu0.18.04.14 [5,092 kB]\n",
            "Get:11 http://archive.ubuntu.com/ubuntu bionic-updates/main amd64 libgs9 amd64 9.26~dfsg+0-0ubuntu0.18.04.14 [2,265 kB]\n",
            "Get:12 http://archive.ubuntu.com/ubuntu bionic-updates/main amd64 ghostscript amd64 9.26~dfsg+0-0ubuntu0.18.04.14 [51.3 kB]\n",
            "Get:13 http://archive.ubuntu.com/ubuntu bionic/main amd64 gsfonts all 1:8.11+urwcyr1.0.7~pre44-4.4 [3,120 kB]\n",
            "Get:14 http://archive.ubuntu.com/ubuntu bionic-updates/main amd64 libcupsfilters1 amd64 1.20.2-0ubuntu3.1 [108 kB]\n",
            "Get:15 http://archive.ubuntu.com/ubuntu bionic/main amd64 libdata-dump-perl all 1.23-1 [27.0 kB]\n",
            "Get:16 http://archive.ubuntu.com/ubuntu bionic/main amd64 libencode-locale-perl all 1.05-1 [12.3 kB]\n",
            "Get:17 http://archive.ubuntu.com/ubuntu bionic/main amd64 libtimedate-perl all 2.3000-2 [37.5 kB]\n",
            "Get:18 http://archive.ubuntu.com/ubuntu bionic/main amd64 libhttp-date-perl all 6.02-1 [10.4 kB]\n",
            "Get:19 http://archive.ubuntu.com/ubuntu bionic/main amd64 libfile-listing-perl all 6.04-1 [9,774 B]\n",
            "Get:20 http://archive.ubuntu.com/ubuntu bionic/main amd64 libfont-afm-perl all 1.20-2 [13.2 kB]\n",
            "Get:21 http://archive.ubuntu.com/ubuntu bionic/main amd64 libhtml-tagset-perl all 3.20-3 [12.1 kB]\n",
            "Get:22 http://archive.ubuntu.com/ubuntu bionic/main amd64 liburi-perl all 1.73-1 [77.2 kB]\n",
            "Get:23 http://archive.ubuntu.com/ubuntu bionic/main amd64 libhtml-parser-perl amd64 3.72-3build1 [85.9 kB]\n",
            "Get:24 http://archive.ubuntu.com/ubuntu bionic/main amd64 libio-html-perl all 1.001-1 [14.9 kB]\n",
            "Get:25 http://archive.ubuntu.com/ubuntu bionic/main amd64 liblwp-mediatypes-perl all 6.02-1 [21.7 kB]\n",
            "Get:26 http://archive.ubuntu.com/ubuntu bionic/main amd64 libhttp-message-perl all 6.14-1 [72.1 kB]\n",
            "Get:27 http://archive.ubuntu.com/ubuntu bionic/main amd64 libhtml-form-perl all 6.03-1 [23.5 kB]\n",
            "Get:28 http://archive.ubuntu.com/ubuntu bionic/main amd64 libhtml-tree-perl all 5.07-1 [200 kB]\n",
            "Get:29 http://archive.ubuntu.com/ubuntu bionic/main amd64 libhtml-format-perl all 2.12-1 [41.3 kB]\n",
            "Get:30 http://archive.ubuntu.com/ubuntu bionic/main amd64 libhttp-cookies-perl all 6.04-1 [17.2 kB]\n",
            "Get:31 http://archive.ubuntu.com/ubuntu bionic/main amd64 libhttp-daemon-perl all 6.01-1 [17.0 kB]\n",
            "Get:32 http://archive.ubuntu.com/ubuntu bionic/main amd64 libhttp-negotiate-perl all 6.00-2 [13.4 kB]\n",
            "Get:33 http://archive.ubuntu.com/ubuntu bionic/main amd64 perl-openssl-defaults amd64 3build1 [7,012 B]\n",
            "Get:34 http://archive.ubuntu.com/ubuntu bionic-updates/main amd64 libnet-ssleay-perl amd64 1.84-1ubuntu0.2 [283 kB]\n",
            "Get:35 http://archive.ubuntu.com/ubuntu bionic-updates/main amd64 libio-socket-ssl-perl all 2.060-3~ubuntu18.04.1 [173 kB]\n",
            "Get:36 http://archive.ubuntu.com/ubuntu bionic-updates/main amd64 libkpathsea6 amd64 2017.20170613.44572-8ubuntu0.1 [54.9 kB]\n",
            "Get:37 http://archive.ubuntu.com/ubuntu bionic/main amd64 libnet-http-perl all 6.17-1 [22.7 kB]\n",
            "Get:38 http://archive.ubuntu.com/ubuntu bionic/main amd64 libtry-tiny-perl all 0.30-1 [20.5 kB]\n",
            "Get:39 http://archive.ubuntu.com/ubuntu bionic/main amd64 libwww-robotrules-perl all 6.01-1 [14.1 kB]\n",
            "Get:40 http://archive.ubuntu.com/ubuntu bionic-updates/main amd64 libwww-perl all 6.31-1ubuntu0.1 [137 kB]\n",
            "Get:41 http://archive.ubuntu.com/ubuntu bionic/main amd64 liblwp-protocol-https-perl all 6.07-2 [8,284 B]\n",
            "Get:42 http://archive.ubuntu.com/ubuntu bionic/main amd64 libnet-smtp-ssl-perl all 1.04-1 [5,948 B]\n",
            "Get:43 http://archive.ubuntu.com/ubuntu bionic/main amd64 libmailtools-perl all 2.18-1 [74.0 kB]\n",
            "Get:44 http://archive.ubuntu.com/ubuntu bionic/main amd64 libpotrace0 amd64 1.14-2 [17.4 kB]\n",
            "Get:45 http://archive.ubuntu.com/ubuntu bionic-updates/main amd64 libptexenc1 amd64 2017.20170613.44572-8ubuntu0.1 [34.5 kB]\n",
            "Get:46 http://archive.ubuntu.com/ubuntu bionic-updates/main amd64 libsynctex1 amd64 2017.20170613.44572-8ubuntu0.1 [41.4 kB]\n",
            "Get:47 http://archive.ubuntu.com/ubuntu bionic-updates/main amd64 libtexlua52 amd64 2017.20170613.44572-8ubuntu0.1 [91.2 kB]\n",
            "Get:48 http://archive.ubuntu.com/ubuntu bionic-updates/main amd64 libtexluajit2 amd64 2017.20170613.44572-8ubuntu0.1 [230 kB]\n",
            "Get:49 http://archive.ubuntu.com/ubuntu bionic/universe amd64 libtext-unidecode-perl all 1.30-1 [99.0 kB]\n",
            "Get:50 http://archive.ubuntu.com/ubuntu bionic/main amd64 libxml-namespacesupport-perl all 1.12-1 [13.2 kB]\n",
            "Get:51 http://archive.ubuntu.com/ubuntu bionic/main amd64 libxml-sax-base-perl all 1.09-1 [18.8 kB]\n",
            "Get:52 http://archive.ubuntu.com/ubuntu bionic/main amd64 libxml-sax-perl all 0.99+dfsg-2ubuntu1 [64.6 kB]\n",
            "Get:53 http://archive.ubuntu.com/ubuntu bionic/main amd64 libxml-libxml-perl amd64 2.0128+dfsg-5 [316 kB]\n",
            "Get:54 http://archive.ubuntu.com/ubuntu bionic/main amd64 libxml-parser-perl amd64 2.44-2build3 [199 kB]\n",
            "Get:55 http://archive.ubuntu.com/ubuntu bionic/main amd64 libxml-sax-expat-perl all 0.40-2 [11.5 kB]\n",
            "Get:56 http://archive.ubuntu.com/ubuntu bionic-updates/main amd64 libzzip-0-13 amd64 0.13.62-3.1ubuntu0.18.04.1 [26.0 kB]\n",
            "Get:57 http://archive.ubuntu.com/ubuntu bionic/universe amd64 texinfo amd64 6.5.0.dfsg.1-2 [752 kB]\n",
            "Get:58 http://archive.ubuntu.com/ubuntu bionic/main amd64 t1utils amd64 1.41-2 [56.0 kB]\n",
            "Get:59 http://archive.ubuntu.com/ubuntu bionic-updates/main amd64 texlive-binaries amd64 2017.20170613.44572-8ubuntu0.1 [8,179 kB]\n",
            "Get:60 http://archive.ubuntu.com/ubuntu bionic/universe amd64 lilypond-data all 2.18.2-12build1 [1,799 kB]\n",
            "Get:61 http://archive.ubuntu.com/ubuntu bionic/universe amd64 lilypond amd64 2.18.2-12build1 [1,928 kB]\n",
            "Get:62 http://archive.ubuntu.com/ubuntu bionic/main amd64 lmodern all 2.004.5-3 [9,631 kB]\n",
            "Get:63 http://archive.ubuntu.com/ubuntu bionic/main amd64 texlive-base all 2017.20180305-1 [18.7 MB]\n",
            "Get:64 http://archive.ubuntu.com/ubuntu bionic/main amd64 texlive-latex-base all 2017.20180305-1 [951 kB]\n",
            "Get:65 http://archive.ubuntu.com/ubuntu bionic/main amd64 libauthen-sasl-perl all 2.1600-1 [48.7 kB]\n",
            "Fetched 63.4 MB in 4s (14.2 MB/s)\n",
            "debconf: unable to initialize frontend: Dialog\n",
            "debconf: (No usable dialog-like program is installed, so the dialog based frontend cannot be used. at /usr/share/perl5/Debconf/FrontEnd/Dialog.pm line 76, <> line 65.)\n",
            "debconf: falling back to frontend: Readline\n",
            "debconf: unable to initialize frontend: Readline\n",
            "debconf: (This frontend requires a controlling tty.)\n",
            "debconf: falling back to frontend: Teletype\n",
            "dpkg-preconfigure: unable to re-open stdin: \n",
            "Selecting previously unselected package fonts-droid-fallback.\n",
            "(Reading database ... 155222 files and directories currently installed.)\n",
            "Preparing to unpack .../00-fonts-droid-fallback_1%3a6.0.1r16-1.1_all.deb ...\n",
            "Unpacking fonts-droid-fallback (1:6.0.1r16-1.1) ...\n",
            "Selecting previously unselected package poppler-data.\n",
            "Preparing to unpack .../01-poppler-data_0.4.8-2_all.deb ...\n",
            "Unpacking poppler-data (0.4.8-2) ...\n",
            "Selecting previously unselected package tex-common.\n",
            "Preparing to unpack .../02-tex-common_6.09_all.deb ...\n",
            "Unpacking tex-common (6.09) ...\n",
            "Selecting previously unselected package netbase.\n",
            "Preparing to unpack .../03-netbase_5.4_all.deb ...\n",
            "Unpacking netbase (5.4) ...\n",
            "Selecting previously unselected package fonts-lmodern.\n",
            "Preparing to unpack .../04-fonts-lmodern_2.004.5-3_all.deb ...\n",
            "Unpacking fonts-lmodern (2.004.5-3) ...\n",
            "Selecting previously unselected package fonts-noto-mono.\n",
            "Preparing to unpack .../05-fonts-noto-mono_20171026-2_all.deb ...\n",
            "Unpacking fonts-noto-mono (20171026-2) ...\n",
            "Selecting previously unselected package libcupsimage2:amd64.\n",
            "Preparing to unpack .../06-libcupsimage2_2.2.7-1ubuntu2.8_amd64.deb ...\n",
            "Unpacking libcupsimage2:amd64 (2.2.7-1ubuntu2.8) ...\n",
            "Selecting previously unselected package libijs-0.35:amd64.\n",
            "Preparing to unpack .../07-libijs-0.35_0.35-13_amd64.deb ...\n",
            "Unpacking libijs-0.35:amd64 (0.35-13) ...\n",
            "Selecting previously unselected package libjbig2dec0:amd64.\n",
            "Preparing to unpack .../08-libjbig2dec0_0.13-6_amd64.deb ...\n",
            "Unpacking libjbig2dec0:amd64 (0.13-6) ...\n",
            "Selecting previously unselected package libgs9-common.\n",
            "Preparing to unpack .../09-libgs9-common_9.26~dfsg+0-0ubuntu0.18.04.14_all.deb ...\n",
            "Unpacking libgs9-common (9.26~dfsg+0-0ubuntu0.18.04.14) ...\n",
            "Selecting previously unselected package libgs9:amd64.\n",
            "Preparing to unpack .../10-libgs9_9.26~dfsg+0-0ubuntu0.18.04.14_amd64.deb ...\n",
            "Unpacking libgs9:amd64 (9.26~dfsg+0-0ubuntu0.18.04.14) ...\n",
            "Selecting previously unselected package ghostscript.\n",
            "Preparing to unpack .../11-ghostscript_9.26~dfsg+0-0ubuntu0.18.04.14_amd64.deb ...\n",
            "Unpacking ghostscript (9.26~dfsg+0-0ubuntu0.18.04.14) ...\n",
            "Selecting previously unselected package gsfonts.\n",
            "Preparing to unpack .../12-gsfonts_1%3a8.11+urwcyr1.0.7~pre44-4.4_all.deb ...\n",
            "Unpacking gsfonts (1:8.11+urwcyr1.0.7~pre44-4.4) ...\n",
            "Selecting previously unselected package libcupsfilters1:amd64.\n",
            "Preparing to unpack .../13-libcupsfilters1_1.20.2-0ubuntu3.1_amd64.deb ...\n",
            "Unpacking libcupsfilters1:amd64 (1.20.2-0ubuntu3.1) ...\n",
            "Selecting previously unselected package libdata-dump-perl.\n",
            "Preparing to unpack .../14-libdata-dump-perl_1.23-1_all.deb ...\n",
            "Unpacking libdata-dump-perl (1.23-1) ...\n",
            "Selecting previously unselected package libencode-locale-perl.\n",
            "Preparing to unpack .../15-libencode-locale-perl_1.05-1_all.deb ...\n",
            "Unpacking libencode-locale-perl (1.05-1) ...\n",
            "Selecting previously unselected package libtimedate-perl.\n",
            "Preparing to unpack .../16-libtimedate-perl_2.3000-2_all.deb ...\n",
            "Unpacking libtimedate-perl (2.3000-2) ...\n",
            "Selecting previously unselected package libhttp-date-perl.\n",
            "Preparing to unpack .../17-libhttp-date-perl_6.02-1_all.deb ...\n",
            "Unpacking libhttp-date-perl (6.02-1) ...\n",
            "Selecting previously unselected package libfile-listing-perl.\n",
            "Preparing to unpack .../18-libfile-listing-perl_6.04-1_all.deb ...\n",
            "Unpacking libfile-listing-perl (6.04-1) ...\n",
            "Selecting previously unselected package libfont-afm-perl.\n",
            "Preparing to unpack .../19-libfont-afm-perl_1.20-2_all.deb ...\n",
            "Unpacking libfont-afm-perl (1.20-2) ...\n",
            "Selecting previously unselected package libhtml-tagset-perl.\n",
            "Preparing to unpack .../20-libhtml-tagset-perl_3.20-3_all.deb ...\n",
            "Unpacking libhtml-tagset-perl (3.20-3) ...\n",
            "Selecting previously unselected package liburi-perl.\n",
            "Preparing to unpack .../21-liburi-perl_1.73-1_all.deb ...\n",
            "Unpacking liburi-perl (1.73-1) ...\n",
            "Selecting previously unselected package libhtml-parser-perl.\n",
            "Preparing to unpack .../22-libhtml-parser-perl_3.72-3build1_amd64.deb ...\n",
            "Unpacking libhtml-parser-perl (3.72-3build1) ...\n",
            "Selecting previously unselected package libio-html-perl.\n",
            "Preparing to unpack .../23-libio-html-perl_1.001-1_all.deb ...\n",
            "Unpacking libio-html-perl (1.001-1) ...\n",
            "Selecting previously unselected package liblwp-mediatypes-perl.\n",
            "Preparing to unpack .../24-liblwp-mediatypes-perl_6.02-1_all.deb ...\n",
            "Unpacking liblwp-mediatypes-perl (6.02-1) ...\n",
            "Selecting previously unselected package libhttp-message-perl.\n",
            "Preparing to unpack .../25-libhttp-message-perl_6.14-1_all.deb ...\n",
            "Unpacking libhttp-message-perl (6.14-1) ...\n",
            "Selecting previously unselected package libhtml-form-perl.\n",
            "Preparing to unpack .../26-libhtml-form-perl_6.03-1_all.deb ...\n",
            "Unpacking libhtml-form-perl (6.03-1) ...\n",
            "Selecting previously unselected package libhtml-tree-perl.\n",
            "Preparing to unpack .../27-libhtml-tree-perl_5.07-1_all.deb ...\n",
            "Unpacking libhtml-tree-perl (5.07-1) ...\n",
            "Selecting previously unselected package libhtml-format-perl.\n",
            "Preparing to unpack .../28-libhtml-format-perl_2.12-1_all.deb ...\n",
            "Unpacking libhtml-format-perl (2.12-1) ...\n",
            "Selecting previously unselected package libhttp-cookies-perl.\n",
            "Preparing to unpack .../29-libhttp-cookies-perl_6.04-1_all.deb ...\n",
            "Unpacking libhttp-cookies-perl (6.04-1) ...\n",
            "Selecting previously unselected package libhttp-daemon-perl.\n",
            "Preparing to unpack .../30-libhttp-daemon-perl_6.01-1_all.deb ...\n",
            "Unpacking libhttp-daemon-perl (6.01-1) ...\n",
            "Selecting previously unselected package libhttp-negotiate-perl.\n",
            "Preparing to unpack .../31-libhttp-negotiate-perl_6.00-2_all.deb ...\n",
            "Unpacking libhttp-negotiate-perl (6.00-2) ...\n",
            "Selecting previously unselected package perl-openssl-defaults:amd64.\n",
            "Preparing to unpack .../32-perl-openssl-defaults_3build1_amd64.deb ...\n",
            "Unpacking perl-openssl-defaults:amd64 (3build1) ...\n",
            "Selecting previously unselected package libnet-ssleay-perl.\n",
            "Preparing to unpack .../33-libnet-ssleay-perl_1.84-1ubuntu0.2_amd64.deb ...\n",
            "Unpacking libnet-ssleay-perl (1.84-1ubuntu0.2) ...\n",
            "Selecting previously unselected package libio-socket-ssl-perl.\n",
            "Preparing to unpack .../34-libio-socket-ssl-perl_2.060-3~ubuntu18.04.1_all.deb ...\n",
            "Unpacking libio-socket-ssl-perl (2.060-3~ubuntu18.04.1) ...\n",
            "Selecting previously unselected package libkpathsea6:amd64.\n",
            "Preparing to unpack .../35-libkpathsea6_2017.20170613.44572-8ubuntu0.1_amd64.deb ...\n",
            "Unpacking libkpathsea6:amd64 (2017.20170613.44572-8ubuntu0.1) ...\n",
            "Selecting previously unselected package libnet-http-perl.\n",
            "Preparing to unpack .../36-libnet-http-perl_6.17-1_all.deb ...\n",
            "Unpacking libnet-http-perl (6.17-1) ...\n",
            "Selecting previously unselected package libtry-tiny-perl.\n",
            "Preparing to unpack .../37-libtry-tiny-perl_0.30-1_all.deb ...\n",
            "Unpacking libtry-tiny-perl (0.30-1) ...\n",
            "Selecting previously unselected package libwww-robotrules-perl.\n",
            "Preparing to unpack .../38-libwww-robotrules-perl_6.01-1_all.deb ...\n",
            "Unpacking libwww-robotrules-perl (6.01-1) ...\n",
            "Selecting previously unselected package libwww-perl.\n",
            "Preparing to unpack .../39-libwww-perl_6.31-1ubuntu0.1_all.deb ...\n",
            "Unpacking libwww-perl (6.31-1ubuntu0.1) ...\n",
            "Selecting previously unselected package liblwp-protocol-https-perl.\n",
            "Preparing to unpack .../40-liblwp-protocol-https-perl_6.07-2_all.deb ...\n",
            "Unpacking liblwp-protocol-https-perl (6.07-2) ...\n",
            "Selecting previously unselected package libnet-smtp-ssl-perl.\n",
            "Preparing to unpack .../41-libnet-smtp-ssl-perl_1.04-1_all.deb ...\n",
            "Unpacking libnet-smtp-ssl-perl (1.04-1) ...\n",
            "Selecting previously unselected package libmailtools-perl.\n",
            "Preparing to unpack .../42-libmailtools-perl_2.18-1_all.deb ...\n",
            "Unpacking libmailtools-perl (2.18-1) ...\n",
            "Selecting previously unselected package libpotrace0.\n",
            "Preparing to unpack .../43-libpotrace0_1.14-2_amd64.deb ...\n",
            "Unpacking libpotrace0 (1.14-2) ...\n",
            "Selecting previously unselected package libptexenc1:amd64.\n",
            "Preparing to unpack .../44-libptexenc1_2017.20170613.44572-8ubuntu0.1_amd64.deb ...\n",
            "Unpacking libptexenc1:amd64 (2017.20170613.44572-8ubuntu0.1) ...\n",
            "Selecting previously unselected package libsynctex1:amd64.\n",
            "Preparing to unpack .../45-libsynctex1_2017.20170613.44572-8ubuntu0.1_amd64.deb ...\n",
            "Unpacking libsynctex1:amd64 (2017.20170613.44572-8ubuntu0.1) ...\n",
            "Selecting previously unselected package libtexlua52:amd64.\n",
            "Preparing to unpack .../46-libtexlua52_2017.20170613.44572-8ubuntu0.1_amd64.deb ...\n",
            "Unpacking libtexlua52:amd64 (2017.20170613.44572-8ubuntu0.1) ...\n",
            "Selecting previously unselected package libtexluajit2:amd64.\n",
            "Preparing to unpack .../47-libtexluajit2_2017.20170613.44572-8ubuntu0.1_amd64.deb ...\n",
            "Unpacking libtexluajit2:amd64 (2017.20170613.44572-8ubuntu0.1) ...\n",
            "Selecting previously unselected package libtext-unidecode-perl.\n",
            "Preparing to unpack .../48-libtext-unidecode-perl_1.30-1_all.deb ...\n",
            "Unpacking libtext-unidecode-perl (1.30-1) ...\n",
            "Selecting previously unselected package libxml-namespacesupport-perl.\n",
            "Preparing to unpack .../49-libxml-namespacesupport-perl_1.12-1_all.deb ...\n",
            "Unpacking libxml-namespacesupport-perl (1.12-1) ...\n",
            "Selecting previously unselected package libxml-sax-base-perl.\n",
            "Preparing to unpack .../50-libxml-sax-base-perl_1.09-1_all.deb ...\n",
            "Unpacking libxml-sax-base-perl (1.09-1) ...\n",
            "Selecting previously unselected package libxml-sax-perl.\n",
            "Preparing to unpack .../51-libxml-sax-perl_0.99+dfsg-2ubuntu1_all.deb ...\n",
            "Unpacking libxml-sax-perl (0.99+dfsg-2ubuntu1) ...\n",
            "Selecting previously unselected package libxml-libxml-perl.\n",
            "Preparing to unpack .../52-libxml-libxml-perl_2.0128+dfsg-5_amd64.deb ...\n",
            "Unpacking libxml-libxml-perl (2.0128+dfsg-5) ...\n",
            "Selecting previously unselected package libxml-parser-perl.\n",
            "Preparing to unpack .../53-libxml-parser-perl_2.44-2build3_amd64.deb ...\n",
            "Unpacking libxml-parser-perl (2.44-2build3) ...\n",
            "Selecting previously unselected package libxml-sax-expat-perl.\n",
            "Preparing to unpack .../54-libxml-sax-expat-perl_0.40-2_all.deb ...\n",
            "Unpacking libxml-sax-expat-perl (0.40-2) ...\n",
            "Selecting previously unselected package libzzip-0-13:amd64.\n",
            "Preparing to unpack .../55-libzzip-0-13_0.13.62-3.1ubuntu0.18.04.1_amd64.deb ...\n",
            "Unpacking libzzip-0-13:amd64 (0.13.62-3.1ubuntu0.18.04.1) ...\n",
            "Selecting previously unselected package texinfo.\n",
            "Preparing to unpack .../56-texinfo_6.5.0.dfsg.1-2_amd64.deb ...\n",
            "Unpacking texinfo (6.5.0.dfsg.1-2) ...\n",
            "Selecting previously unselected package t1utils.\n",
            "Preparing to unpack .../57-t1utils_1.41-2_amd64.deb ...\n",
            "Unpacking t1utils (1.41-2) ...\n",
            "Selecting previously unselected package texlive-binaries.\n",
            "Preparing to unpack .../58-texlive-binaries_2017.20170613.44572-8ubuntu0.1_amd64.deb ...\n",
            "Unpacking texlive-binaries (2017.20170613.44572-8ubuntu0.1) ...\n",
            "Selecting previously unselected package lilypond-data.\n",
            "Preparing to unpack .../59-lilypond-data_2.18.2-12build1_all.deb ...\n",
            "Unpacking lilypond-data (2.18.2-12build1) ...\n",
            "Selecting previously unselected package lilypond.\n",
            "Preparing to unpack .../60-lilypond_2.18.2-12build1_amd64.deb ...\n",
            "warning: kpathsea: configuration file texmf.cnf not found in these directories: /etc/texmf/web2c:/usr/local/share/texmf/web2c:/usr/share/texmf/web2c:/usr/share/texlive/texmf-dist/web2c://share/texmf/web2c.\n",
            "warning: kpathsea: configuration file texmf.cnf not found in these directories: /etc/texmf/web2c:/usr/local/share/texmf/web2c:/usr/share/texmf/web2c:/usr/share/texlive/texmf-dist/web2c://share/texmf/web2c.\n",
            "Unpacking lilypond (2.18.2-12build1) ...\n",
            "Selecting previously unselected package lmodern.\n",
            "Preparing to unpack .../61-lmodern_2.004.5-3_all.deb ...\n",
            "Unpacking lmodern (2.004.5-3) ...\n",
            "Selecting previously unselected package texlive-base.\n",
            "Preparing to unpack .../62-texlive-base_2017.20180305-1_all.deb ...\n",
            "Unpacking texlive-base (2017.20180305-1) ...\n",
            "Selecting previously unselected package texlive-latex-base.\n",
            "Preparing to unpack .../63-texlive-latex-base_2017.20180305-1_all.deb ...\n",
            "Unpacking texlive-latex-base (2017.20180305-1) ...\n",
            "Selecting previously unselected package libauthen-sasl-perl.\n",
            "Preparing to unpack .../64-libauthen-sasl-perl_2.1600-1_all.deb ...\n",
            "Unpacking libauthen-sasl-perl (2.1600-1) ...\n",
            "Setting up libgs9-common (9.26~dfsg+0-0ubuntu0.18.04.14) ...\n",
            "Setting up libhtml-tagset-perl (3.20-3) ...\n",
            "Setting up libkpathsea6:amd64 (2017.20170613.44572-8ubuntu0.1) ...\n",
            "Setting up libtexlua52:amd64 (2017.20170613.44572-8ubuntu0.1) ...\n",
            "Setting up libtry-tiny-perl (0.30-1) ...\n",
            "Setting up fonts-droid-fallback (1:6.0.1r16-1.1) ...\n",
            "Setting up libfont-afm-perl (1.20-2) ...\n",
            "Setting up libsynctex1:amd64 (2017.20170613.44572-8ubuntu0.1) ...\n",
            "Setting up libptexenc1:amd64 (2017.20170613.44572-8ubuntu0.1) ...\n",
            "Setting up tex-common (6.09) ...\n",
            "debconf: unable to initialize frontend: Dialog\n",
            "debconf: (No usable dialog-like program is installed, so the dialog based frontend cannot be used. at /usr/share/perl5/Debconf/FrontEnd/Dialog.pm line 76.)\n",
            "debconf: falling back to frontend: Readline\n",
            "update-language: texlive-base not installed and configured, doing nothing!\n",
            "Setting up libxml-namespacesupport-perl (1.12-1) ...\n",
            "Setting up gsfonts (1:8.11+urwcyr1.0.7~pre44-4.4) ...\n",
            "Setting up libencode-locale-perl (1.05-1) ...\n",
            "Setting up libtimedate-perl (2.3000-2) ...\n",
            "Setting up poppler-data (0.4.8-2) ...\n",
            "Setting up perl-openssl-defaults:amd64 (3build1) ...\n",
            "Setting up libio-html-perl (1.001-1) ...\n",
            "Setting up libtext-unidecode-perl (1.30-1) ...\n",
            "Setting up fonts-noto-mono (20171026-2) ...\n",
            "Setting up libcupsfilters1:amd64 (1.20.2-0ubuntu3.1) ...\n",
            "Setting up libcupsimage2:amd64 (2.2.7-1ubuntu2.8) ...\n",
            "Setting up libxml-sax-base-perl (1.09-1) ...\n",
            "Setting up libjbig2dec0:amd64 (0.13-6) ...\n",
            "Setting up liblwp-mediatypes-perl (6.02-1) ...\n",
            "Setting up liburi-perl (1.73-1) ...\n",
            "Setting up t1utils (1.41-2) ...\n",
            "Setting up libdata-dump-perl (1.23-1) ...\n",
            "Setting up libhtml-parser-perl (3.72-3build1) ...\n",
            "Setting up libijs-0.35:amd64 (0.35-13) ...\n",
            "Setting up libpotrace0 (1.14-2) ...\n",
            "Setting up libnet-http-perl (6.17-1) ...\n",
            "Setting up libzzip-0-13:amd64 (0.13.62-3.1ubuntu0.18.04.1) ...\n",
            "Setting up libgs9:amd64 (9.26~dfsg+0-0ubuntu0.18.04.14) ...\n",
            "Setting up libwww-robotrules-perl (6.01-1) ...\n",
            "Setting up libtexluajit2:amd64 (2017.20170613.44572-8ubuntu0.1) ...\n",
            "Setting up libauthen-sasl-perl (2.1600-1) ...\n",
            "Setting up fonts-lmodern (2.004.5-3) ...\n",
            "Setting up netbase (5.4) ...\n",
            "Setting up libxml-sax-perl (0.99+dfsg-2ubuntu1) ...\n",
            "update-perl-sax-parsers: Registering Perl SAX parser XML::SAX::PurePerl with priority 10...\n",
            "update-perl-sax-parsers: Updating overall Perl SAX parser modules info file...\n",
            "debconf: unable to initialize frontend: Dialog\n",
            "debconf: (No usable dialog-like program is installed, so the dialog based frontend cannot be used. at /usr/share/perl5/Debconf/FrontEnd/Dialog.pm line 76.)\n",
            "debconf: falling back to frontend: Readline\n",
            "\n",
            "Creating config file /etc/perl/XML/SAX/ParserDetails.ini with new version\n",
            "Setting up libhttp-date-perl (6.02-1) ...\n",
            "Setting up libnet-ssleay-perl (1.84-1ubuntu0.2) ...\n",
            "Setting up ghostscript (9.26~dfsg+0-0ubuntu0.18.04.14) ...\n",
            "Setting up texlive-binaries (2017.20170613.44572-8ubuntu0.1) ...\n",
            "update-alternatives: using /usr/bin/xdvi-xaw to provide /usr/bin/xdvi.bin (xdvi.bin) in auto mode\n",
            "update-alternatives: using /usr/bin/bibtex.original to provide /usr/bin/bibtex (bibtex) in auto mode\n",
            "Setting up libio-socket-ssl-perl (2.060-3~ubuntu18.04.1) ...\n",
            "Setting up libhtml-tree-perl (5.07-1) ...\n",
            "Setting up texlive-base (2017.20180305-1) ...\n",
            "mktexlsr: Updating /var/lib/texmf/ls-R-TEXLIVEDIST... \n",
            "mktexlsr: Updating /var/lib/texmf/ls-R-TEXMFMAIN... \n",
            "mktexlsr: Updating /var/lib/texmf/ls-R... \n",
            "mktexlsr: Done.\n",
            "tl-paper: setting paper size for dvips to a4: /var/lib/texmf/dvips/config/config-paper.ps\n",
            "tl-paper: setting paper size for dvipdfmx to a4: /var/lib/texmf/dvipdfmx/dvipdfmx-paper.cfg\n",
            "tl-paper: setting paper size for xdvi to a4: /var/lib/texmf/xdvi/XDvi-paper\n",
            "tl-paper: setting paper size for pdftex to a4: /var/lib/texmf/tex/generic/config/pdftexconfig.tex\n",
            "debconf: unable to initialize frontend: Dialog\n",
            "debconf: (No usable dialog-like program is installed, so the dialog based frontend cannot be used. at /usr/share/perl5/Debconf/FrontEnd/Dialog.pm line 76.)\n",
            "debconf: falling back to frontend: Readline\n",
            "Setting up libfile-listing-perl (6.04-1) ...\n",
            "Setting up libhttp-message-perl (6.14-1) ...\n",
            "Setting up libxml-libxml-perl (2.0128+dfsg-5) ...\n",
            "update-perl-sax-parsers: Registering Perl SAX parser XML::LibXML::SAX::Parser with priority 50...\n",
            "update-perl-sax-parsers: Registering Perl SAX parser XML::LibXML::SAX with priority 50...\n",
            "update-perl-sax-parsers: Updating overall Perl SAX parser modules info file...\n",
            "debconf: unable to initialize frontend: Dialog\n",
            "debconf: (No usable dialog-like program is installed, so the dialog based frontend cannot be used. at /usr/share/perl5/Debconf/FrontEnd/Dialog.pm line 76.)\n",
            "debconf: falling back to frontend: Readline\n",
            "Replacing config file /etc/perl/XML/SAX/ParserDetails.ini with new version\n",
            "Setting up texlive-latex-base (2017.20180305-1) ...\n",
            "Setting up lmodern (2.004.5-3) ...\n",
            "Setting up libhttp-negotiate-perl (6.00-2) ...\n",
            "Setting up libnet-smtp-ssl-perl (1.04-1) ...\n",
            "Setting up libhtml-format-perl (2.12-1) ...\n",
            "Setting up libhttp-cookies-perl (6.04-1) ...\n",
            "Setting up libhttp-daemon-perl (6.01-1) ...\n",
            "Setting up libhtml-form-perl (6.03-1) ...\n",
            "Setting up texinfo (6.5.0.dfsg.1-2) ...\n",
            "Running mktexlsr. This may take some time. ... done.\n",
            "Setting up libmailtools-perl (2.18-1) ...\n",
            "Setting up lilypond-data (2.18.2-12build1) ...\n",
            "Setting up lilypond (2.18.2-12build1) ...\n",
            "Setting up liblwp-protocol-https-perl (6.07-2) ...\n",
            "Setting up libwww-perl (6.31-1ubuntu0.1) ...\n",
            "Setting up libxml-parser-perl (2.44-2build3) ...\n",
            "Setting up libxml-sax-expat-perl (0.40-2) ...\n",
            "update-perl-sax-parsers: Registering Perl SAX parser XML::SAX::Expat with priority 50...\n",
            "update-perl-sax-parsers: Updating overall Perl SAX parser modules info file...\n",
            "debconf: unable to initialize frontend: Dialog\n",
            "debconf: (No usable dialog-like program is installed, so the dialog based frontend cannot be used. at /usr/share/perl5/Debconf/FrontEnd/Dialog.pm line 76.)\n",
            "debconf: falling back to frontend: Readline\n",
            "Replacing config file /etc/perl/XML/SAX/ParserDetails.ini with new version\n",
            "Processing triggers for fontconfig (2.12.6-0ubuntu2) ...\n",
            "Processing triggers for mime-support (3.60ubuntu1) ...\n",
            "Processing triggers for libc-bin (2.27-3ubuntu1.3) ...\n",
            "/sbin/ldconfig.real: /usr/local/lib/python3.7/dist-packages/ideep4py/lib/libmkldnn.so.0 is not a symbolic link\n",
            "\n",
            "Processing triggers for man-db (2.8.3-2ubuntu0.1) ...\n",
            "Processing triggers for tex-common (6.09) ...\n",
            "debconf: unable to initialize frontend: Dialog\n",
            "debconf: (No usable dialog-like program is installed, so the dialog based frontend cannot be used. at /usr/share/perl5/Debconf/FrontEnd/Dialog.pm line 76.)\n",
            "debconf: falling back to frontend: Readline\n",
            "Running updmap-sys. This may take some time... done.\n",
            "Running mktexlsr /var/lib/texmf ... done.\n",
            "Building format(s) --all.\n",
            "\tThis may take some time... done.\n"
          ]
        }
      ]
    },
    {
      "cell_type": "code",
      "metadata": {
        "id": "f0rou8ZDA_JX",
        "outputId": "ced1664d-0301-40fb-e03d-1cceff8b6e9d",
        "colab": {
          "base_uri": "https://localhost:8080/"
        }
      },
      "source": [
        "from google.colab import drive\n",
        "drive.mount('/content/drive')"
      ],
      "execution_count": 3,
      "outputs": [
        {
          "output_type": "stream",
          "name": "stdout",
          "text": [
            "Mounted at /content/drive\n"
          ]
        }
      ]
    },
    {
      "cell_type": "markdown",
      "metadata": {
        "id": "T-7N9X6YAeU9"
      },
      "source": [
        "# <p style=\"background-color:#97BACB;font-family:newtimeroman;color:#EBDDD0;font-size:120%;text-align:center;border-radius:40px 40px;\">LSTM'S ALBUM RELEASE</p>\n",
        "\n",
        "\n",
        "<p style=\"font-family:newtimeroman;font-size:120%;color:#97BACB;\">In one of my previous notebooks, I created an RNN that generates lyrics. For such projects, we feed the network a series of strings and the network predicts the next string in the series based on the information it is trained on. This time I decided to use the same principle on the music. \n",
        "Full disclosure I am not a musician. However, I know a tiny bit of music theory and play the ukulele for fun. Nonetheless, If you are a musical novice, don't shy away dive right into this notebook. </p> \n",
        "\n",
        "<a id='top'></a>\n",
        "<div class=\"list-group\" id=\"list-tab\" role=\"tablist\">\n",
        " <p style=\"font-family:newtimeroman;color:#97BACB#97BACB;font-size:120%;text-align:center;border-radius:40px 40px;\">TABLE OF CONTENTS</p>   \n",
        "    \n",
        "* [1. IMPORTING LIBRARIES](#1)\n",
        "    \n",
        "* [2. LOADING DATA](#2)\n",
        "    \n",
        "* [3. DATA EXPLORATION](#3)  \n",
        "    \n",
        "* [4. DATA PREPREPROCESSING](#4)  \n",
        "    \n",
        "* [5. MODEL BUILDING](#5) \n",
        "      \n",
        "* [6. EVALUATING MODELS](#6)\n",
        "    \n",
        "* [7. CONCLUSION](#7)\n",
        "    \n",
        "* [8. END](#8)\n",
        "\n",
        "\n",
        "<a id=\"1\"></a>\n",
        "# <p style=\"background-color:#97BACB;font-family:newtimeroman;color:#EBDDD0;font-size:120%;text-align:center;border-radius:40px 40px;\">IMPORTING LIBRARIES</p>\n"
      ]
    },
    {
      "cell_type": "code",
      "metadata": {
        "id": "7yWEHGqRAeU_",
        "outputId": "df497d04-6493-43eb-e801-91deaa43eb3c"
      },
      "source": [
        "!pip3 install tensorflow sklearn seaborn"
      ],
      "execution_count": null,
      "outputs": [
        {
          "name": "stdout",
          "output_type": "stream",
          "text": [
            "Requirement already satisfied: tensorflow in /usr/local/lib/python3.9/dist-packages (2.7.0)\n",
            "Requirement already satisfied: sklearn in /usr/local/lib/python3.9/dist-packages (0.0)\n",
            "Collecting seaborn\n",
            "  Downloading seaborn-0.11.2-py3-none-any.whl (292 kB)\n",
            "\u001b[K     |████████████████████████████████| 292 kB 564 kB/s eta 0:00:01\n",
            "\u001b[?25hRequirement already satisfied: numpy>=1.15 in /usr/local/lib/python3.9/dist-packages (from seaborn) (1.21.4)\n",
            "Requirement already satisfied: pandas>=0.23 in /usr/local/lib/python3.9/dist-packages (from seaborn) (1.3.4)\n",
            "Requirement already satisfied: scipy>=1.0 in /usr/local/lib/python3.9/dist-packages (from seaborn) (1.7.2)\n",
            "Requirement already satisfied: matplotlib>=2.2 in /usr/local/lib/python3.9/dist-packages (from seaborn) (3.4.3)\n",
            "Requirement already satisfied: python-dateutil>=2.7 in /usr/lib/python3/dist-packages (from matplotlib>=2.2->seaborn) (2.8.1)\n",
            "Requirement already satisfied: cycler>=0.10 in /usr/local/lib/python3.9/dist-packages (from matplotlib>=2.2->seaborn) (0.11.0)\n",
            "Requirement already satisfied: pillow>=6.2.0 in /usr/local/lib/python3.9/dist-packages (from matplotlib>=2.2->seaborn) (8.4.0)\n",
            "Requirement already satisfied: kiwisolver>=1.0.1 in /usr/local/lib/python3.9/dist-packages (from matplotlib>=2.2->seaborn) (1.3.2)\n",
            "Requirement already satisfied: pyparsing>=2.2.1 in /usr/lib/python3/dist-packages (from matplotlib>=2.2->seaborn) (2.4.7)\n",
            "Requirement already satisfied: pytz>=2017.3 in /usr/local/lib/python3.9/dist-packages (from pandas>=0.23->seaborn) (2021.3)\n",
            "Requirement already satisfied: scikit-learn in /usr/local/lib/python3.9/dist-packages (from sklearn) (1.0.1)\n",
            "Requirement already satisfied: flatbuffers<3.0,>=1.12 in /usr/local/lib/python3.9/dist-packages (from tensorflow) (2.0)\n",
            "Requirement already satisfied: keras-preprocessing>=1.1.1 in /usr/local/lib/python3.9/dist-packages (from tensorflow) (1.1.2)\n",
            "Requirement already satisfied: tensorflow-estimator<2.8,~=2.7.0rc0 in /usr/local/lib/python3.9/dist-packages (from tensorflow) (2.7.0)\n",
            "Requirement already satisfied: wrapt>=1.11.0 in /usr/local/lib/python3.9/dist-packages (from tensorflow) (1.13.3)\n",
            "Requirement already satisfied: libclang>=9.0.1 in /usr/local/lib/python3.9/dist-packages (from tensorflow) (12.0.0)\n",
            "Requirement already satisfied: tensorboard~=2.6 in /usr/local/lib/python3.9/dist-packages (from tensorflow) (2.7.0)\n",
            "Requirement already satisfied: wheel<1.0,>=0.32.0 in /usr/lib/python3/dist-packages (from tensorflow) (0.34.2)\n",
            "Requirement already satisfied: astunparse>=1.6.0 in /usr/local/lib/python3.9/dist-packages (from tensorflow) (1.6.3)\n",
            "Requirement already satisfied: typing-extensions>=3.6.6 in /usr/local/lib/python3.9/dist-packages (from tensorflow) (4.0.0)\n",
            "Requirement already satisfied: h5py>=2.9.0 in /usr/local/lib/python3.9/dist-packages (from tensorflow) (3.5.0)\n",
            "Requirement already satisfied: six>=1.12.0 in /usr/lib/python3/dist-packages (from tensorflow) (1.16.0)\n",
            "Requirement already satisfied: gast<0.5.0,>=0.2.1 in /usr/local/lib/python3.9/dist-packages (from tensorflow) (0.4.0)\n",
            "Requirement already satisfied: protobuf>=3.9.2 in /usr/local/lib/python3.9/dist-packages (from tensorflow) (3.19.1)\n",
            "Requirement already satisfied: tensorflow-io-gcs-filesystem>=0.21.0 in /usr/local/lib/python3.9/dist-packages (from tensorflow) (0.22.0)\n",
            "Requirement already satisfied: grpcio<2.0,>=1.24.3 in /usr/local/lib/python3.9/dist-packages (from tensorflow) (1.41.1)\n",
            "Requirement already satisfied: opt-einsum>=2.3.2 in /usr/local/lib/python3.9/dist-packages (from tensorflow) (3.3.0)\n",
            "Requirement already satisfied: termcolor>=1.1.0 in /usr/local/lib/python3.9/dist-packages (from tensorflow) (1.1.0)\n",
            "Requirement already satisfied: keras<2.8,>=2.7.0rc0 in /usr/local/lib/python3.9/dist-packages (from tensorflow) (2.7.0)\n",
            "Requirement already satisfied: absl-py>=0.4.0 in /usr/local/lib/python3.9/dist-packages (from tensorflow) (1.0.0)\n",
            "Requirement already satisfied: google-pasta>=0.1.1 in /usr/local/lib/python3.9/dist-packages (from tensorflow) (0.2.0)\n",
            "Requirement already satisfied: tensorboard-plugin-wit>=1.6.0 in /usr/local/lib/python3.9/dist-packages (from tensorboard~=2.6->tensorflow) (1.8.0)\n",
            "Requirement already satisfied: requests<3,>=2.21.0 in /usr/lib/python3/dist-packages (from tensorboard~=2.6->tensorflow) (2.25.1)\n",
            "Requirement already satisfied: google-auth-oauthlib<0.5,>=0.4.1 in /usr/local/lib/python3.9/dist-packages (from tensorboard~=2.6->tensorflow) (0.4.6)\n",
            "Requirement already satisfied: setuptools>=41.0.0 in /usr/lib/python3/dist-packages (from tensorboard~=2.6->tensorflow) (52.0.0)\n",
            "Requirement already satisfied: tensorboard-data-server<0.7.0,>=0.6.0 in /usr/local/lib/python3.9/dist-packages (from tensorboard~=2.6->tensorflow) (0.6.1)\n",
            "Requirement already satisfied: markdown>=2.6.8 in /usr/local/lib/python3.9/dist-packages (from tensorboard~=2.6->tensorflow) (3.3.4)\n",
            "Requirement already satisfied: werkzeug>=0.11.15 in /usr/local/lib/python3.9/dist-packages (from tensorboard~=2.6->tensorflow) (2.0.2)\n",
            "Requirement already satisfied: google-auth<3,>=1.6.3 in /usr/local/lib/python3.9/dist-packages (from tensorboard~=2.6->tensorflow) (2.3.3)\n",
            "Requirement already satisfied: rsa<5,>=3.1.4 in /usr/local/lib/python3.9/dist-packages (from google-auth<3,>=1.6.3->tensorboard~=2.6->tensorflow) (4.7.2)\n",
            "Requirement already satisfied: cachetools<5.0,>=2.0.0 in /usr/local/lib/python3.9/dist-packages (from google-auth<3,>=1.6.3->tensorboard~=2.6->tensorflow) (4.2.4)\n",
            "Requirement already satisfied: pyasn1-modules>=0.2.1 in /usr/local/lib/python3.9/dist-packages (from google-auth<3,>=1.6.3->tensorboard~=2.6->tensorflow) (0.2.8)\n",
            "Requirement already satisfied: requests-oauthlib>=0.7.0 in /usr/local/lib/python3.9/dist-packages (from google-auth-oauthlib<0.5,>=0.4.1->tensorboard~=2.6->tensorflow) (1.3.0)\n",
            "Requirement already satisfied: pyasn1<0.5.0,>=0.4.6 in /usr/local/lib/python3.9/dist-packages (from pyasn1-modules>=0.2.1->google-auth<3,>=1.6.3->tensorboard~=2.6->tensorflow) (0.4.8)\n",
            "Requirement already satisfied: oauthlib>=3.0.0 in /usr/local/lib/python3.9/dist-packages (from requests-oauthlib>=0.7.0->google-auth-oauthlib<0.5,>=0.4.1->tensorboard~=2.6->tensorflow) (3.1.1)\n",
            "Requirement already satisfied: threadpoolctl>=2.0.0 in /usr/local/lib/python3.9/dist-packages (from scikit-learn->sklearn) (3.0.0)\n",
            "Requirement already satisfied: joblib>=0.11 in /usr/local/lib/python3.9/dist-packages (from scikit-learn->sklearn) (1.1.0)\n",
            "Installing collected packages: seaborn\n",
            "Successfully installed seaborn-0.11.2\n"
          ]
        }
      ]
    },
    {
      "cell_type": "code",
      "metadata": {
        "_kg_hide-output": true,
        "execution": {
          "iopub.execute_input": "2021-10-11T11:17:00.627369Z",
          "iopub.status.busy": "2021-10-11T11:17:00.627086Z",
          "iopub.status.idle": "2021-10-11T11:17:05.797137Z",
          "shell.execute_reply": "2021-10-11T11:17:05.796307Z",
          "shell.execute_reply.started": "2021-10-11T11:17:00.627333Z"
        },
        "id": "SOr282RMAeU_"
      },
      "source": [
        "#Importing Libraries\n",
        "import tensorflow \n",
        "import numpy as np \n",
        "import pandas as pd \n",
        "from collections import Counter\n",
        "import random\n",
        "import IPython\n",
        "from IPython.display import Image, Audio\n",
        "import music21\n",
        "from music21 import *\n",
        "import matplotlib.pyplot as plt \n",
        "from sklearn.model_selection import train_test_split\n",
        "from tensorflow.keras.models import Sequential\n",
        "from tensorflow.keras.layers import LSTM, Dense, Dropout\n",
        "import tensorflow.keras.backend as K\n",
        "from tensorflow.keras.optimizers import Adamax\n",
        "import seaborn as sns\n",
        "import matplotlib.pyplot as plt\n",
        "import matplotlib.patches as mpatches\n",
        "%matplotlib inline\n",
        "import sys\n",
        "import warnings\n",
        "warnings.filterwarnings(\"ignore\")\n",
        "warnings.simplefilter(\"ignore\")\n",
        "np.random.seed(42)"
      ],
      "execution_count": 4,
      "outputs": []
    },
    {
      "cell_type": "markdown",
      "metadata": {
        "id": "vwJkkKZtAeVA"
      },
      "source": [
        "<a id=\"2\"></a>\n",
        "# <p style=\"background-color:#97BACB;font-family:newtimeroman;color:#EBDDD0;font-size:120%;text-align:center;border-radius:40px 40px;\">LOADING DATA</p>\n",
        "\n",
        "For this project, I will be using MIDI files of classical piano music. The dataset includes various artists. I will be working with Frédéric Chopin's compositions. \n",
        " \n",
        "* First of all, I make a list of all the songs in the Chopin folder parsed as music21 stream.\n",
        "\n",
        "* Then I will be creating a function to extract chords and notes out of the data creating a corpus.\n",
        "\n",
        "**Loading and parsing data**"
      ]
    },
    {
      "cell_type": "code",
      "metadata": {
        "execution": {
          "iopub.execute_input": "2021-10-11T11:17:05.798866Z",
          "iopub.status.busy": "2021-10-11T11:17:05.798486Z",
          "iopub.status.idle": "2021-10-11T11:22:02.230662Z",
          "shell.execute_reply": "2021-10-11T11:22:02.229854Z",
          "shell.execute_reply.started": "2021-10-11T11:17:05.798830Z"
        },
        "id": "OZmjunLEAeVB"
      },
      "source": [
        "#Loading the list of chopin's midi files as stream \n",
        "filepath = \"/content/drive/MyDrive/data/chopin/\"\n",
        "#Getting midi files\n",
        "all_midis= []\n",
        "for i in os.listdir(filepath):\n",
        "    if i.endswith(\".mid\"):\n",
        "        tr = filepath+i\n",
        "        midi = converter.parse(tr)\n",
        "        all_midis.append(midi)"
      ],
      "execution_count": 6,
      "outputs": []
    },
    {
      "cell_type": "markdown",
      "metadata": {
        "id": "KI22f77mAeVB"
      },
      "source": [
        "Next, I get the components out of these streams of MIDI files. The midi files only have the piano included as mentioned in the dataset. So the components of the file would be either piano chords or piano notes. \n",
        "\n",
        "**Note:** The musical notes are the building blocks of the music. It pertains to a pitch associated with a specific audio vibration. Western music utilizes twelve musical notes. \n",
        "\n",
        "**Chord:** A group of notes that sound good together is a chord.\n",
        "\n",
        "The music21 stream that was created in the above cell contains both, chords and notes, we will extract them in the form of notes and obtain a series of notes in the musical composition.\n",
        "\n",
        "**The function to get the notes:**"
      ]
    },
    {
      "cell_type": "code",
      "metadata": {
        "execution": {
          "iopub.execute_input": "2021-10-11T11:22:02.233115Z",
          "iopub.status.busy": "2021-10-11T11:22:02.232844Z",
          "iopub.status.idle": "2021-10-11T11:22:21.073340Z",
          "shell.execute_reply": "2021-10-11T11:22:21.072583Z",
          "shell.execute_reply.started": "2021-10-11T11:22:02.233082Z"
        },
        "id": "u3kqmeYpAeVC",
        "outputId": "83a87b17-1ec0-4803-ed04-f3accd8b77d9",
        "colab": {
          "base_uri": "https://localhost:8080/"
        }
      },
      "source": [
        "#Helping function        \n",
        "def extract_notes(file):\n",
        "    notes = []\n",
        "    pick = None\n",
        "    for j in file:\n",
        "        songs = instrument.partitionByInstrument(j)\n",
        "        for part in songs.parts:\n",
        "            pick = part.recurse()\n",
        "            for element in pick:\n",
        "                if isinstance(element, note.Note):\n",
        "                    notes.append(str(element.pitch))\n",
        "                elif isinstance(element, chord.Chord):\n",
        "                    notes.append(\".\".join(str(n) for n in element.normalOrder))\n",
        "\n",
        "    return notes\n",
        "#Getting the list of notes as Corpus\n",
        "Corpus= extract_notes(all_midis)\n",
        "print(\"Total notes in all the Chopin midis in the dataset:\", len(Corpus))"
      ],
      "execution_count": 7,
      "outputs": [
        {
          "output_type": "stream",
          "name": "stdout",
          "text": [
            "Total notes in all the Chopin midis in the dataset: 63429\n"
          ]
        }
      ]
    },
    {
      "cell_type": "markdown",
      "metadata": {
        "id": "TTxTpkVCAeVC"
      },
      "source": [
        "So we have our data in the form of a corpus. A list of strings, if you will. Each string indicates a musical note. Let us explore this data corpus.\n",
        "\n",
        "<a id=\"3\"></a>\n",
        "# <p style=\"background-color:#97BACB;font-family:newtimeroman;color:#EBDDD0;font-size:120%;text-align:center;border-radius:40px 40px;\">DATA EXPLORATION</p>\n",
        "\n",
        "**In this section, I will be:**\n",
        "* Exploring the data Corpus\n",
        "* Examine all the notes in the Corpus \n",
        "* Simplifying our Corpus to Built a working model\n",
        "\n",
        "**Let us have a look at the first 50 values in our corpus**"
      ]
    },
    {
      "cell_type": "code",
      "metadata": {
        "execution": {
          "iopub.execute_input": "2021-10-11T11:22:21.075113Z",
          "iopub.status.busy": "2021-10-11T11:22:21.074693Z",
          "iopub.status.idle": "2021-10-11T11:22:21.080474Z",
          "shell.execute_reply": "2021-10-11T11:22:21.079728Z",
          "shell.execute_reply.started": "2021-10-11T11:22:21.075078Z"
        },
        "id": "IgFcoBeMAeVC",
        "outputId": "b74c0c2c-b296-4eed-abeb-212d51aa2c34",
        "colab": {
          "base_uri": "https://localhost:8080/"
        }
      },
      "source": [
        "print(\"First fifty values in the Corpus:\", Corpus[:50])"
      ],
      "execution_count": 8,
      "outputs": [
        {
          "output_type": "stream",
          "name": "stdout",
          "text": [
            "First fifty values in the Corpus: ['B-4', 'B-4', 'B-4', 'B-4', 'B-4', 'B-4', 'B-4', 'B-4', 'B-4', 'B-4', 'B-4', 'B-4', 'B-4', 'B-4', 'B-4', 'B-4', 'B-2', 'D5', '5.8.10', 'E-5', '2.5', '5.8.10', 'B-4', 'E-3', 'E-5', '3.7.10', 'F5', '3.7', '3.7.10', 'B-4', 'D3', 'F5', '5.8.10', 'G5', '5.8', '5.8.10', '7.10.1', 'E-3', '7.10.1', '7.10.1', 'E3', '7.10.1', 'B-5', '1.7', 'F3', 'C6', '5.8', 'B-5', '8.0', 'G#2']\n"
          ]
        }
      ]
    },
    {
      "cell_type": "markdown",
      "metadata": {
        "id": "uTPfEWt7AeVD"
      },
      "source": [
        "All these values indicate the notes, as mentioned above.\n",
        "\n",
        "**Printing the music sheet**"
      ]
    },
    {
      "cell_type": "code",
      "metadata": {
        "execution": {
          "iopub.execute_input": "2021-10-11T11:22:21.082389Z",
          "iopub.status.busy": "2021-10-11T11:22:21.081966Z",
          "iopub.status.idle": "2021-10-11T11:22:22.600018Z",
          "shell.execute_reply": "2021-10-11T11:22:22.599285Z",
          "shell.execute_reply.started": "2021-10-11T11:22:21.082356Z"
        },
        "id": "ripdlyFEAeVD",
        "outputId": "89c951ab-1527-4ec4-c88b-c8811dd40e82",
        "colab": {
          "base_uri": "https://localhost:8080/",
          "height": 606
        }
      },
      "source": [
        "#First Lets write some functions that we need to look into the data\n",
        "def show(music):\n",
        "    display(Image(str(music.write(\"lily.png\"))))\n",
        "    \n",
        "def chords_n_notes(Snippet):\n",
        "    Melody = []\n",
        "    offset = 0 #Incremental\n",
        "    for i in Snippet:\n",
        "        #If it is chord\n",
        "        if (\".\" in i or i.isdigit()):\n",
        "            chord_notes = i.split(\".\") #Seperating the notes in chord\n",
        "            notes = [] \n",
        "            for j in chord_notes:\n",
        "                inst_note=int(j)\n",
        "                note_snip = note.Note(inst_note)            \n",
        "                notes.append(note_snip)\n",
        "                chord_snip = chord.Chord(notes)\n",
        "                chord_snip.offset = offset\n",
        "                Melody.append(chord_snip)\n",
        "        # pattern is a note\n",
        "        else: \n",
        "            note_snip = note.Note(i)\n",
        "            note_snip.offset = offset\n",
        "            Melody.append(note_snip)\n",
        "        # increase offset each iteration so that notes do not stack\n",
        "        offset += 1\n",
        "    Melody_midi = stream.Stream(Melody)   \n",
        "    return Melody_midi\n",
        "\n",
        "Melody_Snippet = chords_n_notes(Corpus[:100])\n",
        "show(Melody_Snippet)"
      ],
      "execution_count": 9,
      "outputs": [
        {
          "output_type": "display_data",
          "data": {
            "image/png": "[encoded data removed]",
            "text/plain": [
              "<IPython.core.display.Image object>"
            ]
          },
          "metadata": {}
        }
      ]
    },
    {
      "cell_type": "markdown",
      "metadata": {
        "id": "OSI2SE21AeVD"
      },
      "source": [
        "**Playing the above sheet music** \n",
        "\n",
        "*As I could not play a midi file on the Kaggle interface, I have created a \".wav\" filetype of the same outside of this code. I am using it to create an audio interface. Let us have a listen to the data corpus.* "
      ]
    },
    {
      "cell_type": "code",
      "metadata": {
        "execution": {
          "iopub.execute_input": "2021-10-11T11:22:22.602386Z",
          "iopub.status.busy": "2021-10-11T11:22:22.601858Z",
          "iopub.status.idle": "2021-10-11T11:22:23.197889Z",
          "shell.execute_reply": "2021-10-11T11:22:23.197043Z",
          "shell.execute_reply.started": "2021-10-11T11:22:22.602347Z"
        },
        "id": "4oDRS9VdAeVE",
        "outputId": "d4a5d467-fa52-4725-f054-e7a1fb842aac",
        "colab": {
          "base_uri": "https://localhost:8080/",
          "height": 362
        }
      },
      "source": [
        "#to play audio or corpus\n",
        "print(\"Sample Audio From Data\")\n",
        "IPython.display.Audio(\"../input/music-generated-lstm/Corpus_Snippet.wav\") "
      ],
      "execution_count": 10,
      "outputs": [
        {
          "output_type": "stream",
          "name": "stdout",
          "text": [
            "Sample Audio From Data\n"
          ]
        },
        {
          "output_type": "error",
          "ename": "ValueError",
          "evalue": "ignored",
          "traceback": [
            "\u001b[0;31m---------------------------------------------------------------------------\u001b[0m",
            "\u001b[0;31mValueError\u001b[0m                                Traceback (most recent call last)",
            "\u001b[0;32m<ipython-input-10-189b003af36f>\u001b[0m in \u001b[0;36m<module>\u001b[0;34m()\u001b[0m\n\u001b[1;32m      1\u001b[0m \u001b[0;31m#to play audio or corpus\u001b[0m\u001b[0;34m\u001b[0m\u001b[0;34m\u001b[0m\u001b[0;34m\u001b[0m\u001b[0m\n\u001b[1;32m      2\u001b[0m \u001b[0mprint\u001b[0m\u001b[0;34m(\u001b[0m\u001b[0;34m\"Sample Audio From Data\"\u001b[0m\u001b[0;34m)\u001b[0m\u001b[0;34m\u001b[0m\u001b[0;34m\u001b[0m\u001b[0m\n\u001b[0;32m----> 3\u001b[0;31m \u001b[0mIPython\u001b[0m\u001b[0;34m.\u001b[0m\u001b[0mdisplay\u001b[0m\u001b[0;34m.\u001b[0m\u001b[0mAudio\u001b[0m\u001b[0;34m(\u001b[0m\u001b[0;34m\"../input/music-generated-lstm/Corpus_Snippet.wav\"\u001b[0m\u001b[0;34m)\u001b[0m\u001b[0;34m\u001b[0m\u001b[0;34m\u001b[0m\u001b[0m\n\u001b[0m",
            "\u001b[0;32m/usr/local/lib/python3.7/dist-packages/IPython/lib/display.py\u001b[0m in \u001b[0;36m__init__\u001b[0;34m(self, data, filename, url, embed, rate, autoplay)\u001b[0m\n\u001b[1;32m     97\u001b[0m \u001b[0;34m\u001b[0m\u001b[0m\n\u001b[1;32m     98\u001b[0m         \u001b[0;32mif\u001b[0m \u001b[0mself\u001b[0m\u001b[0;34m.\u001b[0m\u001b[0mdata\u001b[0m \u001b[0;32mis\u001b[0m \u001b[0;32mnot\u001b[0m \u001b[0;32mNone\u001b[0m \u001b[0;32mand\u001b[0m \u001b[0;32mnot\u001b[0m \u001b[0misinstance\u001b[0m\u001b[0;34m(\u001b[0m\u001b[0mself\u001b[0m\u001b[0;34m.\u001b[0m\u001b[0mdata\u001b[0m\u001b[0;34m,\u001b[0m \u001b[0mbytes\u001b[0m\u001b[0;34m)\u001b[0m\u001b[0;34m:\u001b[0m\u001b[0;34m\u001b[0m\u001b[0;34m\u001b[0m\u001b[0m\n\u001b[0;32m---> 99\u001b[0;31m             \u001b[0mself\u001b[0m\u001b[0;34m.\u001b[0m\u001b[0mdata\u001b[0m \u001b[0;34m=\u001b[0m \u001b[0mself\u001b[0m\u001b[0;34m.\u001b[0m\u001b[0m_make_wav\u001b[0m\u001b[0;34m(\u001b[0m\u001b[0mdata\u001b[0m\u001b[0;34m,\u001b[0m\u001b[0mrate\u001b[0m\u001b[0;34m)\u001b[0m\u001b[0;34m\u001b[0m\u001b[0;34m\u001b[0m\u001b[0m\n\u001b[0m\u001b[1;32m    100\u001b[0m \u001b[0;34m\u001b[0m\u001b[0m\n\u001b[1;32m    101\u001b[0m     \u001b[0;32mdef\u001b[0m \u001b[0mreload\u001b[0m\u001b[0;34m(\u001b[0m\u001b[0mself\u001b[0m\u001b[0;34m)\u001b[0m\u001b[0;34m:\u001b[0m\u001b[0;34m\u001b[0m\u001b[0;34m\u001b[0m\u001b[0m\n",
            "\u001b[0;32m/usr/local/lib/python3.7/dist-packages/IPython/lib/display.py\u001b[0m in \u001b[0;36m_make_wav\u001b[0;34m(self, data, rate)\u001b[0m\n\u001b[1;32m    121\u001b[0m             \u001b[0;32mimport\u001b[0m \u001b[0mnumpy\u001b[0m \u001b[0;32mas\u001b[0m \u001b[0mnp\u001b[0m\u001b[0;34m\u001b[0m\u001b[0;34m\u001b[0m\u001b[0m\n\u001b[1;32m    122\u001b[0m \u001b[0;34m\u001b[0m\u001b[0m\n\u001b[0;32m--> 123\u001b[0;31m             \u001b[0mdata\u001b[0m \u001b[0;34m=\u001b[0m \u001b[0mnp\u001b[0m\u001b[0;34m.\u001b[0m\u001b[0marray\u001b[0m\u001b[0;34m(\u001b[0m\u001b[0mdata\u001b[0m\u001b[0;34m,\u001b[0m \u001b[0mdtype\u001b[0m\u001b[0;34m=\u001b[0m\u001b[0mfloat\u001b[0m\u001b[0;34m)\u001b[0m\u001b[0;34m\u001b[0m\u001b[0;34m\u001b[0m\u001b[0m\n\u001b[0m\u001b[1;32m    124\u001b[0m             \u001b[0;32mif\u001b[0m \u001b[0mlen\u001b[0m\u001b[0;34m(\u001b[0m\u001b[0mdata\u001b[0m\u001b[0;34m.\u001b[0m\u001b[0mshape\u001b[0m\u001b[0;34m)\u001b[0m \u001b[0;34m==\u001b[0m \u001b[0;36m1\u001b[0m\u001b[0;34m:\u001b[0m\u001b[0;34m\u001b[0m\u001b[0;34m\u001b[0m\u001b[0m\n\u001b[1;32m    125\u001b[0m                 \u001b[0mnchan\u001b[0m \u001b[0;34m=\u001b[0m \u001b[0;36m1\u001b[0m\u001b[0;34m\u001b[0m\u001b[0;34m\u001b[0m\u001b[0m\n",
            "\u001b[0;31mValueError\u001b[0m: could not convert string to float: '../input/music-generated-lstm/Corpus_Snippet.wav'"
          ]
        }
      ]
    },
    {
      "cell_type": "markdown",
      "metadata": {
        "id": "rpH6ZeKKAeVE"
      },
      "source": [
        "**Examine all the notes in the Corpus** "
      ]
    },
    {
      "cell_type": "code",
      "metadata": {
        "execution": {
          "iopub.execute_input": "2021-10-11T11:22:23.199377Z",
          "iopub.status.busy": "2021-10-11T11:22:23.199046Z",
          "iopub.status.idle": "2021-10-11T11:22:23.225688Z",
          "shell.execute_reply": "2021-10-11T11:22:23.224781Z",
          "shell.execute_reply.started": "2021-10-11T11:22:23.199335Z"
        },
        "id": "Rtu430QqAeVE",
        "outputId": "ea0262d2-cc28-4e15-eb41-06f00014a61c",
        "colab": {
          "base_uri": "https://localhost:8080/"
        }
      },
      "source": [
        "#Creating a count dictionary\n",
        "count_num = Counter(Corpus)\n",
        "print(\"Total unique notes in the Corpus:\", len(count_num))"
      ],
      "execution_count": 11,
      "outputs": [
        {
          "output_type": "stream",
          "name": "stdout",
          "text": [
            "Total unique notes in the Corpus: 317\n"
          ]
        }
      ]
    },
    {
      "cell_type": "code",
      "metadata": {
        "execution": {
          "iopub.execute_input": "2021-10-11T11:22:23.227778Z",
          "iopub.status.busy": "2021-10-11T11:22:23.227296Z",
          "iopub.status.idle": "2021-10-11T11:22:23.235741Z",
          "shell.execute_reply": "2021-10-11T11:22:23.235081Z",
          "shell.execute_reply.started": "2021-10-11T11:22:23.227728Z"
        },
        "id": "U7F2xdq6AeVE",
        "outputId": "134fe7a0-a0b1-4316-b7a1-f774f8f20fb4",
        "colab": {
          "base_uri": "https://localhost:8080/"
        }
      },
      "source": [
        "#Exploring the notes dictionary\n",
        "Notes = list(count_num.keys())\n",
        "Recurrence = list(count_num.values())\n",
        "#Average recurrenc for a note in Corpus\n",
        "def Average(lst):\n",
        "    return sum(lst) / len(lst)\n",
        "print(\"Average recurrenc for a note in Corpus:\", Average(Recurrence))\n",
        "print(\"Most frequent note in Corpus appeared:\", max(Recurrence), \"times\")\n",
        "print(\"Least frequent note in Corpus appeared:\", min(Recurrence), \"time\")"
      ],
      "execution_count": 12,
      "outputs": [
        {
          "output_type": "stream",
          "name": "stdout",
          "text": [
            "Average recurrenc for a note in Corpus: 200.09148264984228\n",
            "Most frequent note in Corpus appeared: 1869 times\n",
            "Least frequent note in Corpus appeared: 1 time\n"
          ]
        }
      ]
    },
    {
      "cell_type": "markdown",
      "metadata": {
        "id": "6HJCBti4AeVF"
      },
      "source": [
        "Clearly, there are some very rare notes in the melody; some so rare that it was played only once in the whole data. This would create a lot of problems. (I did run into most of them while writing this piece)\n",
        "To spare us the error reports, let us have a look at the frequency of the notes. \n",
        "And for simplicity, I shall be eliminating some of the least occurring notes. I am sure Chopin wouldn't mind me messing with his masterpiece for science or would he? Either way, I may never know!   "
      ]
    },
    {
      "cell_type": "code",
      "metadata": {
        "execution": {
          "iopub.execute_input": "2021-10-11T11:22:23.239962Z",
          "iopub.status.busy": "2021-10-11T11:22:23.239300Z",
          "iopub.status.idle": "2021-10-11T11:22:23.648745Z",
          "shell.execute_reply": "2021-10-11T11:22:23.647902Z",
          "shell.execute_reply.started": "2021-10-11T11:22:23.239927Z"
        },
        "id": "4siaNQfEAeVF",
        "outputId": "b8a2701b-5696-436d-a58a-ae77f5c4575b",
        "colab": {
          "base_uri": "https://localhost:8080/",
          "height": 239
        }
      },
      "source": [
        "# Plotting the distribution of Notes\n",
        "plt.figure(figsize=(18,3),facecolor=\"#97BACB\")\n",
        "bins = np.arange(0,(max(Recurrence)), 50) \n",
        "plt.hist(Recurrence, bins=bins, color=\"#97BACB\")\n",
        "plt.axvline(x=100,color=\"#DBACC1\")\n",
        "plt.title(\"Frequency Distribution Of Notes In The Corpus\")\n",
        "plt.xlabel(\"Frequency Of Chords in Corpus\")\n",
        "plt.ylabel(\"Number Of Chords\")\n",
        "plt.show()"
      ],
      "execution_count": 13,
      "outputs": [
        {
          "output_type": "display_data",
          "data": {
            "image/png": "[encoded data removed]",
            "text/plain": [
              "<Figure size 1296x216 with 1 Axes>"
            ]
          },
          "metadata": {
            "image/png": {
              "width": 1058,
              "height": 222
            }
          }
        }
      ]
    },
    {
      "cell_type": "markdown",
      "metadata": {
        "id": "ixNEAM2dAeVF"
      },
      "source": [
        "I have decided, I will be taking out the notes that were played less than 100 times. I mean, if Chopin liked them he would have played it a lot more often. So I create a list of rare notes in the next section. "
      ]
    },
    {
      "cell_type": "code",
      "metadata": {
        "execution": {
          "iopub.execute_input": "2021-10-11T11:22:23.650629Z",
          "iopub.status.busy": "2021-10-11T11:22:23.650348Z",
          "iopub.status.idle": "2021-10-11T11:22:23.656827Z",
          "shell.execute_reply": "2021-10-11T11:22:23.655939Z",
          "shell.execute_reply.started": "2021-10-11T11:22:23.650595Z"
        },
        "id": "Z0RrQpXJAeVF",
        "outputId": "902db4f7-9069-4e97-c445-8b072587e54d",
        "colab": {
          "base_uri": "https://localhost:8080/"
        }
      },
      "source": [
        "#Getting a list of rare chords\n",
        "rare_note = []\n",
        "for index, (key, value) in enumerate(count_num.items()):\n",
        "    if value < 100:\n",
        "        m =  key\n",
        "        rare_note.append(m)\n",
        "        \n",
        "print(\"Total number of notes that occur less than 100 times:\", len(rare_note))"
      ],
      "execution_count": 14,
      "outputs": [
        {
          "output_type": "stream",
          "name": "stdout",
          "text": [
            "Total number of notes that occur less than 100 times: 200\n"
          ]
        }
      ]
    },
    {
      "cell_type": "code",
      "metadata": {
        "execution": {
          "iopub.execute_input": "2021-10-11T11:22:23.658586Z",
          "iopub.status.busy": "2021-10-11T11:22:23.658297Z",
          "iopub.status.idle": "2021-10-11T11:22:25.737944Z",
          "shell.execute_reply": "2021-10-11T11:22:25.737173Z",
          "shell.execute_reply.started": "2021-10-11T11:22:23.658551Z"
        },
        "id": "AM8TmJImAeVF",
        "outputId": "f48c64e3-2e2e-4a13-ea7c-7080cf22514e",
        "colab": {
          "base_uri": "https://localhost:8080/"
        }
      },
      "source": [
        "#Eleminating the rare notes\n",
        "for element in Corpus:\n",
        "    if element in rare_note:\n",
        "        Corpus.remove(element)\n",
        "\n",
        "print(\"Length of Corpus after elemination the rare notes:\", len(Corpus))"
      ],
      "execution_count": 15,
      "outputs": [
        {
          "output_type": "stream",
          "name": "stdout",
          "text": [
            "Length of Corpus after elemination the rare notes: 59853\n"
          ]
        }
      ]
    },
    {
      "cell_type": "markdown",
      "metadata": {
        "id": "vRGpyCVPAeVG"
      },
      "source": [
        "Finally! This is the cleaned data Corpus that I will be using for the music generation.  \n",
        "In the next section, I will be preprocessing this Corpus for the training model. \n",
        "\n",
        "The workflow for this project involves,\n",
        "\n",
        "<p style=\"background-color:#EBDDD0;font-family:newtimeroman;color:#444160;text-align:center;font-size:120%;\">Loading Data ➡️ Preprocessing ➡️ Building Mapping Dictionary ➡️ Building Model ➡️ Generating Music</p>\n",
        "\n",
        "As I have loaded and explored the data,  I will proceed further by pre-processing the text.  \n",
        "\n",
        "\n",
        "<a id=\"4\"></a>\n",
        "# <p style=\"background-color:#97BACB;font-family:newtimeroman;color:#EBDDD0;font-size:120%;text-align:center;border-radius:40px 40px;\">DATA PREPROCESSING</p>\n",
        "\n",
        "Notes are basically sound waves. In music, we have certain specific combinations of Frequency and Wavelength standardized as said notes. Our Corpus has the name of that note. As we parsed the data at the time of loading we took the help of the music21 library (by nice people at MIT); The library fetches Frequency, Wavelength, duration etc for the given notes. \n",
        "\n",
        "\n",
        "\n",
        "**In this section, I will be performing the following:**\n",
        "\n",
        "**Creating a dictionary:** Creating a dictionary to map the notes and their indices. We have the note's name as a string the Corpus. For the computer, these names are just a symbol. So we create a dictionary to map each unique note in our Corpus to a number. And vice versa to retrieve the values at the time of prediction. This will be used to encode and decode the information going in and getting out of the RNN. \n",
        "\n",
        "**Encoding and Splitting the corpus:** Encoding and splitting the corpus into smaller sequences of equal length: At this point, the Corpus contain notes. We will encode this corpus and create small sequences of equal lengths of features and the corresponding targets. Each feature and target will contain the mapped index in the dictionary of the unique characters they signify. \n",
        "\n",
        "**Assigning X and y:** The labels are then resized and normalized. Whereas the targets are one-hot encoded. Ready to be sent to the RNN for the training, but before that let us built the RNN model. \n",
        "\n",
        "**Splitting Train and Seed datasets** To create music we will need to send some input to the RNN. For that, we will set aside a part of the data as seeds. We could have trained it all but I am no musician to come up with an input seed value. \n",
        "\n",
        "**Creating a list of sorted unique characters**"
      ]
    },
    {
      "cell_type": "code",
      "metadata": {
        "execution": {
          "iopub.execute_input": "2021-10-11T11:22:25.739783Z",
          "iopub.status.busy": "2021-10-11T11:22:25.739349Z",
          "iopub.status.idle": "2021-10-11T11:22:25.749121Z",
          "shell.execute_reply": "2021-10-11T11:22:25.748170Z",
          "shell.execute_reply.started": "2021-10-11T11:22:25.739747Z"
        },
        "id": "8Dx4zVsAAeVG",
        "outputId": "38f7d0e3-3609-4683-b249-006ae721adee",
        "colab": {
          "base_uri": "https://localhost:8080/"
        }
      },
      "source": [
        "# Storing all the unique characters present in my corpus to bult a mapping dic. \n",
        "symb = sorted(list(set(Corpus)))\n",
        "\n",
        "L_corpus = len(Corpus) #length of corpus\n",
        "L_symb = len(symb) #length of total unique characters\n",
        "\n",
        "#Building dictionary to access the vocabulary from indices and vice versa\n",
        "mapping = dict((c, i) for i, c in enumerate(symb))\n",
        "reverse_mapping = dict((i, c) for i, c in enumerate(symb))\n",
        "\n",
        "print(\"Total number of characters:\", L_corpus)\n",
        "print(\"Number of unique characters:\", L_symb)"
      ],
      "execution_count": 16,
      "outputs": [
        {
          "output_type": "stream",
          "name": "stdout",
          "text": [
            "Total number of characters: 59853\n",
            "Number of unique characters: 228\n"
          ]
        }
      ]
    },
    {
      "cell_type": "markdown",
      "metadata": {
        "id": "6TNzFpJXAeVG"
      },
      "source": [
        "**Encoding and Splitting the Corpus as Labels and Targets**"
      ]
    },
    {
      "cell_type": "code",
      "metadata": {
        "execution": {
          "iopub.execute_input": "2021-10-11T11:22:25.751166Z",
          "iopub.status.busy": "2021-10-11T11:22:25.750838Z",
          "iopub.status.idle": "2021-10-11T11:22:26.011177Z",
          "shell.execute_reply": "2021-10-11T11:22:26.010136Z",
          "shell.execute_reply.started": "2021-10-11T11:22:25.751083Z"
        },
        "id": "mFGuGPFjAeVG",
        "outputId": "8468df72-257f-4c37-8d80-1b01a9019737",
        "colab": {
          "base_uri": "https://localhost:8080/"
        }
      },
      "source": [
        "#Splitting the Corpus in equal length of strings and output target\n",
        "length = 40\n",
        "features = []\n",
        "targets = []\n",
        "for i in range(0, L_corpus - length, 1):\n",
        "    feature = Corpus[i:i + length]\n",
        "    target = Corpus[i + length]\n",
        "    features.append([mapping[j] for j in feature])\n",
        "    targets.append(mapping[target])\n",
        "    \n",
        "    \n",
        "L_datapoints = len(targets)\n",
        "print(\"Total number of sequences in the Corpus:\", L_datapoints)"
      ],
      "execution_count": 17,
      "outputs": [
        {
          "output_type": "stream",
          "name": "stdout",
          "text": [
            "Total number of sequences in the Corpus: 59813\n"
          ]
        }
      ]
    },
    {
      "cell_type": "code",
      "metadata": {
        "execution": {
          "iopub.execute_input": "2021-10-11T11:22:26.012960Z",
          "iopub.status.busy": "2021-10-11T11:22:26.012606Z",
          "iopub.status.idle": "2021-10-11T11:22:26.491054Z",
          "shell.execute_reply": "2021-10-11T11:22:26.490304Z",
          "shell.execute_reply.started": "2021-10-11T11:22:26.012924Z"
        },
        "id": "5xgDh9NPAeVG"
      },
      "source": [
        "# reshape X and normalize\n",
        "X = (np.reshape(features, (L_datapoints, length, 1)))/ float(L_symb)\n",
        "# one hot encode the output variable\n",
        "y = tensorflow.keras.utils.to_categorical(targets) "
      ],
      "execution_count": 18,
      "outputs": []
    },
    {
      "cell_type": "markdown",
      "metadata": {
        "id": "WYafu0TMAeVH"
      },
      "source": [
        "**Splitting Train and Seed datasets**"
      ]
    },
    {
      "cell_type": "code",
      "metadata": {
        "execution": {
          "iopub.execute_input": "2021-10-11T11:22:26.492824Z",
          "iopub.status.busy": "2021-10-11T11:22:26.492546Z",
          "iopub.status.idle": "2021-10-11T11:22:26.534046Z",
          "shell.execute_reply": "2021-10-11T11:22:26.533177Z",
          "shell.execute_reply.started": "2021-10-11T11:22:26.492789Z"
        },
        "id": "GbWnenQAAeVH"
      },
      "source": [
        "#Taking out a subset of data to be used as seed\n",
        "X_train, X_seed, y_train, y_seed = train_test_split(X, y, test_size=0.2, random_state=42)"
      ],
      "execution_count": 19,
      "outputs": []
    },
    {
      "cell_type": "markdown",
      "metadata": {
        "id": "u_p8_ckBAeVH"
      },
      "source": [
        "<a id=\"5\"></a>\n",
        "# <p style=\"background-color:#97BACB;font-family:newtimeroman;color:#EBDDD0;font-size:120%;text-align:center;border-radius:40px 40px;\">MODEL BUILDING</p>\n",
        "\n",
        "I will be employing an LSTM for this project.\n",
        "\n",
        "**Following steps are involved in the model building**\n",
        "\n",
        "* Initialising the Model\n",
        "* Defining by adding layers\n",
        "* Compiling the Model\n",
        "* Training the Model\n",
        "\n",
        "**Building the Model**"
      ]
    },
    {
      "cell_type": "code",
      "metadata": {
        "_kg_hide-output": true,
        "execution": {
          "iopub.execute_input": "2021-10-11T11:22:26.536044Z",
          "iopub.status.busy": "2021-10-11T11:22:26.535608Z",
          "iopub.status.idle": "2021-10-11T11:22:29.074068Z",
          "shell.execute_reply": "2021-10-11T11:22:29.073278Z",
          "shell.execute_reply.started": "2021-10-11T11:22:26.535998Z"
        },
        "id": "xyKp2lXyAeVH"
      },
      "source": [
        "#Initialising the Model\n",
        "model = Sequential()\n",
        "#Adding layers\n",
        "model.add(LSTM(512, input_shape=(X.shape[1], X.shape[2]), return_sequences=True))\n",
        "model.add(Dropout(0.1))\n",
        "model.add(LSTM(256))\n",
        "model.add(Dense(256))\n",
        "model.add(Dropout(0.1))\n",
        "model.add(Dense(y.shape[1], activation='softmax'))\n",
        "#Compiling the model for training  \n",
        "opt = Adamax(learning_rate=0.01)\n",
        "model.compile(loss='categorical_crossentropy', optimizer=opt)\n"
      ],
      "execution_count": 20,
      "outputs": []
    },
    {
      "cell_type": "code",
      "metadata": {
        "execution": {
          "iopub.execute_input": "2021-10-11T11:22:29.075722Z",
          "iopub.status.busy": "2021-10-11T11:22:29.075442Z",
          "iopub.status.idle": "2021-10-11T11:22:29.086510Z",
          "shell.execute_reply": "2021-10-11T11:22:29.085555Z",
          "shell.execute_reply.started": "2021-10-11T11:22:29.075690Z"
        },
        "id": "IuOa3NYOAeVH",
        "outputId": "e49684ce-7628-4584-d7a3-bf9ac10d480f",
        "colab": {
          "base_uri": "https://localhost:8080/"
        }
      },
      "source": [
        "#Model's Summary               \n",
        "model.summary()"
      ],
      "execution_count": 21,
      "outputs": [
        {
          "output_type": "stream",
          "name": "stdout",
          "text": [
            "Model: \"sequential\"\n",
            "_________________________________________________________________\n",
            " Layer (type)                Output Shape              Param #   \n",
            "=================================================================\n",
            " lstm (LSTM)                 (None, 40, 512)           1052672   \n",
            "                                                                 \n",
            " dropout (Dropout)           (None, 40, 512)           0         \n",
            "                                                                 \n",
            " lstm_1 (LSTM)               (None, 256)               787456    \n",
            "                                                                 \n",
            " dense (Dense)               (None, 256)               65792     \n",
            "                                                                 \n",
            " dropout_1 (Dropout)         (None, 256)               0         \n",
            "                                                                 \n",
            " dense_1 (Dense)             (None, 228)               58596     \n",
            "                                                                 \n",
            "=================================================================\n",
            "Total params: 1,964,516\n",
            "Trainable params: 1,964,516\n",
            "Non-trainable params: 0\n",
            "_________________________________________________________________\n"
          ]
        }
      ]
    },
    {
      "cell_type": "code",
      "metadata": {
        "_kg_hide-output": true,
        "execution": {
          "iopub.execute_input": "2021-10-11T11:22:29.088315Z",
          "iopub.status.busy": "2021-10-11T11:22:29.088068Z",
          "iopub.status.idle": "2021-10-11T11:39:04.559223Z",
          "shell.execute_reply": "2021-10-11T11:39:04.558518Z",
          "shell.execute_reply.started": "2021-10-11T11:22:29.088288Z"
        },
        "id": "GQc1jBtgAeVH",
        "outputId": "f54fe649-e9c3-40f2-e053-f3a65e164337",
        "colab": {
          "base_uri": "https://localhost:8080/"
        }
      },
      "source": [
        "#Training the Model\n",
        "history = model.fit(X_train, y_train, batch_size=256, epochs=200)"
      ],
      "execution_count": 22,
      "outputs": [
        {
          "output_type": "stream",
          "name": "stdout",
          "text": [
            "Epoch 1/200\n",
            "187/187 [==============================] - 25s 87ms/step - loss: 4.5672\n",
            "Epoch 2/200\n",
            "187/187 [==============================] - 16s 86ms/step - loss: 4.5122\n",
            "Epoch 3/200\n",
            "187/187 [==============================] - 16s 87ms/step - loss: 4.5089\n",
            "Epoch 4/200\n",
            "187/187 [==============================] - 17s 89ms/step - loss: 4.5075\n",
            "Epoch 5/200\n",
            "187/187 [==============================] - 16s 88ms/step - loss: 4.5053\n",
            "Epoch 6/200\n",
            "187/187 [==============================] - 16s 88ms/step - loss: 4.5063\n",
            "Epoch 7/200\n",
            "187/187 [==============================] - 16s 87ms/step - loss: 4.5048\n",
            "Epoch 8/200\n",
            "187/187 [==============================] - 16s 87ms/step - loss: 4.5035\n",
            "Epoch 9/200\n",
            "187/187 [==============================] - 16s 87ms/step - loss: 4.5020\n",
            "Epoch 10/200\n",
            "187/187 [==============================] - 16s 87ms/step - loss: 4.5005\n",
            "Epoch 11/200\n",
            "187/187 [==============================] - 16s 87ms/step - loss: 4.4876\n",
            "Epoch 12/200\n",
            "187/187 [==============================] - 17s 88ms/step - loss: 4.3947\n",
            "Epoch 13/200\n",
            "187/187 [==============================] - 17s 88ms/step - loss: 4.3465\n",
            "Epoch 14/200\n",
            "187/187 [==============================] - 17s 89ms/step - loss: 4.3301\n",
            "Epoch 15/200\n",
            "187/187 [==============================] - 16s 87ms/step - loss: 4.3206\n",
            "Epoch 16/200\n",
            "187/187 [==============================] - 16s 87ms/step - loss: 4.3048\n",
            "Epoch 17/200\n",
            "187/187 [==============================] - 16s 87ms/step - loss: 4.2995\n",
            "Epoch 18/200\n",
            "187/187 [==============================] - 16s 87ms/step - loss: 4.2934\n",
            "Epoch 19/200\n",
            "187/187 [==============================] - 16s 88ms/step - loss: 4.2907\n",
            "Epoch 20/200\n",
            "187/187 [==============================] - 17s 89ms/step - loss: 4.2878\n",
            "Epoch 21/200\n",
            "187/187 [==============================] - 17s 89ms/step - loss: 4.2797\n",
            "Epoch 22/200\n",
            "187/187 [==============================] - 17s 89ms/step - loss: 4.2740\n",
            "Epoch 23/200\n",
            "187/187 [==============================] - 16s 88ms/step - loss: 4.2686\n",
            "Epoch 24/200\n",
            "187/187 [==============================] - 16s 88ms/step - loss: 4.2682\n",
            "Epoch 25/200\n",
            "187/187 [==============================] - 16s 87ms/step - loss: 4.2628\n",
            "Epoch 26/200\n",
            "187/187 [==============================] - 16s 87ms/step - loss: 4.2494\n",
            "Epoch 27/200\n",
            "187/187 [==============================] - 16s 88ms/step - loss: 4.2228\n",
            "Epoch 28/200\n",
            "187/187 [==============================] - 17s 89ms/step - loss: 4.1964\n",
            "Epoch 29/200\n",
            "187/187 [==============================] - 17s 89ms/step - loss: 4.1647\n",
            "Epoch 30/200\n",
            "187/187 [==============================] - 17s 89ms/step - loss: 4.1420\n",
            "Epoch 31/200\n",
            "187/187 [==============================] - 16s 88ms/step - loss: 4.1012\n",
            "Epoch 32/200\n",
            "187/187 [==============================] - 16s 87ms/step - loss: 4.0517\n",
            "Epoch 33/200\n",
            "187/187 [==============================] - 16s 87ms/step - loss: 3.9847\n",
            "Epoch 34/200\n",
            "187/187 [==============================] - 16s 88ms/step - loss: 3.8852\n",
            "Epoch 35/200\n",
            "187/187 [==============================] - 17s 88ms/step - loss: 3.7700\n",
            "Epoch 36/200\n",
            "187/187 [==============================] - 17s 89ms/step - loss: 3.6253\n",
            "Epoch 37/200\n",
            "187/187 [==============================] - 17s 89ms/step - loss: 3.4635\n",
            "Epoch 38/200\n",
            "187/187 [==============================] - 17s 88ms/step - loss: 3.2826\n",
            "Epoch 39/200\n",
            "187/187 [==============================] - 16s 88ms/step - loss: 3.1039\n",
            "Epoch 40/200\n",
            "187/187 [==============================] - 16s 88ms/step - loss: 2.9341\n",
            "Epoch 41/200\n",
            "187/187 [==============================] - 16s 88ms/step - loss: 2.7474\n",
            "Epoch 42/200\n",
            "187/187 [==============================] - 16s 87ms/step - loss: 2.5705\n",
            "Epoch 43/200\n",
            "187/187 [==============================] - 17s 89ms/step - loss: 2.3975\n",
            "Epoch 44/200\n",
            "187/187 [==============================] - 17s 89ms/step - loss: 2.2245\n",
            "Epoch 45/200\n",
            "187/187 [==============================] - 17s 89ms/step - loss: 2.0598\n",
            "Epoch 46/200\n",
            "187/187 [==============================] - 17s 89ms/step - loss: 1.9130\n",
            "Epoch 47/200\n",
            "187/187 [==============================] - 16s 87ms/step - loss: 1.7691\n",
            "Epoch 48/200\n",
            "187/187 [==============================] - 16s 88ms/step - loss: 1.6351\n",
            "Epoch 49/200\n",
            "187/187 [==============================] - 16s 88ms/step - loss: 1.5208\n",
            "Epoch 50/200\n",
            "187/187 [==============================] - 17s 89ms/step - loss: 1.3953\n",
            "Epoch 51/200\n",
            "187/187 [==============================] - 17s 89ms/step - loss: 1.2917\n",
            "Epoch 52/200\n",
            "187/187 [==============================] - 17s 90ms/step - loss: 1.1967\n",
            "Epoch 53/200\n",
            "187/187 [==============================] - 17s 89ms/step - loss: 1.1165\n",
            "Epoch 54/200\n",
            "187/187 [==============================] - 16s 88ms/step - loss: 1.0141\n",
            "Epoch 55/200\n",
            "187/187 [==============================] - 16s 87ms/step - loss: 0.9558\n",
            "Epoch 56/200\n",
            "187/187 [==============================] - 16s 88ms/step - loss: 0.8902\n",
            "Epoch 57/200\n",
            "187/187 [==============================] - 16s 88ms/step - loss: 0.8153\n",
            "Epoch 58/200\n",
            "187/187 [==============================] - 17s 89ms/step - loss: 0.7585\n",
            "Epoch 59/200\n",
            "187/187 [==============================] - 17s 89ms/step - loss: 0.7344\n",
            "Epoch 60/200\n",
            "187/187 [==============================] - 17s 89ms/step - loss: 0.6723\n",
            "Epoch 61/200\n",
            "187/187 [==============================] - 16s 88ms/step - loss: 0.6390\n",
            "Epoch 62/200\n",
            "187/187 [==============================] - 17s 88ms/step - loss: 0.5906\n",
            "Epoch 63/200\n",
            "187/187 [==============================] - 16s 88ms/step - loss: 0.5645\n",
            "Epoch 64/200\n",
            "187/187 [==============================] - 16s 88ms/step - loss: 0.5344\n",
            "Epoch 65/200\n",
            "187/187 [==============================] - 17s 89ms/step - loss: 0.5029\n",
            "Epoch 66/200\n",
            "187/187 [==============================] - 17s 88ms/step - loss: 0.4862\n",
            "Epoch 67/200\n",
            "187/187 [==============================] - 17s 89ms/step - loss: 0.4443\n",
            "Epoch 68/200\n",
            "187/187 [==============================] - 17s 89ms/step - loss: 0.4470\n",
            "Epoch 69/200\n",
            "187/187 [==============================] - 17s 88ms/step - loss: 0.4226\n",
            "Epoch 70/200\n",
            "187/187 [==============================] - 16s 88ms/step - loss: 0.4007\n",
            "Epoch 71/200\n",
            "187/187 [==============================] - 16s 88ms/step - loss: 0.3805\n",
            "Epoch 72/200\n",
            "187/187 [==============================] - 16s 88ms/step - loss: 0.3634\n",
            "Epoch 73/200\n",
            "187/187 [==============================] - 17s 90ms/step - loss: 0.3678\n",
            "Epoch 74/200\n",
            "187/187 [==============================] - 17s 89ms/step - loss: 0.3549\n",
            "Epoch 75/200\n",
            "187/187 [==============================] - 17s 89ms/step - loss: 0.3340\n",
            "Epoch 76/200\n",
            "187/187 [==============================] - 17s 89ms/step - loss: 0.3317\n",
            "Epoch 77/200\n",
            "187/187 [==============================] - 16s 88ms/step - loss: 0.3126\n",
            "Epoch 78/200\n",
            "187/187 [==============================] - 16s 87ms/step - loss: 0.3116\n",
            "Epoch 79/200\n",
            "187/187 [==============================] - 16s 87ms/step - loss: 0.3061\n",
            "Epoch 80/200\n",
            "187/187 [==============================] - 17s 88ms/step - loss: 0.2826\n",
            "Epoch 81/200\n",
            "187/187 [==============================] - 17s 89ms/step - loss: 0.2824\n",
            "Epoch 82/200\n",
            "187/187 [==============================] - 17s 89ms/step - loss: 0.2777\n",
            "Epoch 83/200\n",
            "187/187 [==============================] - 17s 89ms/step - loss: 0.2752\n",
            "Epoch 84/200\n",
            "187/187 [==============================] - 17s 89ms/step - loss: 0.2635\n",
            "Epoch 85/200\n",
            "187/187 [==============================] - 16s 88ms/step - loss: 0.2560\n",
            "Epoch 86/200\n",
            "187/187 [==============================] - 16s 88ms/step - loss: 0.2420\n",
            "Epoch 87/200\n",
            "187/187 [==============================] - 16s 88ms/step - loss: 0.2395\n",
            "Epoch 88/200\n",
            "187/187 [==============================] - 17s 89ms/step - loss: 0.2425\n",
            "Epoch 89/200\n",
            "187/187 [==============================] - 17s 89ms/step - loss: 0.2466\n",
            "Epoch 90/200\n",
            "187/187 [==============================] - 17s 89ms/step - loss: 0.2317\n",
            "Epoch 91/200\n",
            "187/187 [==============================] - 17s 89ms/step - loss: 0.2256\n",
            "Epoch 92/200\n",
            "187/187 [==============================] - 16s 88ms/step - loss: 0.2152\n",
            "Epoch 93/200\n",
            "187/187 [==============================] - 16s 87ms/step - loss: 0.2150\n",
            "Epoch 94/200\n",
            "187/187 [==============================] - 16s 87ms/step - loss: 0.2125\n",
            "Epoch 95/200\n",
            "187/187 [==============================] - 16s 88ms/step - loss: 0.2155\n",
            "Epoch 96/200\n",
            "187/187 [==============================] - 17s 89ms/step - loss: 0.2188\n",
            "Epoch 97/200\n",
            "187/187 [==============================] - 17s 89ms/step - loss: 0.2112\n",
            "Epoch 98/200\n",
            "187/187 [==============================] - 17s 89ms/step - loss: 0.1866\n",
            "Epoch 99/200\n",
            "187/187 [==============================] - 16s 88ms/step - loss: 0.1983\n",
            "Epoch 100/200\n",
            "187/187 [==============================] - 16s 87ms/step - loss: 0.1912\n",
            "Epoch 101/200\n",
            "187/187 [==============================] - 16s 87ms/step - loss: 0.1860\n",
            "Epoch 102/200\n",
            "187/187 [==============================] - 16s 87ms/step - loss: 0.1797\n",
            "Epoch 103/200\n",
            "187/187 [==============================] - 16s 88ms/step - loss: 0.1846\n",
            "Epoch 104/200\n",
            "187/187 [==============================] - 17s 89ms/step - loss: 0.1763\n",
            "Epoch 105/200\n",
            "187/187 [==============================] - 17s 89ms/step - loss: 0.1692\n",
            "Epoch 106/200\n",
            "187/187 [==============================] - 17s 89ms/step - loss: 0.1719\n",
            "Epoch 107/200\n",
            "187/187 [==============================] - 16s 88ms/step - loss: 0.1703\n",
            "Epoch 108/200\n",
            "187/187 [==============================] - 16s 88ms/step - loss: 0.1593\n",
            "Epoch 109/200\n",
            "187/187 [==============================] - 16s 87ms/step - loss: 0.1733\n",
            "Epoch 110/200\n",
            "187/187 [==============================] - 16s 88ms/step - loss: 0.1689\n",
            "Epoch 111/200\n",
            "187/187 [==============================] - 17s 88ms/step - loss: 0.1663\n",
            "Epoch 112/200\n",
            "187/187 [==============================] - 17s 89ms/step - loss: 0.1577\n",
            "Epoch 113/200\n",
            "187/187 [==============================] - 17s 89ms/step - loss: 0.1646\n",
            "Epoch 114/200\n",
            "187/187 [==============================] - 17s 89ms/step - loss: 0.1668\n",
            "Epoch 115/200\n",
            "187/187 [==============================] - 16s 88ms/step - loss: 0.1563\n",
            "Epoch 116/200\n",
            "187/187 [==============================] - 16s 88ms/step - loss: 0.1581\n",
            "Epoch 117/200\n",
            "187/187 [==============================] - 16s 87ms/step - loss: 0.1504\n",
            "Epoch 118/200\n",
            "187/187 [==============================] - 16s 88ms/step - loss: 0.1508\n",
            "Epoch 119/200\n",
            "187/187 [==============================] - 16s 88ms/step - loss: 0.1541\n",
            "Epoch 120/200\n",
            "187/187 [==============================] - 17s 89ms/step - loss: 0.1467\n",
            "Epoch 121/200\n",
            "187/187 [==============================] - 17s 89ms/step - loss: 0.1433\n",
            "Epoch 122/200\n",
            "187/187 [==============================] - 17s 88ms/step - loss: 0.1471\n",
            "Epoch 123/200\n",
            "187/187 [==============================] - 16s 88ms/step - loss: 0.1549\n",
            "Epoch 124/200\n",
            "187/187 [==============================] - 16s 87ms/step - loss: 0.1482\n",
            "Epoch 125/200\n",
            "187/187 [==============================] - 16s 88ms/step - loss: 0.1361\n",
            "Epoch 126/200\n",
            "187/187 [==============================] - 16s 87ms/step - loss: 0.1390\n",
            "Epoch 127/200\n",
            "187/187 [==============================] - 17s 89ms/step - loss: 0.1327\n",
            "Epoch 128/200\n",
            "187/187 [==============================] - 17s 89ms/step - loss: 0.1366\n",
            "Epoch 129/200\n",
            "187/187 [==============================] - 17s 89ms/step - loss: 0.1378\n",
            "Epoch 130/200\n",
            "187/187 [==============================] - 17s 89ms/step - loss: 0.1358\n",
            "Epoch 131/200\n",
            "187/187 [==============================] - 16s 88ms/step - loss: 0.1359\n",
            "Epoch 132/200\n",
            "187/187 [==============================] - 16s 87ms/step - loss: 0.1335\n",
            "Epoch 133/200\n",
            "187/187 [==============================] - 16s 88ms/step - loss: 0.1174\n",
            "Epoch 134/200\n",
            "187/187 [==============================] - 16s 87ms/step - loss: 0.1322\n",
            "Epoch 135/200\n",
            "187/187 [==============================] - 17s 89ms/step - loss: 0.1224\n",
            "Epoch 136/200\n",
            "187/187 [==============================] - 17s 89ms/step - loss: 0.1313\n",
            "Epoch 137/200\n",
            "187/187 [==============================] - 17s 89ms/step - loss: 0.1248\n",
            "Epoch 138/200\n",
            "187/187 [==============================] - 17s 88ms/step - loss: 0.1206\n",
            "Epoch 139/200\n",
            "187/187 [==============================] - 16s 88ms/step - loss: 0.1221\n",
            "Epoch 140/200\n",
            "187/187 [==============================] - 16s 88ms/step - loss: 0.1243\n",
            "Epoch 141/200\n",
            "187/187 [==============================] - 16s 88ms/step - loss: 0.1191\n",
            "Epoch 142/200\n",
            "187/187 [==============================] - 16s 87ms/step - loss: 0.1224\n",
            "Epoch 143/200\n",
            "187/187 [==============================] - 17s 89ms/step - loss: 0.1208\n",
            "Epoch 144/200\n",
            "187/187 [==============================] - 17s 89ms/step - loss: 0.1142\n",
            "Epoch 145/200\n",
            "187/187 [==============================] - 17s 89ms/step - loss: 0.1101\n",
            "Epoch 146/200\n",
            "187/187 [==============================] - 16s 88ms/step - loss: 0.1200\n",
            "Epoch 147/200\n",
            "187/187 [==============================] - 16s 88ms/step - loss: 0.1126\n",
            "Epoch 148/200\n",
            "187/187 [==============================] - 16s 87ms/step - loss: 0.1181\n",
            "Epoch 149/200\n",
            "187/187 [==============================] - 16s 88ms/step - loss: 0.1132\n",
            "Epoch 150/200\n",
            "187/187 [==============================] - 16s 88ms/step - loss: 0.1128\n",
            "Epoch 151/200\n",
            "187/187 [==============================] - 17s 89ms/step - loss: 0.1098\n",
            "Epoch 152/200\n",
            "187/187 [==============================] - 17s 89ms/step - loss: 0.1032\n",
            "Epoch 153/200\n",
            "187/187 [==============================] - 17s 89ms/step - loss: 0.1076\n",
            "Epoch 154/200\n",
            "187/187 [==============================] - 17s 88ms/step - loss: 0.1116\n",
            "Epoch 155/200\n",
            "187/187 [==============================] - 16s 88ms/step - loss: 0.1011\n",
            "Epoch 156/200\n",
            "187/187 [==============================] - 16s 88ms/step - loss: 0.1101\n",
            "Epoch 157/200\n",
            "187/187 [==============================] - 16s 88ms/step - loss: 0.1074\n",
            "Epoch 158/200\n",
            "187/187 [==============================] - 17s 89ms/step - loss: 0.1137\n",
            "Epoch 159/200\n",
            "187/187 [==============================] - 17s 89ms/step - loss: 0.0978\n",
            "Epoch 160/200\n",
            "187/187 [==============================] - 17s 89ms/step - loss: 0.1016\n",
            "Epoch 161/200\n",
            "187/187 [==============================] - 17s 89ms/step - loss: 0.1013\n",
            "Epoch 162/200\n",
            "187/187 [==============================] - 16s 88ms/step - loss: 0.1007\n",
            "Epoch 163/200\n",
            "187/187 [==============================] - 16s 87ms/step - loss: 0.1051\n",
            "Epoch 164/200\n",
            "187/187 [==============================] - 16s 88ms/step - loss: 0.0980\n",
            "Epoch 165/200\n",
            "187/187 [==============================] - 16s 88ms/step - loss: 0.1023\n",
            "Epoch 166/200\n",
            "187/187 [==============================] - 17s 89ms/step - loss: 0.1005\n",
            "Epoch 167/200\n",
            "187/187 [==============================] - 17s 89ms/step - loss: 0.0975\n",
            "Epoch 168/200\n",
            "187/187 [==============================] - 17s 89ms/step - loss: 0.0934\n",
            "Epoch 169/200\n",
            "187/187 [==============================] - 16s 88ms/step - loss: 0.0952\n",
            "Epoch 170/200\n",
            "187/187 [==============================] - 16s 88ms/step - loss: 0.0995\n",
            "Epoch 171/200\n",
            "187/187 [==============================] - 16s 88ms/step - loss: 0.0948\n",
            "Epoch 172/200\n",
            "187/187 [==============================] - 16s 87ms/step - loss: 0.0938\n",
            "Epoch 173/200\n",
            "187/187 [==============================] - 17s 89ms/step - loss: 0.0974\n",
            "Epoch 174/200\n",
            "187/187 [==============================] - 17s 90ms/step - loss: 0.0935\n",
            "Epoch 175/200\n",
            "187/187 [==============================] - 17s 89ms/step - loss: 0.0827\n",
            "Epoch 176/200\n",
            "187/187 [==============================] - 17s 90ms/step - loss: 0.0906\n",
            "Epoch 177/200\n",
            "187/187 [==============================] - 16s 88ms/step - loss: 0.0936\n",
            "Epoch 178/200\n",
            "187/187 [==============================] - 16s 88ms/step - loss: 0.0932\n",
            "Epoch 179/200\n",
            "187/187 [==============================] - 16s 88ms/step - loss: 0.0937\n",
            "Epoch 180/200\n",
            "187/187 [==============================] - 17s 89ms/step - loss: 0.0861\n",
            "Epoch 181/200\n",
            "187/187 [==============================] - 17s 89ms/step - loss: 0.0884\n",
            "Epoch 182/200\n",
            "187/187 [==============================] - 17s 90ms/step - loss: 0.0974\n",
            "Epoch 183/200\n",
            "187/187 [==============================] - 17s 90ms/step - loss: 0.0880\n",
            "Epoch 184/200\n",
            "187/187 [==============================] - 17s 89ms/step - loss: 0.0901\n",
            "Epoch 185/200\n",
            "187/187 [==============================] - 16s 88ms/step - loss: 0.0877\n",
            "Epoch 186/200\n",
            "187/187 [==============================] - 16s 88ms/step - loss: 0.0830\n",
            "Epoch 187/200\n",
            "187/187 [==============================] - 17s 88ms/step - loss: 0.0849\n",
            "Epoch 188/200\n",
            "187/187 [==============================] - 17s 89ms/step - loss: 0.0870\n",
            "Epoch 189/200\n",
            "187/187 [==============================] - 17s 89ms/step - loss: 0.0847\n",
            "Epoch 190/200\n",
            "187/187 [==============================] - 17s 89ms/step - loss: 0.0848\n",
            "Epoch 191/200\n",
            "187/187 [==============================] - 17s 89ms/step - loss: 0.0865\n",
            "Epoch 192/200\n",
            "187/187 [==============================] - 16s 88ms/step - loss: 0.0879\n",
            "Epoch 193/200\n",
            "187/187 [==============================] - 16s 88ms/step - loss: 0.0782\n",
            "Epoch 194/200\n",
            "187/187 [==============================] - 16s 88ms/step - loss: 0.0902\n",
            "Epoch 195/200\n",
            "187/187 [==============================] - 17s 89ms/step - loss: 0.0813\n",
            "Epoch 196/200\n",
            "187/187 [==============================] - 17s 89ms/step - loss: 0.0797\n",
            "Epoch 197/200\n",
            "187/187 [==============================] - 17s 89ms/step - loss: 0.0833\n",
            "Epoch 198/200\n",
            "187/187 [==============================] - 17s 89ms/step - loss: 0.0819\n",
            "Epoch 199/200\n",
            "187/187 [==============================] - 17s 88ms/step - loss: 0.0749\n",
            "Epoch 200/200\n",
            "187/187 [==============================] - 16s 88ms/step - loss: 0.0832\n"
          ]
        }
      ]
    },
    {
      "cell_type": "code",
      "metadata": {
        "id": "N-_ycmWEDLCN",
        "outputId": "bbde2258-bd43-476e-8528-c45cf46daf1d",
        "colab": {
          "base_uri": "https://localhost:8080/"
        }
      },
      "source": [
        "model.save('/content/drive/MyDrive/tejus_model')"
      ],
      "execution_count": 23,
      "outputs": [
        {
          "output_type": "stream",
          "name": "stderr",
          "text": [
            "WARNING:absl:Found untraced functions such as lstm_cell_layer_call_fn, lstm_cell_layer_call_and_return_conditional_losses, lstm_cell_1_layer_call_fn, lstm_cell_1_layer_call_and_return_conditional_losses, lstm_cell_layer_call_fn while saving (showing 5 of 10). These functions will not be directly callable after loading.\n"
          ]
        },
        {
          "output_type": "stream",
          "name": "stdout",
          "text": [
            "INFO:tensorflow:Assets written to: /content/drive/MyDrive/tejus_model/assets\n"
          ]
        },
        {
          "output_type": "stream",
          "name": "stderr",
          "text": [
            "INFO:tensorflow:Assets written to: /content/drive/MyDrive/tejus_model/assets\n",
            "WARNING:absl:<keras.layers.recurrent.LSTMCell object at 0x7f542d176c50> has the same name 'LSTMCell' as a built-in Keras object. Consider renaming <class 'keras.layers.recurrent.LSTMCell'> to avoid naming conflicts when loading with `tf.keras.models.load_model`. If renaming is not possible, pass the object in the `custom_objects` parameter of the load function.\n",
            "WARNING:absl:<keras.layers.recurrent.LSTMCell object at 0x7f542ce52ed0> has the same name 'LSTMCell' as a built-in Keras object. Consider renaming <class 'keras.layers.recurrent.LSTMCell'> to avoid naming conflicts when loading with `tf.keras.models.load_model`. If renaming is not possible, pass the object in the `custom_objects` parameter of the load function.\n"
          ]
        }
      ]
    },
    {
      "cell_type": "code",
      "metadata": {
        "id": "PxbOiZU1Pu7W"
      },
      "source": [
        "tensorflow.keras.models.save_model(\n",
        "    model, '/content/drive/MyDrive/tejus_modelh5', overwrite=True, include_optimizer=True, save_format='h5',\n",
        "    signatures=None, options=None, save_traces=True\n",
        ")"
      ],
      "execution_count": 27,
      "outputs": []
    },
    {
      "cell_type": "markdown",
      "metadata": {
        "id": "Q7V5BlCMAeVH"
      },
      "source": [
        "<a id=\"6\"></a>\n",
        "# <p style=\"background-color:#97BACB;font-family:newtimeroman;color:#EBDDD0;font-size:120%;text-align:center;border-radius:40px 40px;\">EVALUATING MODELS</p>\n",
        "\n",
        "Now that I have my model trained on the MIDI files of piano music, let us see how it performs. \n",
        "\n",
        "**To evaluate my model, I shall be having a look at:**\n",
        "* The performance of the model via Learning Curves\n",
        "* The melody created\n",
        "\n",
        "**Plotting the learning curve for the loss function**"
      ]
    },
    {
      "cell_type": "code",
      "metadata": {
        "execution": {
          "iopub.execute_input": "2021-10-11T11:39:04.560925Z",
          "iopub.status.busy": "2021-10-11T11:39:04.560441Z",
          "iopub.status.idle": "2021-10-11T11:39:04.933991Z",
          "shell.execute_reply": "2021-10-11T11:39:04.933094Z",
          "shell.execute_reply.started": "2021-10-11T11:39:04.560889Z"
        },
        "id": "4CbWTCOBAeVI",
        "outputId": "2ebdefc7-d2cf-4325-8d37-0a83317bb7a4",
        "colab": {
          "base_uri": "https://localhost:8080/",
          "height": 324
        }
      },
      "source": [
        "#Plotting the learnings \n",
        "history_df = pd.DataFrame(history.history)\n",
        "fig = plt.figure(figsize=(15,4), facecolor=\"#97BACB\")\n",
        "fig.suptitle(\"Learning Plot of Model for Loss\")\n",
        "pl=sns.lineplot(data=history_df[\"loss\"],color=\"#444160\")\n",
        "pl.set(ylabel =\"Training Loss\")\n",
        "pl.set(xlabel =\"Epochs\")"
      ],
      "execution_count": 24,
      "outputs": [
        {
          "output_type": "execute_result",
          "data": {
            "text/plain": [
              "[Text(0.5, 0, 'Epochs')]"
            ]
          },
          "metadata": {},
          "execution_count": 24
        },
        {
          "output_type": "display_data",
          "data": {
            "image/png": "[encoded data removed]",
            "text/plain": [
              "<Figure size 1080x288 with 1 Axes>"
            ]
          },
          "metadata": {
            "image/png": {
              "width": 878,
              "height": 290
            }
          }
        }
      ]
    },
    {
      "cell_type": "markdown",
      "metadata": {
        "id": "3wsLZLFrAeVI"
      },
      "source": [
        "**Generating the Melody**\n",
        "\n",
        "A function to obtain the generated music"
      ]
    },
    {
      "cell_type": "code",
      "metadata": {
        "execution": {
          "iopub.execute_input": "2021-10-11T11:39:04.935860Z",
          "iopub.status.busy": "2021-10-11T11:39:04.935517Z",
          "iopub.status.idle": "2021-10-11T11:39:09.963958Z",
          "shell.execute_reply": "2021-10-11T11:39:09.962264Z",
          "shell.execute_reply.started": "2021-10-11T11:39:04.935822Z"
        },
        "id": "yd7ma74vAeVI",
        "outputId": "87530c04-1975-4172-c5c8-8e403291085c",
        "colab": {
          "base_uri": "https://localhost:8080/",
          "height": 458
        }
      },
      "source": [
        "def Malody_Generator(Note_Count):\n",
        "    seed = X_seed[np.random.randint(0,len(X_seed)-1)]\n",
        "    Music = \"\"\n",
        "    Notes_Generated=[]\n",
        "    for i in range(Note_Count):\n",
        "        seed = seed.reshape(1,length,1)\n",
        "        prediction = model.predict(seed, verbose=0)[0]\n",
        "        prediction = np.log(prediction) / 1.0 #diversity\n",
        "        exp_preds = np.exp(prediction)\n",
        "        prediction = exp_preds / np.sum(exp_preds)\n",
        "        index = np.argmax(prediction)\n",
        "        index_N = index/ float(L_symb)   \n",
        "        Notes_Generated.append(index)\n",
        "        Music = [reverse_mapping[char] for char in Notes_Generated]\n",
        "        seed = np.insert(seed[0],len(seed[0]),index_N)\n",
        "        seed = seed[1:]\n",
        "    #Now, we have music in form or a list of chords and notes and we want to be a midi file.\n",
        "    Melody = chords_n_notes(Music)\n",
        "    Melody_midi = stream.Stream(Melody)   \n",
        "    return Music,Melody_midi\n",
        "\n",
        "\n",
        "#getting the Notes and Melody created by the model\n",
        "Music_notes, Melody = Malody_Generator(100)\n",
        "show(Melody)"
      ],
      "execution_count": 28,
      "outputs": [
        {
          "output_type": "display_data",
          "data": {
            "image/png": "[encoded data removed]",
            "text/plain": [
              "<IPython.core.display.Image object>"
            ]
          },
          "metadata": {}
        }
      ]
    },
    {
      "cell_type": "markdown",
      "metadata": {
        "id": "p9eMLKWCAeVJ"
      },
      "source": [
        "<a id=\"7\"></a>\n",
        "# <p style=\"background-color:#97BACB;font-family:newtimeroman;color:#EBDDD0;font-size:120%;text-align:center;border-radius:40px 40px;\">CONCLUSION</p>\n",
        "<p style=\"font-family:newtimeroman;font-size:120%;color:#97BACB\">On inspecting the generated melody, I am quite satisfied. Unlike the lyrics project, The music doesn't have to hold true to the grammatical syntax. On the question, is it a good musical composition; is it artsy? Did our LSTM create a masterpiece? I don't know! I am not a connoisseur of music. I used a basic RNN and it worked alright.</p> \n",
        "\n",
        "<img src=\"https://github.com/KarnikaKapoor/Files/blob/main/music2.gif?raw=true\">     \n",
        "     \n",
        "     \n",
        "<p style=\"font-family:newtimeroman;font-size:120%;color:#97BACB\">So I decided to let the model have the fame it deserved. I am releasing the album! It is out on my blog. Don't forget to get your copy!</p>\n",
        "\n",
        "**Album** [Down The Uncanny Valley: Album Release](https://karnikakapoor.blogspot.com/2021/10/down-uncanny-valley.html)\n",
        "\n",
        "**Some Useful Resources:**\n",
        "\n",
        "[The Unreasonable Effectiveness of Recurrent Neural Networks](http://karpathy.github.io/2015/05/21/rnn-effectiveness/)\n",
        "\n",
        "[MuseNet](https://openai.com/blog/musenet/) \n",
        "\n",
        "[Lyrics Generator](https://www.kaggle.com/karnikakapoor/lyrics-generator-rnn)\n",
        "\n",
        "\n",
        "**<span style=\"color:#DBACC1;\"> If you liked this Notebook, please do upvote.</span>**\n",
        "\n",
        "**<span style=\"color:#DBACC1;\"> If you have any questions, feel free to comment!</span>**\n",
        "\n",
        "**<span style=\"color:#DBACC1;\"> Best Wishes!</span>**\n",
        "\n",
        "<a id=\"8\"></a>\n",
        "# <p style=\"background-color:#97BACB;font-family:newtimeroman;color:#EBDDD0;font-size:120%;text-align:center;border-radius:40px 40px;\">END</p>"
      ]
    }
  ]
}