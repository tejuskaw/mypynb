{
  "nbformat": 4,
  "nbformat_minor": 0,
  "metadata": {
    "kernelspec": {
      "display_name": "Python 3",
      "language": "python",
      "name": "python3"
    },
    "language_info": {
      "codemirror_mode": {
        "name": "ipython",
        "version": 3
      },
      "file_extension": ".py",
      "mimetype": "text/x-python",
      "name": "python",
      "nbconvert_exporter": "python",
      "pygments_lexer": "ipython3",
      "version": "3.8.5"
    },
    "colab": {
      "name": "Grp. Assignment.ipynb",
      "provenance": []
    }
  },
  "cells": [
    {
      "cell_type": "code",
      "metadata": {
        "id": "pj19t-sXpEfm",
        "outputId": "e8febe88-7370-45ef-d9e5-d0c1f8f87f6b"
      },
      "source": [
        "! pip3 install pandas numpy matplotlib sklearn\n",
        "import pandas as pd\n",
        "import numpy as np\n",
        "import matplotlib.pyplot as plt "
      ],
      "execution_count": null,
      "outputs": [
        {
          "output_type": "stream",
          "text": [
            "Requirement already satisfied: pandas in /home/kaw/.local/lib/python3.8/site-packages (1.2.4)\n",
            "Requirement already satisfied: numpy in /home/kaw/.local/lib/python3.8/site-packages (1.20.2)\n",
            "Requirement already satisfied: matplotlib in /home/kaw/.local/lib/python3.8/site-packages (3.4.1)\n",
            "Requirement already satisfied: sklearn in /home/kaw/.local/lib/python3.8/site-packages (0.0)\n",
            "Requirement already satisfied: python-dateutil>=2.7.3 in /usr/lib/python3/dist-packages (from pandas) (2.7.3)\n",
            "Requirement already satisfied: pytz>=2017.3 in /usr/lib/python3/dist-packages (from pandas) (2019.3)\n",
            "Requirement already satisfied: cycler>=0.10 in /home/kaw/.local/lib/python3.8/site-packages (from matplotlib) (0.10.0)\n",
            "Requirement already satisfied: kiwisolver>=1.0.1 in /home/kaw/.local/lib/python3.8/site-packages (from matplotlib) (1.3.1)\n",
            "Requirement already satisfied: pyparsing>=2.2.1 in /home/kaw/.local/lib/python3.8/site-packages (from matplotlib) (2.4.7)\n",
            "Requirement already satisfied: pillow>=6.2.0 in /usr/lib/python3/dist-packages (from matplotlib) (7.0.0)\n",
            "Requirement already satisfied: scikit-learn in /home/kaw/.local/lib/python3.8/site-packages (from sklearn) (0.24.1)\n",
            "Requirement already satisfied: six in /usr/lib/python3/dist-packages (from cycler>=0.10->matplotlib) (1.14.0)\n",
            "Requirement already satisfied: scipy>=0.19.1 in /home/kaw/.local/lib/python3.8/site-packages (from scikit-learn->sklearn) (1.6.2)\n",
            "Requirement already satisfied: joblib>=0.11 in /home/kaw/.local/lib/python3.8/site-packages (from scikit-learn->sklearn) (1.0.1)\n",
            "Requirement already satisfied: threadpoolctl>=2.0.0 in /home/kaw/.local/lib/python3.8/site-packages (from scikit-learn->sklearn) (2.1.0)\n"
          ],
          "name": "stdout"
        }
      ]
    },
    {
      "cell_type": "markdown",
      "metadata": {
        "id": "aZwvH4AzpEf2"
      },
      "source": [
        "# Assignment Lab\n",
        "### 1.\tCreate the dataset manually for the purpose of this example. Generate larger sample size to get more accurate results.\n",
        "### 2.\tImport the required packages\n",
        "### 3.\tGenerate pandas dataframe and divide the dataset into 75:25 training and testing set\n",
        "### 4.\tFit the model on the training set\n",
        "### 5.\tPredict the results on the test set\n",
        "### 6.\tCompute confusion matrix and calculate the following\n",
        "- a)\tAccuracy\n",
        "- b)\tSensitivity\n",
        "- c)\tSpecificity\n",
        "- *d)\tF-Score*\n",
        "- e)\tPrecision\n",
        "- f)\tTPR\n",
        "- g)\tFPR\n",
        "- h)\tTNR\n",
        "- i)\tFNR"
      ]
    },
    {
      "cell_type": "code",
      "metadata": {
        "id": "tdpdV8MbpEf4",
        "outputId": "bc9d6204-8e47-41bf-e46c-59ff4870c464"
      },
      "source": [
        "df = pd.read_csv(\"./tushar_tejuice_data1.csv\")\n",
        "df"
      ],
      "execution_count": null,
      "outputs": [
        {
          "output_type": "execute_result",
          "data": {
            "text/html": [
              "<div>\n",
              "<style scoped>\n",
              "    .dataframe tbody tr th:only-of-type {\n",
              "        vertical-align: middle;\n",
              "    }\n",
              "\n",
              "    .dataframe tbody tr th {\n",
              "        vertical-align: top;\n",
              "    }\n",
              "\n",
              "    .dataframe thead th {\n",
              "        text-align: right;\n",
              "    }\n",
              "</style>\n",
              "<table border=\"1\" class=\"dataframe\">\n",
              "  <thead>\n",
              "    <tr style=\"text-align: right;\">\n",
              "      <th></th>\n",
              "      <th>Gate Score</th>\n",
              "      <th>B.Tech. CGPA</th>\n",
              "      <th>University</th>\n",
              "      <th>12th %</th>\n",
              "      <th>Work Experience</th>\n",
              "      <th>Research Experience</th>\n",
              "      <th>No. of Projects</th>\n",
              "      <th>Application Status</th>\n",
              "    </tr>\n",
              "  </thead>\n",
              "  <tbody>\n",
              "    <tr>\n",
              "      <th>0</th>\n",
              "      <td>565.0</td>\n",
              "      <td>7.9</td>\n",
              "      <td>Pt. Bhagwat Dayal Sharma University of Health ...</td>\n",
              "      <td>95.93</td>\n",
              "      <td>1</td>\n",
              "      <td>2</td>\n",
              "      <td>7</td>\n",
              "      <td>Applicable</td>\n",
              "    </tr>\n",
              "    <tr>\n",
              "      <th>1</th>\n",
              "      <td>236.0</td>\n",
              "      <td>10.0</td>\n",
              "      <td>Children's University</td>\n",
              "      <td>98.25</td>\n",
              "      <td>3</td>\n",
              "      <td>3</td>\n",
              "      <td>10</td>\n",
              "      <td>Not pplicable</td>\n",
              "    </tr>\n",
              "    <tr>\n",
              "      <th>2</th>\n",
              "      <td>524.0</td>\n",
              "      <td>8.4</td>\n",
              "      <td>Dr. N.T.R. University of Health Sciences</td>\n",
              "      <td>90.41</td>\n",
              "      <td>0</td>\n",
              "      <td>1</td>\n",
              "      <td>10</td>\n",
              "      <td>Applicable</td>\n",
              "    </tr>\n",
              "    <tr>\n",
              "      <th>3</th>\n",
              "      <td>724.0</td>\n",
              "      <td>8.8</td>\n",
              "      <td>Assam Down Town University</td>\n",
              "      <td>61.33</td>\n",
              "      <td>1</td>\n",
              "      <td>1</td>\n",
              "      <td>5</td>\n",
              "      <td>Applicable</td>\n",
              "    </tr>\n",
              "    <tr>\n",
              "      <th>4</th>\n",
              "      <td>624.0</td>\n",
              "      <td>9.0</td>\n",
              "      <td>ICFAI University, Himachal Pradesh</td>\n",
              "      <td>88.08</td>\n",
              "      <td>0</td>\n",
              "      <td>0</td>\n",
              "      <td>6</td>\n",
              "      <td>Applicable</td>\n",
              "    </tr>\n",
              "    <tr>\n",
              "      <th>...</th>\n",
              "      <td>...</td>\n",
              "      <td>...</td>\n",
              "      <td>...</td>\n",
              "      <td>...</td>\n",
              "      <td>...</td>\n",
              "      <td>...</td>\n",
              "      <td>...</td>\n",
              "      <td>...</td>\n",
              "    </tr>\n",
              "    <tr>\n",
              "      <th>295</th>\n",
              "      <td>687.0</td>\n",
              "      <td>8.5</td>\n",
              "      <td>Krantiguru Shyamji Krishna Verma Kachchh Unive...</td>\n",
              "      <td>92.02</td>\n",
              "      <td>2</td>\n",
              "      <td>3</td>\n",
              "      <td>4</td>\n",
              "      <td>Applicable</td>\n",
              "    </tr>\n",
              "    <tr>\n",
              "      <th>296</th>\n",
              "      <td>580.0</td>\n",
              "      <td>7.0</td>\n",
              "      <td>Bhagwant University</td>\n",
              "      <td>96.53</td>\n",
              "      <td>5</td>\n",
              "      <td>0</td>\n",
              "      <td>4</td>\n",
              "      <td>Applicable</td>\n",
              "    </tr>\n",
              "    <tr>\n",
              "      <th>297</th>\n",
              "      <td>789.0</td>\n",
              "      <td>8.4</td>\n",
              "      <td>Presidency University</td>\n",
              "      <td>95.57</td>\n",
              "      <td>0</td>\n",
              "      <td>3</td>\n",
              "      <td>9</td>\n",
              "      <td>Applicable</td>\n",
              "    </tr>\n",
              "    <tr>\n",
              "      <th>298</th>\n",
              "      <td>116.0</td>\n",
              "      <td>7.7</td>\n",
              "      <td>National Institute of Pharmaceutical Education...</td>\n",
              "      <td>72.12</td>\n",
              "      <td>2</td>\n",
              "      <td>1</td>\n",
              "      <td>5</td>\n",
              "      <td>Not pplicable</td>\n",
              "    </tr>\n",
              "    <tr>\n",
              "      <th>299</th>\n",
              "      <td>644.0</td>\n",
              "      <td>9.3</td>\n",
              "      <td>Krishna Institute of Medical Sciences</td>\n",
              "      <td>81.95</td>\n",
              "      <td>0</td>\n",
              "      <td>2</td>\n",
              "      <td>8</td>\n",
              "      <td>Applicable</td>\n",
              "    </tr>\n",
              "  </tbody>\n",
              "</table>\n",
              "<p>300 rows × 8 columns</p>\n",
              "</div>"
            ],
            "text/plain": [
              "     Gate Score  B.Tech. CGPA  \\\n",
              "0         565.0           7.9   \n",
              "1         236.0          10.0   \n",
              "2         524.0           8.4   \n",
              "3         724.0           8.8   \n",
              "4         624.0           9.0   \n",
              "..          ...           ...   \n",
              "295       687.0           8.5   \n",
              "296       580.0           7.0   \n",
              "297       789.0           8.4   \n",
              "298       116.0           7.7   \n",
              "299       644.0           9.3   \n",
              "\n",
              "                                            University  12th %  \\\n",
              "0    Pt. Bhagwat Dayal Sharma University of Health ...   95.93   \n",
              "1                                Children's University   98.25   \n",
              "2             Dr. N.T.R. University of Health Sciences   90.41   \n",
              "3                           Assam Down Town University   61.33   \n",
              "4                   ICFAI University, Himachal Pradesh   88.08   \n",
              "..                                                 ...     ...   \n",
              "295  Krantiguru Shyamji Krishna Verma Kachchh Unive...   92.02   \n",
              "296                                Bhagwant University   96.53   \n",
              "297                              Presidency University   95.57   \n",
              "298  National Institute of Pharmaceutical Education...   72.12   \n",
              "299              Krishna Institute of Medical Sciences   81.95   \n",
              "\n",
              "     Work Experience  Research Experience  No. of Projects Application Status  \n",
              "0                  1                    2                7         Applicable  \n",
              "1                  3                    3               10      Not pplicable  \n",
              "2                  0                    1               10         Applicable  \n",
              "3                  1                    1                5         Applicable  \n",
              "4                  0                    0                6         Applicable  \n",
              "..               ...                  ...              ...                ...  \n",
              "295                2                    3                4         Applicable  \n",
              "296                5                    0                4         Applicable  \n",
              "297                0                    3                9         Applicable  \n",
              "298                2                    1                5      Not pplicable  \n",
              "299                0                    2                8         Applicable  \n",
              "\n",
              "[300 rows x 8 columns]"
            ]
          },
          "metadata": {
            "tags": []
          },
          "execution_count": 2
        }
      ]
    },
    {
      "cell_type": "markdown",
      "metadata": {
        "id": "UuzIe_UVpEf5"
      },
      "source": [
        "# **setting the data**\n"
      ]
    },
    {
      "cell_type": "code",
      "metadata": {
        "id": "fHMO3NnhpEf6",
        "outputId": "d65f74da-1a6f-462f-90c1-dfaa0209a1fe"
      },
      "source": [
        "for i in df.columns:\n",
        "    print(i , df[i].isna().sum())"
      ],
      "execution_count": null,
      "outputs": [
        {
          "output_type": "stream",
          "text": [
            "Gate Score 35\n",
            "B.Tech. CGPA 0\n",
            "University 0\n",
            "12th % 0\n",
            "Work Experience 0\n",
            "Research Experience 0\n",
            "No. of Projects 0\n",
            "Application Status 0\n"
          ],
          "name": "stdout"
        }
      ]
    },
    {
      "cell_type": "code",
      "metadata": {
        "id": "NXG_Vu0YpEf7"
      },
      "source": [
        "df['Gate Score'].fillna(value=df['Gate Score'].mean() , inplace=True)"
      ],
      "execution_count": null,
      "outputs": []
    },
    {
      "cell_type": "code",
      "metadata": {
        "id": "mYLkMfzYpEf7",
        "outputId": "8b6b4cee-4aa8-41df-ca15-27eff0d66a1b"
      },
      "source": [
        "len(df.University)"
      ],
      "execution_count": null,
      "outputs": [
        {
          "output_type": "execute_result",
          "data": {
            "text/plain": [
              "300"
            ]
          },
          "metadata": {
            "tags": []
          },
          "execution_count": 5
        }
      ]
    },
    {
      "cell_type": "code",
      "metadata": {
        "id": "CRecWFjapEf8"
      },
      "source": [
        "dummy = pd.get_dummies(df.University)"
      ],
      "execution_count": null,
      "outputs": []
    },
    {
      "cell_type": "code",
      "metadata": {
        "id": "Xb5UmC4KpEf9"
      },
      "source": [
        "df = pd.concat([df,dummy] , axis=1)"
      ],
      "execution_count": null,
      "outputs": []
    },
    {
      "cell_type": "code",
      "metadata": {
        "id": "JAxWrQrkpEf9"
      },
      "source": [
        "df.drop(['University'],axis=1,inplace=True)"
      ],
      "execution_count": null,
      "outputs": []
    },
    {
      "cell_type": "code",
      "metadata": {
        "id": "kem-7Q-opEf-",
        "outputId": "1b226d67-817b-4a98-ae38-a7cf0c127c16"
      },
      "source": [
        "df.head()"
      ],
      "execution_count": null,
      "outputs": [
        {
          "output_type": "execute_result",
          "data": {
            "text/html": [
              "<div>\n",
              "<style scoped>\n",
              "    .dataframe tbody tr th:only-of-type {\n",
              "        vertical-align: middle;\n",
              "    }\n",
              "\n",
              "    .dataframe tbody tr th {\n",
              "        vertical-align: top;\n",
              "    }\n",
              "\n",
              "    .dataframe thead th {\n",
              "        text-align: right;\n",
              "    }\n",
              "</style>\n",
              "<table border=\"1\" class=\"dataframe\">\n",
              "  <thead>\n",
              "    <tr style=\"text-align: right;\">\n",
              "      <th></th>\n",
              "      <th>Gate Score</th>\n",
              "      <th>B.Tech. CGPA</th>\n",
              "      <th>12th %</th>\n",
              "      <th>Work Experience</th>\n",
              "      <th>Research Experience</th>\n",
              "      <th>No. of Projects</th>\n",
              "      <th>Application Status</th>\n",
              "      <th>AP Goyal Shimla University</th>\n",
              "      <th>Adesh University</th>\n",
              "      <th>Adikavi Nannaya University</th>\n",
              "      <th>...</th>\n",
              "      <th>Vasantrao Naik Marathwada Krishi Vidyapeeth</th>\n",
              "      <th>Vinayaka Missions Sikkim University</th>\n",
              "      <th>Vinayaka Missions University</th>\n",
              "      <th>Vinoba Bhave University</th>\n",
              "      <th>Visva-Bharati University</th>\n",
              "      <th>Visvesvaraya National Institute of Technology</th>\n",
              "      <th>Visvesvaraya Technological University</th>\n",
              "      <th>West Bengal University of Animal and Fishery Sciences</th>\n",
              "      <th>William Carey University, India</th>\n",
              "      <th>YMCA University of Science and Technology</th>\n",
              "    </tr>\n",
              "  </thead>\n",
              "  <tbody>\n",
              "    <tr>\n",
              "      <th>0</th>\n",
              "      <td>565.0</td>\n",
              "      <td>7.9</td>\n",
              "      <td>95.93</td>\n",
              "      <td>1</td>\n",
              "      <td>2</td>\n",
              "      <td>7</td>\n",
              "      <td>Applicable</td>\n",
              "      <td>0</td>\n",
              "      <td>0</td>\n",
              "      <td>0</td>\n",
              "      <td>...</td>\n",
              "      <td>0</td>\n",
              "      <td>0</td>\n",
              "      <td>0</td>\n",
              "      <td>0</td>\n",
              "      <td>0</td>\n",
              "      <td>0</td>\n",
              "      <td>0</td>\n",
              "      <td>0</td>\n",
              "      <td>0</td>\n",
              "      <td>0</td>\n",
              "    </tr>\n",
              "    <tr>\n",
              "      <th>1</th>\n",
              "      <td>236.0</td>\n",
              "      <td>10.0</td>\n",
              "      <td>98.25</td>\n",
              "      <td>3</td>\n",
              "      <td>3</td>\n",
              "      <td>10</td>\n",
              "      <td>Not pplicable</td>\n",
              "      <td>0</td>\n",
              "      <td>0</td>\n",
              "      <td>0</td>\n",
              "      <td>...</td>\n",
              "      <td>0</td>\n",
              "      <td>0</td>\n",
              "      <td>0</td>\n",
              "      <td>0</td>\n",
              "      <td>0</td>\n",
              "      <td>0</td>\n",
              "      <td>0</td>\n",
              "      <td>0</td>\n",
              "      <td>0</td>\n",
              "      <td>0</td>\n",
              "    </tr>\n",
              "    <tr>\n",
              "      <th>2</th>\n",
              "      <td>524.0</td>\n",
              "      <td>8.4</td>\n",
              "      <td>90.41</td>\n",
              "      <td>0</td>\n",
              "      <td>1</td>\n",
              "      <td>10</td>\n",
              "      <td>Applicable</td>\n",
              "      <td>0</td>\n",
              "      <td>0</td>\n",
              "      <td>0</td>\n",
              "      <td>...</td>\n",
              "      <td>0</td>\n",
              "      <td>0</td>\n",
              "      <td>0</td>\n",
              "      <td>0</td>\n",
              "      <td>0</td>\n",
              "      <td>0</td>\n",
              "      <td>0</td>\n",
              "      <td>0</td>\n",
              "      <td>0</td>\n",
              "      <td>0</td>\n",
              "    </tr>\n",
              "    <tr>\n",
              "      <th>3</th>\n",
              "      <td>724.0</td>\n",
              "      <td>8.8</td>\n",
              "      <td>61.33</td>\n",
              "      <td>1</td>\n",
              "      <td>1</td>\n",
              "      <td>5</td>\n",
              "      <td>Applicable</td>\n",
              "      <td>0</td>\n",
              "      <td>0</td>\n",
              "      <td>0</td>\n",
              "      <td>...</td>\n",
              "      <td>0</td>\n",
              "      <td>0</td>\n",
              "      <td>0</td>\n",
              "      <td>0</td>\n",
              "      <td>0</td>\n",
              "      <td>0</td>\n",
              "      <td>0</td>\n",
              "      <td>0</td>\n",
              "      <td>0</td>\n",
              "      <td>0</td>\n",
              "    </tr>\n",
              "    <tr>\n",
              "      <th>4</th>\n",
              "      <td>624.0</td>\n",
              "      <td>9.0</td>\n",
              "      <td>88.08</td>\n",
              "      <td>0</td>\n",
              "      <td>0</td>\n",
              "      <td>6</td>\n",
              "      <td>Applicable</td>\n",
              "      <td>0</td>\n",
              "      <td>0</td>\n",
              "      <td>0</td>\n",
              "      <td>...</td>\n",
              "      <td>0</td>\n",
              "      <td>0</td>\n",
              "      <td>0</td>\n",
              "      <td>0</td>\n",
              "      <td>0</td>\n",
              "      <td>0</td>\n",
              "      <td>0</td>\n",
              "      <td>0</td>\n",
              "      <td>0</td>\n",
              "      <td>0</td>\n",
              "    </tr>\n",
              "  </tbody>\n",
              "</table>\n",
              "<p>5 rows × 267 columns</p>\n",
              "</div>"
            ],
            "text/plain": [
              "   Gate Score  B.Tech. CGPA  12th %  Work Experience  Research Experience  \\\n",
              "0       565.0           7.9   95.93                1                    2   \n",
              "1       236.0          10.0   98.25                3                    3   \n",
              "2       524.0           8.4   90.41                0                    1   \n",
              "3       724.0           8.8   61.33                1                    1   \n",
              "4       624.0           9.0   88.08                0                    0   \n",
              "\n",
              "   No. of Projects Application Status  AP Goyal Shimla University  \\\n",
              "0                7         Applicable                           0   \n",
              "1               10      Not pplicable                           0   \n",
              "2               10         Applicable                           0   \n",
              "3                5         Applicable                           0   \n",
              "4                6         Applicable                           0   \n",
              "\n",
              "   Adesh University  Adikavi Nannaya University  ...  \\\n",
              "0                 0                           0  ...   \n",
              "1                 0                           0  ...   \n",
              "2                 0                           0  ...   \n",
              "3                 0                           0  ...   \n",
              "4                 0                           0  ...   \n",
              "\n",
              "   Vasantrao Naik Marathwada Krishi Vidyapeeth  \\\n",
              "0                                            0   \n",
              "1                                            0   \n",
              "2                                            0   \n",
              "3                                            0   \n",
              "4                                            0   \n",
              "\n",
              "   Vinayaka Missions Sikkim University  Vinayaka Missions University  \\\n",
              "0                                    0                             0   \n",
              "1                                    0                             0   \n",
              "2                                    0                             0   \n",
              "3                                    0                             0   \n",
              "4                                    0                             0   \n",
              "\n",
              "   Vinoba Bhave University  Visva-Bharati University  \\\n",
              "0                        0                         0   \n",
              "1                        0                         0   \n",
              "2                        0                         0   \n",
              "3                        0                         0   \n",
              "4                        0                         0   \n",
              "\n",
              "   Visvesvaraya National Institute of Technology  \\\n",
              "0                                              0   \n",
              "1                                              0   \n",
              "2                                              0   \n",
              "3                                              0   \n",
              "4                                              0   \n",
              "\n",
              "   Visvesvaraya Technological University  \\\n",
              "0                                      0   \n",
              "1                                      0   \n",
              "2                                      0   \n",
              "3                                      0   \n",
              "4                                      0   \n",
              "\n",
              "   West Bengal University of Animal and Fishery Sciences  \\\n",
              "0                                                  0       \n",
              "1                                                  0       \n",
              "2                                                  0       \n",
              "3                                                  0       \n",
              "4                                                  0       \n",
              "\n",
              "   William Carey University, India  YMCA University of Science and Technology  \n",
              "0                                0                                          0  \n",
              "1                                0                                          0  \n",
              "2                                0                                          0  \n",
              "3                                0                                          0  \n",
              "4                                0                                          0  \n",
              "\n",
              "[5 rows x 267 columns]"
            ]
          },
          "metadata": {
            "tags": []
          },
          "execution_count": 9
        }
      ]
    },
    {
      "cell_type": "code",
      "metadata": {
        "id": "Qpznvjm1pEf-",
        "outputId": "3fd4cba6-45a7-4761-e17a-522bb8a9d535"
      },
      "source": [
        "import sklearn\n",
        "from sklearn.preprocessing import LabelEncoder\n",
        "hi = LabelEncoder()\n",
        "df['Application Status'] = hi.fit_transform(df['Application Status'])\n",
        "df.head()"
      ],
      "execution_count": null,
      "outputs": [
        {
          "output_type": "execute_result",
          "data": {
            "text/html": [
              "<div>\n",
              "<style scoped>\n",
              "    .dataframe tbody tr th:only-of-type {\n",
              "        vertical-align: middle;\n",
              "    }\n",
              "\n",
              "    .dataframe tbody tr th {\n",
              "        vertical-align: top;\n",
              "    }\n",
              "\n",
              "    .dataframe thead th {\n",
              "        text-align: right;\n",
              "    }\n",
              "</style>\n",
              "<table border=\"1\" class=\"dataframe\">\n",
              "  <thead>\n",
              "    <tr style=\"text-align: right;\">\n",
              "      <th></th>\n",
              "      <th>Gate Score</th>\n",
              "      <th>B.Tech. CGPA</th>\n",
              "      <th>12th %</th>\n",
              "      <th>Work Experience</th>\n",
              "      <th>Research Experience</th>\n",
              "      <th>No. of Projects</th>\n",
              "      <th>Application Status</th>\n",
              "      <th>AP Goyal Shimla University</th>\n",
              "      <th>Adesh University</th>\n",
              "      <th>Adikavi Nannaya University</th>\n",
              "      <th>...</th>\n",
              "      <th>Vasantrao Naik Marathwada Krishi Vidyapeeth</th>\n",
              "      <th>Vinayaka Missions Sikkim University</th>\n",
              "      <th>Vinayaka Missions University</th>\n",
              "      <th>Vinoba Bhave University</th>\n",
              "      <th>Visva-Bharati University</th>\n",
              "      <th>Visvesvaraya National Institute of Technology</th>\n",
              "      <th>Visvesvaraya Technological University</th>\n",
              "      <th>West Bengal University of Animal and Fishery Sciences</th>\n",
              "      <th>William Carey University, India</th>\n",
              "      <th>YMCA University of Science and Technology</th>\n",
              "    </tr>\n",
              "  </thead>\n",
              "  <tbody>\n",
              "    <tr>\n",
              "      <th>0</th>\n",
              "      <td>565.0</td>\n",
              "      <td>7.9</td>\n",
              "      <td>95.93</td>\n",
              "      <td>1</td>\n",
              "      <td>2</td>\n",
              "      <td>7</td>\n",
              "      <td>1</td>\n",
              "      <td>0</td>\n",
              "      <td>0</td>\n",
              "      <td>0</td>\n",
              "      <td>...</td>\n",
              "      <td>0</td>\n",
              "      <td>0</td>\n",
              "      <td>0</td>\n",
              "      <td>0</td>\n",
              "      <td>0</td>\n",
              "      <td>0</td>\n",
              "      <td>0</td>\n",
              "      <td>0</td>\n",
              "      <td>0</td>\n",
              "      <td>0</td>\n",
              "    </tr>\n",
              "    <tr>\n",
              "      <th>1</th>\n",
              "      <td>236.0</td>\n",
              "      <td>10.0</td>\n",
              "      <td>98.25</td>\n",
              "      <td>3</td>\n",
              "      <td>3</td>\n",
              "      <td>10</td>\n",
              "      <td>0</td>\n",
              "      <td>0</td>\n",
              "      <td>0</td>\n",
              "      <td>0</td>\n",
              "      <td>...</td>\n",
              "      <td>0</td>\n",
              "      <td>0</td>\n",
              "      <td>0</td>\n",
              "      <td>0</td>\n",
              "      <td>0</td>\n",
              "      <td>0</td>\n",
              "      <td>0</td>\n",
              "      <td>0</td>\n",
              "      <td>0</td>\n",
              "      <td>0</td>\n",
              "    </tr>\n",
              "    <tr>\n",
              "      <th>2</th>\n",
              "      <td>524.0</td>\n",
              "      <td>8.4</td>\n",
              "      <td>90.41</td>\n",
              "      <td>0</td>\n",
              "      <td>1</td>\n",
              "      <td>10</td>\n",
              "      <td>1</td>\n",
              "      <td>0</td>\n",
              "      <td>0</td>\n",
              "      <td>0</td>\n",
              "      <td>...</td>\n",
              "      <td>0</td>\n",
              "      <td>0</td>\n",
              "      <td>0</td>\n",
              "      <td>0</td>\n",
              "      <td>0</td>\n",
              "      <td>0</td>\n",
              "      <td>0</td>\n",
              "      <td>0</td>\n",
              "      <td>0</td>\n",
              "      <td>0</td>\n",
              "    </tr>\n",
              "    <tr>\n",
              "      <th>3</th>\n",
              "      <td>724.0</td>\n",
              "      <td>8.8</td>\n",
              "      <td>61.33</td>\n",
              "      <td>1</td>\n",
              "      <td>1</td>\n",
              "      <td>5</td>\n",
              "      <td>1</td>\n",
              "      <td>0</td>\n",
              "      <td>0</td>\n",
              "      <td>0</td>\n",
              "      <td>...</td>\n",
              "      <td>0</td>\n",
              "      <td>0</td>\n",
              "      <td>0</td>\n",
              "      <td>0</td>\n",
              "      <td>0</td>\n",
              "      <td>0</td>\n",
              "      <td>0</td>\n",
              "      <td>0</td>\n",
              "      <td>0</td>\n",
              "      <td>0</td>\n",
              "    </tr>\n",
              "    <tr>\n",
              "      <th>4</th>\n",
              "      <td>624.0</td>\n",
              "      <td>9.0</td>\n",
              "      <td>88.08</td>\n",
              "      <td>0</td>\n",
              "      <td>0</td>\n",
              "      <td>6</td>\n",
              "      <td>1</td>\n",
              "      <td>0</td>\n",
              "      <td>0</td>\n",
              "      <td>0</td>\n",
              "      <td>...</td>\n",
              "      <td>0</td>\n",
              "      <td>0</td>\n",
              "      <td>0</td>\n",
              "      <td>0</td>\n",
              "      <td>0</td>\n",
              "      <td>0</td>\n",
              "      <td>0</td>\n",
              "      <td>0</td>\n",
              "      <td>0</td>\n",
              "      <td>0</td>\n",
              "    </tr>\n",
              "  </tbody>\n",
              "</table>\n",
              "<p>5 rows × 267 columns</p>\n",
              "</div>"
            ],
            "text/plain": [
              "   Gate Score  B.Tech. CGPA  12th %  Work Experience  Research Experience  \\\n",
              "0       565.0           7.9   95.93                1                    2   \n",
              "1       236.0          10.0   98.25                3                    3   \n",
              "2       524.0           8.4   90.41                0                    1   \n",
              "3       724.0           8.8   61.33                1                    1   \n",
              "4       624.0           9.0   88.08                0                    0   \n",
              "\n",
              "   No. of Projects  Application Status  AP Goyal Shimla University  \\\n",
              "0                7                   1                           0   \n",
              "1               10                   0                           0   \n",
              "2               10                   1                           0   \n",
              "3                5                   1                           0   \n",
              "4                6                   1                           0   \n",
              "\n",
              "   Adesh University  Adikavi Nannaya University  ...  \\\n",
              "0                 0                           0  ...   \n",
              "1                 0                           0  ...   \n",
              "2                 0                           0  ...   \n",
              "3                 0                           0  ...   \n",
              "4                 0                           0  ...   \n",
              "\n",
              "   Vasantrao Naik Marathwada Krishi Vidyapeeth  \\\n",
              "0                                            0   \n",
              "1                                            0   \n",
              "2                                            0   \n",
              "3                                            0   \n",
              "4                                            0   \n",
              "\n",
              "   Vinayaka Missions Sikkim University  Vinayaka Missions University  \\\n",
              "0                                    0                             0   \n",
              "1                                    0                             0   \n",
              "2                                    0                             0   \n",
              "3                                    0                             0   \n",
              "4                                    0                             0   \n",
              "\n",
              "   Vinoba Bhave University  Visva-Bharati University  \\\n",
              "0                        0                         0   \n",
              "1                        0                         0   \n",
              "2                        0                         0   \n",
              "3                        0                         0   \n",
              "4                        0                         0   \n",
              "\n",
              "   Visvesvaraya National Institute of Technology  \\\n",
              "0                                              0   \n",
              "1                                              0   \n",
              "2                                              0   \n",
              "3                                              0   \n",
              "4                                              0   \n",
              "\n",
              "   Visvesvaraya Technological University  \\\n",
              "0                                      0   \n",
              "1                                      0   \n",
              "2                                      0   \n",
              "3                                      0   \n",
              "4                                      0   \n",
              "\n",
              "   West Bengal University of Animal and Fishery Sciences  \\\n",
              "0                                                  0       \n",
              "1                                                  0       \n",
              "2                                                  0       \n",
              "3                                                  0       \n",
              "4                                                  0       \n",
              "\n",
              "   William Carey University, India  YMCA University of Science and Technology  \n",
              "0                                0                                          0  \n",
              "1                                0                                          0  \n",
              "2                                0                                          0  \n",
              "3                                0                                          0  \n",
              "4                                0                                          0  \n",
              "\n",
              "[5 rows x 267 columns]"
            ]
          },
          "metadata": {
            "tags": []
          },
          "execution_count": 10
        }
      ]
    },
    {
      "cell_type": "code",
      "metadata": {
        "id": "E5SjumQupEf_"
      },
      "source": [
        "from sklearn.preprocessing import MinMaxScaler"
      ],
      "execution_count": null,
      "outputs": []
    },
    {
      "cell_type": "code",
      "metadata": {
        "id": "-f0__XoUpEgA"
      },
      "source": [
        "hj = MinMaxScaler()\n",
        "df['Gate Score'] = hj.fit_transform(df[['Gate Score']])\n",
        "for i in df.columns:\n",
        "    df[i] = hj.fit_transform(df[[i]])"
      ],
      "execution_count": null,
      "outputs": []
    },
    {
      "cell_type": "code",
      "metadata": {
        "id": "EB5Yd3cgpEgA",
        "outputId": "7752d323-7000-4a33-c31f-0b12944b32cf"
      },
      "source": [
        "df.head()"
      ],
      "execution_count": null,
      "outputs": [
        {
          "output_type": "execute_result",
          "data": {
            "text/html": [
              "<div>\n",
              "<style scoped>\n",
              "    .dataframe tbody tr th:only-of-type {\n",
              "        vertical-align: middle;\n",
              "    }\n",
              "\n",
              "    .dataframe tbody tr th {\n",
              "        vertical-align: top;\n",
              "    }\n",
              "\n",
              "    .dataframe thead th {\n",
              "        text-align: right;\n",
              "    }\n",
              "</style>\n",
              "<table border=\"1\" class=\"dataframe\">\n",
              "  <thead>\n",
              "    <tr style=\"text-align: right;\">\n",
              "      <th></th>\n",
              "      <th>Gate Score</th>\n",
              "      <th>B.Tech. CGPA</th>\n",
              "      <th>12th %</th>\n",
              "      <th>Work Experience</th>\n",
              "      <th>Research Experience</th>\n",
              "      <th>No. of Projects</th>\n",
              "      <th>Application Status</th>\n",
              "      <th>AP Goyal Shimla University</th>\n",
              "      <th>Adesh University</th>\n",
              "      <th>Adikavi Nannaya University</th>\n",
              "      <th>...</th>\n",
              "      <th>Vasantrao Naik Marathwada Krishi Vidyapeeth</th>\n",
              "      <th>Vinayaka Missions Sikkim University</th>\n",
              "      <th>Vinayaka Missions University</th>\n",
              "      <th>Vinoba Bhave University</th>\n",
              "      <th>Visva-Bharati University</th>\n",
              "      <th>Visvesvaraya National Institute of Technology</th>\n",
              "      <th>Visvesvaraya Technological University</th>\n",
              "      <th>West Bengal University of Animal and Fishery Sciences</th>\n",
              "      <th>William Carey University, India</th>\n",
              "      <th>YMCA University of Science and Technology</th>\n",
              "    </tr>\n",
              "  </thead>\n",
              "  <tbody>\n",
              "    <tr>\n",
              "      <th>0</th>\n",
              "      <td>0.662824</td>\n",
              "      <td>0.475</td>\n",
              "      <td>0.899648</td>\n",
              "      <td>0.2</td>\n",
              "      <td>0.333333</td>\n",
              "      <td>0.500000</td>\n",
              "      <td>1.0</td>\n",
              "      <td>0.0</td>\n",
              "      <td>0.0</td>\n",
              "      <td>0.0</td>\n",
              "      <td>...</td>\n",
              "      <td>0.0</td>\n",
              "      <td>0.0</td>\n",
              "      <td>0.0</td>\n",
              "      <td>0.0</td>\n",
              "      <td>0.0</td>\n",
              "      <td>0.0</td>\n",
              "      <td>0.0</td>\n",
              "      <td>0.0</td>\n",
              "      <td>0.0</td>\n",
              "      <td>0.0</td>\n",
              "    </tr>\n",
              "    <tr>\n",
              "      <th>1</th>\n",
              "      <td>0.188761</td>\n",
              "      <td>1.000</td>\n",
              "      <td>0.957998</td>\n",
              "      <td>0.6</td>\n",
              "      <td>0.500000</td>\n",
              "      <td>1.000000</td>\n",
              "      <td>0.0</td>\n",
              "      <td>0.0</td>\n",
              "      <td>0.0</td>\n",
              "      <td>0.0</td>\n",
              "      <td>...</td>\n",
              "      <td>0.0</td>\n",
              "      <td>0.0</td>\n",
              "      <td>0.0</td>\n",
              "      <td>0.0</td>\n",
              "      <td>0.0</td>\n",
              "      <td>0.0</td>\n",
              "      <td>0.0</td>\n",
              "      <td>0.0</td>\n",
              "      <td>0.0</td>\n",
              "      <td>0.0</td>\n",
              "    </tr>\n",
              "    <tr>\n",
              "      <th>2</th>\n",
              "      <td>0.603746</td>\n",
              "      <td>0.600</td>\n",
              "      <td>0.760815</td>\n",
              "      <td>0.0</td>\n",
              "      <td>0.166667</td>\n",
              "      <td>1.000000</td>\n",
              "      <td>1.0</td>\n",
              "      <td>0.0</td>\n",
              "      <td>0.0</td>\n",
              "      <td>0.0</td>\n",
              "      <td>...</td>\n",
              "      <td>0.0</td>\n",
              "      <td>0.0</td>\n",
              "      <td>0.0</td>\n",
              "      <td>0.0</td>\n",
              "      <td>0.0</td>\n",
              "      <td>0.0</td>\n",
              "      <td>0.0</td>\n",
              "      <td>0.0</td>\n",
              "      <td>0.0</td>\n",
              "      <td>0.0</td>\n",
              "    </tr>\n",
              "    <tr>\n",
              "      <th>3</th>\n",
              "      <td>0.891931</td>\n",
              "      <td>0.700</td>\n",
              "      <td>0.029427</td>\n",
              "      <td>0.2</td>\n",
              "      <td>0.166667</td>\n",
              "      <td>0.166667</td>\n",
              "      <td>1.0</td>\n",
              "      <td>0.0</td>\n",
              "      <td>0.0</td>\n",
              "      <td>0.0</td>\n",
              "      <td>...</td>\n",
              "      <td>0.0</td>\n",
              "      <td>0.0</td>\n",
              "      <td>0.0</td>\n",
              "      <td>0.0</td>\n",
              "      <td>0.0</td>\n",
              "      <td>0.0</td>\n",
              "      <td>0.0</td>\n",
              "      <td>0.0</td>\n",
              "      <td>0.0</td>\n",
              "      <td>0.0</td>\n",
              "    </tr>\n",
              "    <tr>\n",
              "      <th>4</th>\n",
              "      <td>0.747839</td>\n",
              "      <td>0.750</td>\n",
              "      <td>0.702213</td>\n",
              "      <td>0.0</td>\n",
              "      <td>0.000000</td>\n",
              "      <td>0.333333</td>\n",
              "      <td>1.0</td>\n",
              "      <td>0.0</td>\n",
              "      <td>0.0</td>\n",
              "      <td>0.0</td>\n",
              "      <td>...</td>\n",
              "      <td>0.0</td>\n",
              "      <td>0.0</td>\n",
              "      <td>0.0</td>\n",
              "      <td>0.0</td>\n",
              "      <td>0.0</td>\n",
              "      <td>0.0</td>\n",
              "      <td>0.0</td>\n",
              "      <td>0.0</td>\n",
              "      <td>0.0</td>\n",
              "      <td>0.0</td>\n",
              "    </tr>\n",
              "  </tbody>\n",
              "</table>\n",
              "<p>5 rows × 267 columns</p>\n",
              "</div>"
            ],
            "text/plain": [
              "   Gate Score  B.Tech. CGPA    12th %  Work Experience  Research Experience  \\\n",
              "0    0.662824         0.475  0.899648              0.2             0.333333   \n",
              "1    0.188761         1.000  0.957998              0.6             0.500000   \n",
              "2    0.603746         0.600  0.760815              0.0             0.166667   \n",
              "3    0.891931         0.700  0.029427              0.2             0.166667   \n",
              "4    0.747839         0.750  0.702213              0.0             0.000000   \n",
              "\n",
              "   No. of Projects  Application Status  AP Goyal Shimla University  \\\n",
              "0         0.500000                 1.0                         0.0   \n",
              "1         1.000000                 0.0                         0.0   \n",
              "2         1.000000                 1.0                         0.0   \n",
              "3         0.166667                 1.0                         0.0   \n",
              "4         0.333333                 1.0                         0.0   \n",
              "\n",
              "   Adesh University  Adikavi Nannaya University  ...  \\\n",
              "0               0.0                         0.0  ...   \n",
              "1               0.0                         0.0  ...   \n",
              "2               0.0                         0.0  ...   \n",
              "3               0.0                         0.0  ...   \n",
              "4               0.0                         0.0  ...   \n",
              "\n",
              "   Vasantrao Naik Marathwada Krishi Vidyapeeth  \\\n",
              "0                                          0.0   \n",
              "1                                          0.0   \n",
              "2                                          0.0   \n",
              "3                                          0.0   \n",
              "4                                          0.0   \n",
              "\n",
              "   Vinayaka Missions Sikkim University  Vinayaka Missions University  \\\n",
              "0                                  0.0                           0.0   \n",
              "1                                  0.0                           0.0   \n",
              "2                                  0.0                           0.0   \n",
              "3                                  0.0                           0.0   \n",
              "4                                  0.0                           0.0   \n",
              "\n",
              "   Vinoba Bhave University  Visva-Bharati University  \\\n",
              "0                      0.0                       0.0   \n",
              "1                      0.0                       0.0   \n",
              "2                      0.0                       0.0   \n",
              "3                      0.0                       0.0   \n",
              "4                      0.0                       0.0   \n",
              "\n",
              "   Visvesvaraya National Institute of Technology  \\\n",
              "0                                            0.0   \n",
              "1                                            0.0   \n",
              "2                                            0.0   \n",
              "3                                            0.0   \n",
              "4                                            0.0   \n",
              "\n",
              "   Visvesvaraya Technological University  \\\n",
              "0                                    0.0   \n",
              "1                                    0.0   \n",
              "2                                    0.0   \n",
              "3                                    0.0   \n",
              "4                                    0.0   \n",
              "\n",
              "   West Bengal University of Animal and Fishery Sciences  \\\n",
              "0                                                0.0       \n",
              "1                                                0.0       \n",
              "2                                                0.0       \n",
              "3                                                0.0       \n",
              "4                                                0.0       \n",
              "\n",
              "   William Carey University, India  YMCA University of Science and Technology  \n",
              "0                              0.0                                        0.0  \n",
              "1                              0.0                                        0.0  \n",
              "2                              0.0                                        0.0  \n",
              "3                              0.0                                        0.0  \n",
              "4                              0.0                                        0.0  \n",
              "\n",
              "[5 rows x 267 columns]"
            ]
          },
          "metadata": {
            "tags": []
          },
          "execution_count": 13
        }
      ]
    },
    {
      "cell_type": "code",
      "metadata": {
        "id": "_2XRRO04pEgB",
        "outputId": "1cce4272-8b9b-435c-dc4d-655c581aa7bf"
      },
      "source": [
        "import matplotlib.pyplot as plt \n",
        "graphX = df['Gate Score']\n",
        "graphY = df['Application Status']\n",
        "graph = plt.scatter(x=graphX , y=graphY )"
      ],
      "execution_count": null,
      "outputs": [
        {
          "output_type": "display_data",
          "data": {
            "image/png": "[encoded data removed]",
            "text/plain": [
              "<Figure size 432x288 with 1 Axes>"
            ]
          },
          "metadata": {
            "tags": [],
            "needs_background": "light"
          }
        }
      ]
    },
    {
      "cell_type": "code",
      "metadata": {
        "id": "UW8tjFNTpEgC"
      },
      "source": [
        "X = df.drop('Application Status' , axis=1)\n",
        "Y = df[['Application Status']]"
      ],
      "execution_count": null,
      "outputs": []
    },
    {
      "cell_type": "code",
      "metadata": {
        "id": "dH2RWFoTpEgD",
        "outputId": "080c6e48-33ec-417e-d486-97af57a570db"
      },
      "source": [
        "Y.sum()"
      ],
      "execution_count": null,
      "outputs": [
        {
          "output_type": "execute_result",
          "data": {
            "text/plain": [
              "Application Status    97.0\n",
              "dtype: float64"
            ]
          },
          "metadata": {
            "tags": []
          },
          "execution_count": 16
        }
      ]
    },
    {
      "cell_type": "code",
      "metadata": {
        "id": "pE_1w9IwpEgD",
        "outputId": "d98a2b87-ceba-4fd6-90d8-d6951daef017"
      },
      "source": [
        "Y"
      ],
      "execution_count": null,
      "outputs": [
        {
          "output_type": "execute_result",
          "data": {
            "text/html": [
              "<div>\n",
              "<style scoped>\n",
              "    .dataframe tbody tr th:only-of-type {\n",
              "        vertical-align: middle;\n",
              "    }\n",
              "\n",
              "    .dataframe tbody tr th {\n",
              "        vertical-align: top;\n",
              "    }\n",
              "\n",
              "    .dataframe thead th {\n",
              "        text-align: right;\n",
              "    }\n",
              "</style>\n",
              "<table border=\"1\" class=\"dataframe\">\n",
              "  <thead>\n",
              "    <tr style=\"text-align: right;\">\n",
              "      <th></th>\n",
              "      <th>Application Status</th>\n",
              "    </tr>\n",
              "  </thead>\n",
              "  <tbody>\n",
              "    <tr>\n",
              "      <th>0</th>\n",
              "      <td>1.0</td>\n",
              "    </tr>\n",
              "    <tr>\n",
              "      <th>1</th>\n",
              "      <td>0.0</td>\n",
              "    </tr>\n",
              "    <tr>\n",
              "      <th>2</th>\n",
              "      <td>1.0</td>\n",
              "    </tr>\n",
              "    <tr>\n",
              "      <th>3</th>\n",
              "      <td>1.0</td>\n",
              "    </tr>\n",
              "    <tr>\n",
              "      <th>4</th>\n",
              "      <td>1.0</td>\n",
              "    </tr>\n",
              "    <tr>\n",
              "      <th>...</th>\n",
              "      <td>...</td>\n",
              "    </tr>\n",
              "    <tr>\n",
              "      <th>295</th>\n",
              "      <td>1.0</td>\n",
              "    </tr>\n",
              "    <tr>\n",
              "      <th>296</th>\n",
              "      <td>1.0</td>\n",
              "    </tr>\n",
              "    <tr>\n",
              "      <th>297</th>\n",
              "      <td>1.0</td>\n",
              "    </tr>\n",
              "    <tr>\n",
              "      <th>298</th>\n",
              "      <td>0.0</td>\n",
              "    </tr>\n",
              "    <tr>\n",
              "      <th>299</th>\n",
              "      <td>1.0</td>\n",
              "    </tr>\n",
              "  </tbody>\n",
              "</table>\n",
              "<p>300 rows × 1 columns</p>\n",
              "</div>"
            ],
            "text/plain": [
              "     Application Status\n",
              "0                   1.0\n",
              "1                   0.0\n",
              "2                   1.0\n",
              "3                   1.0\n",
              "4                   1.0\n",
              "..                  ...\n",
              "295                 1.0\n",
              "296                 1.0\n",
              "297                 1.0\n",
              "298                 0.0\n",
              "299                 1.0\n",
              "\n",
              "[300 rows x 1 columns]"
            ]
          },
          "metadata": {
            "tags": []
          },
          "execution_count": 17
        }
      ]
    },
    {
      "cell_type": "code",
      "metadata": {
        "id": "ELVFKdCrpEgE"
      },
      "source": [
        "from sklearn.model_selection import train_test_split\n",
        "X_train , X_test , Y_train , Y_test = train_test_split(X,Y,test_size=0.25, random_state=91)"
      ],
      "execution_count": null,
      "outputs": []
    },
    {
      "cell_type": "code",
      "metadata": {
        "id": "a4H5jrOtpEgF",
        "outputId": "954a1de5-1c6c-41fc-de59-9a50105e5fd0"
      },
      "source": [
        "len(X_test)"
      ],
      "execution_count": null,
      "outputs": [
        {
          "output_type": "execute_result",
          "data": {
            "text/plain": [
              "75"
            ]
          },
          "metadata": {
            "tags": []
          },
          "execution_count": 19
        }
      ]
    },
    {
      "cell_type": "code",
      "metadata": {
        "id": "cIRC54mRpEgG",
        "outputId": "f525dac9-a4b8-41f7-be14-571369fdaa7e"
      },
      "source": [
        "len(X_train)"
      ],
      "execution_count": null,
      "outputs": [
        {
          "output_type": "execute_result",
          "data": {
            "text/plain": [
              "225"
            ]
          },
          "metadata": {
            "tags": []
          },
          "execution_count": 20
        }
      ]
    },
    {
      "cell_type": "code",
      "metadata": {
        "id": "2szqWGTjpEgH"
      },
      "source": [
        "from sklearn.linear_model import LogisticRegression"
      ],
      "execution_count": null,
      "outputs": []
    },
    {
      "cell_type": "code",
      "metadata": {
        "id": "Q0Pgw7d4pEgI"
      },
      "source": [
        "model = LogisticRegression()"
      ],
      "execution_count": null,
      "outputs": []
    },
    {
      "cell_type": "code",
      "metadata": {
        "id": "Wi_mx5KFpEgI",
        "outputId": "a61f09ad-2193-411e-fcf7-0890f4ba3c7b"
      },
      "source": [
        "model.fit(X_train,Y_train)"
      ],
      "execution_count": null,
      "outputs": [
        {
          "output_type": "stream",
          "text": [
            "/home/kaw/.local/lib/python3.8/site-packages/sklearn/utils/validation.py:63: DataConversionWarning: A column-vector y was passed when a 1d array was expected. Please change the shape of y to (n_samples, ), for example using ravel().\n",
            "  return f(*args, **kwargs)\n"
          ],
          "name": "stderr"
        },
        {
          "output_type": "execute_result",
          "data": {
            "text/plain": [
              "LogisticRegression()"
            ]
          },
          "metadata": {
            "tags": []
          },
          "execution_count": 23
        }
      ]
    },
    {
      "cell_type": "code",
      "metadata": {
        "id": "tuXv6SBxpEgJ",
        "outputId": "2960c84e-44ca-43ab-fcb1-748114c21031"
      },
      "source": [
        "model.score(X_test,Y_test)"
      ],
      "execution_count": null,
      "outputs": [
        {
          "output_type": "execute_result",
          "data": {
            "text/plain": [
              "0.9466666666666667"
            ]
          },
          "metadata": {
            "tags": []
          },
          "execution_count": 24
        }
      ]
    },
    {
      "cell_type": "code",
      "metadata": {
        "id": "97jUN2kupEgJ",
        "outputId": "6063c561-96f6-4f7c-dbe1-ce6126c9c491"
      },
      "source": [
        "model.intercept_"
      ],
      "execution_count": null,
      "outputs": [
        {
          "output_type": "execute_result",
          "data": {
            "text/plain": [
              "array([-5.22536518])"
            ]
          },
          "metadata": {
            "tags": []
          },
          "execution_count": 25
        }
      ]
    },
    {
      "cell_type": "code",
      "metadata": {
        "id": "vLqyd-mEpEgK",
        "outputId": "f8dfe897-bdb0-445c-cd75-720ac4d22734"
      },
      "source": [
        "model.get_params()"
      ],
      "execution_count": null,
      "outputs": [
        {
          "output_type": "execute_result",
          "data": {
            "text/plain": [
              "{'C': 1.0,\n",
              " 'class_weight': None,\n",
              " 'dual': False,\n",
              " 'fit_intercept': True,\n",
              " 'intercept_scaling': 1,\n",
              " 'l1_ratio': None,\n",
              " 'max_iter': 100,\n",
              " 'multi_class': 'auto',\n",
              " 'n_jobs': None,\n",
              " 'penalty': 'l2',\n",
              " 'random_state': None,\n",
              " 'solver': 'lbfgs',\n",
              " 'tol': 0.0001,\n",
              " 'verbose': 0,\n",
              " 'warm_start': False}"
            ]
          },
          "metadata": {
            "tags": []
          },
          "execution_count": 26
        }
      ]
    },
    {
      "cell_type": "code",
      "metadata": {
        "id": "RkyFCtwupEgL"
      },
      "source": [
        "model.class_weight"
      ],
      "execution_count": null,
      "outputs": []
    },
    {
      "cell_type": "code",
      "metadata": {
        "id": "H8G9-PW6pEgL",
        "outputId": "798c9ef4-7979-4d4b-d2f4-d7cf4e62626f"
      },
      "source": [
        "model.classes_"
      ],
      "execution_count": null,
      "outputs": [
        {
          "output_type": "execute_result",
          "data": {
            "text/plain": [
              "array([0., 1.])"
            ]
          },
          "metadata": {
            "tags": []
          },
          "execution_count": 28
        }
      ]
    },
    {
      "cell_type": "code",
      "metadata": {
        "id": "zR502n5qpEgM"
      },
      "source": [
        "from sklearn.metrics import accuracy_score ,confusion_matrix , ConfusionMatrixDisplay"
      ],
      "execution_count": null,
      "outputs": []
    },
    {
      "cell_type": "code",
      "metadata": {
        "id": "m07Rr3yVpEgN",
        "outputId": "4b8f3842-43a6-456f-e83e-9b616e82335f"
      },
      "source": [
        "accuracy_score(Y_test , model.predict(X_test))"
      ],
      "execution_count": null,
      "outputs": [
        {
          "output_type": "execute_result",
          "data": {
            "text/plain": [
              "0.9466666666666667"
            ]
          },
          "metadata": {
            "tags": []
          },
          "execution_count": 30
        }
      ]
    },
    {
      "cell_type": "code",
      "metadata": {
        "id": "4qOEwW8bpEgO"
      },
      "source": [
        "cum = confusion_matrix(Y_test , model.predict(X_test))"
      ],
      "execution_count": null,
      "outputs": []
    },
    {
      "cell_type": "code",
      "metadata": {
        "id": "uu16mYHEpEgO",
        "outputId": "3b9bbc51-3710-45e5-cc86-32f0b8db1fb7"
      },
      "source": [
        "ConfusionMatrixDisplay(confusion_matrix(Y_test , model.predict(X_test))).plot()"
      ],
      "execution_count": null,
      "outputs": [
        {
          "output_type": "execute_result",
          "data": {
            "text/plain": [
              "<sklearn.metrics._plot.confusion_matrix.ConfusionMatrixDisplay at 0x7f109033beb0>"
            ]
          },
          "metadata": {
            "tags": []
          },
          "execution_count": 32
        },
        {
          "output_type": "display_data",
          "data": {
            "image/png": "[encoded data removed]",
            "text/plain": [
              "<Figure size 432x288 with 2 Axes>"
            ]
          },
          "metadata": {
            "tags": [],
            "needs_background": "light"
          }
        }
      ]
    },
    {
      "cell_type": "markdown",
      "metadata": {
        "id": "c6C31n1qpEgP"
      },
      "source": [
        "**- a)\tAccuracy**\n",
        "\n",
        "**- b)\tSensitivity**\n",
        "\n",
        "**- c)\tSpecificity**\n",
        "\n",
        "**- d)\tF-Score**\n",
        "\n",
        "**- e)\tPrecision**\n",
        "\n",
        "**- f)\tTPR**\n",
        "\n",
        "**- g)\tFPR**\n",
        "\n",
        "**- h)\tTNR**\n",
        "\n",
        "**- i)\tFNR**"
      ]
    },
    {
      "cell_type": "markdown",
      "metadata": {
        "id": "kXVFk0s-pEgQ"
      },
      "source": [
        ""
      ]
    },
    {
      "cell_type": "markdown",
      "metadata": {
        "id": "ih5QauGkpEgQ"
      },
      "source": [
        "##### Accuracy (all correct / all) = TP + TN / TP + TN + FP + FN\n",
        "\n",
        "##### Misclassification (all incorrect / all) = FP + FN / TP + TN + FP + FN\n",
        "\n",
        "##### Precision (true positives / predicted positives) = TP / TP + FP\n",
        "\n",
        "##### Sensitivity aka Recall (true positives / all actual positives) = TP / TP + FN\n",
        "\n",
        "##### Specificity (true negatives / all actual negatives) =TN / TN + FP "
      ]
    },
    {
      "cell_type": "code",
      "metadata": {
        "id": "JU8EBdKFpEgR"
      },
      "source": [
        "from sklearn.metrics import accuracy_score , classification_report , f1_score"
      ],
      "execution_count": null,
      "outputs": []
    },
    {
      "cell_type": "code",
      "metadata": {
        "id": "QSnjorzHpEgS",
        "outputId": "7c3a515d-251f-48a1-ab4d-8d9abc03e3b4"
      },
      "source": [
        "accuracy_score(Y_test , model.predict(X_test))"
      ],
      "execution_count": null,
      "outputs": [
        {
          "output_type": "execute_result",
          "data": {
            "text/plain": [
              "0.9466666666666667"
            ]
          },
          "metadata": {
            "tags": []
          },
          "execution_count": 34
        }
      ]
    },
    {
      "cell_type": "code",
      "metadata": {
        "id": "BrpamKh1pEgT",
        "outputId": "546b3f71-595c-4577-c31f-cf5cde30f2cf"
      },
      "source": [
        "f1_score(Y_test , model.predict(X_test))"
      ],
      "execution_count": null,
      "outputs": [
        {
          "output_type": "execute_result",
          "data": {
            "text/plain": [
              "0.9090909090909091"
            ]
          },
          "metadata": {
            "tags": []
          },
          "execution_count": 35
        }
      ]
    },
    {
      "cell_type": "code",
      "metadata": {
        "id": "RZTvklHQpEgT",
        "outputId": "15ff4058-037e-401b-c23f-c448a85ac008"
      },
      "source": [
        "print(classification_report(Y_test , model.predict(X_test)))"
      ],
      "execution_count": null,
      "outputs": [
        {
          "output_type": "stream",
          "text": [
            "              precision    recall  f1-score   support\n",
            "\n",
            "         0.0       0.93      1.00      0.96        51\n",
            "         1.0       1.00      0.83      0.91        24\n",
            "\n",
            "    accuracy                           0.95        75\n",
            "   macro avg       0.96      0.92      0.94        75\n",
            "weighted avg       0.95      0.95      0.95        75\n",
            "\n"
          ],
          "name": "stdout"
        }
      ]
    },
    {
      "cell_type": "code",
      "metadata": {
        "id": "eDiBuTE-pEgU",
        "outputId": "8ee195ab-27e7-4850-aefc-66ef73b408ee"
      },
      "source": [
        "# Recall\n",
        "from sklearn.metrics import recall_score\n",
        "recall_score(Y_test , model.predict(X_test), average=None)"
      ],
      "execution_count": null,
      "outputs": [
        {
          "output_type": "execute_result",
          "data": {
            "text/plain": [
              "array([1.        , 0.83333333])"
            ]
          },
          "metadata": {
            "tags": []
          },
          "execution_count": 37
        }
      ]
    },
    {
      "cell_type": "code",
      "metadata": {
        "id": "LB7KY6V3pEgU",
        "outputId": "62413f6f-b86b-449b-8924-39816f3350ec"
      },
      "source": [
        "# Precision\n",
        "from sklearn.metrics import precision_score\n",
        "precision_score(Y_test , model.predict(X_test), average=None)"
      ],
      "execution_count": null,
      "outputs": [
        {
          "output_type": "execute_result",
          "data": {
            "text/plain": [
              "array([0.92727273, 1.        ])"
            ]
          },
          "metadata": {
            "tags": []
          },
          "execution_count": 38
        }
      ]
    },
    {
      "cell_type": "code",
      "metadata": {
        "id": "iFR6T-GCpEgV",
        "outputId": "230d3f18-3402-4e23-c43f-74800f50dfd8"
      },
      "source": [
        "labels = ['Applicable' , 'Not-Applicable']\n",
        "sizes = [ 97, 300-97  ]\n",
        "# only \"explode\" the 2nd slice (i.e. 'Hogs')\n",
        "explode = (0, 0.1)\n",
        "colors = ['#83E366','#FF7F7F']\n",
        "fig1, ax1 = plt.subplots()\n",
        "ax1.pie(sizes, explode=explode, labels=labels, colors=colors, autopct='%1.1f%%',\n",
        "        shadow=True, startangle=90)\n",
        "# Equal aspect ratio ensures that pie is drawn as a circle\n",
        "ax1.axis('equal')\n",
        "plt.tight_layout()\n",
        "plt.show()"
      ],
      "execution_count": null,
      "outputs": [
        {
          "output_type": "display_data",
          "data": {
            "image/png": "[encoded data removed]",
            "text/plain": [
              "<Figure size 432x288 with 1 Axes>"
            ]
          },
          "metadata": {
            "tags": []
          }
        }
      ]
    },
    {
      "cell_type": "code",
      "metadata": {
        "id": "AtV9LQZ4pEgW"
      },
      "source": [
        "def getvalues(y_actual, y_hat):\n",
        "    TP = 0\n",
        "    FP = 0\n",
        "    TN = 0\n",
        "    FN = 0\n",
        "\n",
        "    for i in range(len(y_hat)): \n",
        "        if y_actual[i]==y_hat[i]==1:\n",
        "           TP += 1\n",
        "        if y_hat[i]==1 and y_actual[i]!=y_hat[i]:\n",
        "           FP += 1\n",
        "        if y_actual[i]==y_hat[i]==0:\n",
        "           TN += 1\n",
        "        if y_hat[i]==0 and y_actual[i]!=y_hat[i]:\n",
        "           FN += 1\n",
        "\n",
        "    return(TP, FP, TN, FN)"
      ],
      "execution_count": null,
      "outputs": []
    },
    {
      "cell_type": "code",
      "metadata": {
        "id": "4g4_uATzpEgW",
        "outputId": "15db5819-a92a-499f-ce02-480f6516ba89"
      },
      "source": [
        "tp=cum[0][0]\n",
        "fp=cum[0][1]\n",
        "fn=cum[1][0]\n",
        "tn=cum[1][1]\n",
        "print(tp,fp,fn,tn)"
      ],
      "execution_count": null,
      "outputs": [
        {
          "output_type": "stream",
          "text": [
            "51 0 4 20\n"
          ],
          "name": "stdout"
        }
      ]
    },
    {
      "cell_type": "code",
      "metadata": {
        "id": "8jmsZ29npEgX",
        "outputId": "b78e8486-52e9-48d9-851d-309ab5e8cc67"
      },
      "source": [
        "acc = (tp + tn )/(tp + tn + fp + fn)\n",
        "acc"
      ],
      "execution_count": null,
      "outputs": [
        {
          "output_type": "execute_result",
          "data": {
            "text/plain": [
              "0.9466666666666667"
            ]
          },
          "metadata": {
            "tags": []
          },
          "execution_count": 42
        }
      ]
    },
    {
      "cell_type": "code",
      "metadata": {
        "id": "Ti3d_W_XpEgX",
        "outputId": "f756d752-a10f-4a56-c628-1e55d5a9fec8"
      },
      "source": [
        "miss = 1-acc\n",
        "miss"
      ],
      "execution_count": null,
      "outputs": [
        {
          "output_type": "execute_result",
          "data": {
            "text/plain": [
              "0.053333333333333344"
            ]
          },
          "metadata": {
            "tags": []
          },
          "execution_count": 43
        }
      ]
    },
    {
      "cell_type": "code",
      "metadata": {
        "id": "YCm0OxJwpEgY",
        "outputId": "8d9057e0-fc10-46ac-9105-0206d2ab4bbf"
      },
      "source": [
        "prec = tp/(tp+fp)\n",
        "prec"
      ],
      "execution_count": null,
      "outputs": [
        {
          "output_type": "execute_result",
          "data": {
            "text/plain": [
              "1.0"
            ]
          },
          "metadata": {
            "tags": []
          },
          "execution_count": 44
        }
      ]
    },
    {
      "cell_type": "code",
      "metadata": {
        "id": "uI6sX_W8pEgZ",
        "outputId": "c3690444-de89-465f-cc1a-886ddbd83431"
      },
      "source": [
        "rec= tp/(tp+fn)\n",
        "rec"
      ],
      "execution_count": null,
      "outputs": [
        {
          "output_type": "execute_result",
          "data": {
            "text/plain": [
              "0.9272727272727272"
            ]
          },
          "metadata": {
            "tags": []
          },
          "execution_count": 45
        }
      ]
    },
    {
      "cell_type": "code",
      "metadata": {
        "id": "aENbdQjqpEgZ",
        "outputId": "5f297e0c-4de5-41c8-b31b-f8faedf4f672"
      },
      "source": [
        "f1 = 2* (prec * rec )/(prec + rec)\n",
        "f1"
      ],
      "execution_count": null,
      "outputs": [
        {
          "output_type": "execute_result",
          "data": {
            "text/plain": [
              "0.9622641509433962"
            ]
          },
          "metadata": {
            "tags": []
          },
          "execution_count": 46
        }
      ]
    },
    {
      "cell_type": "code",
      "metadata": {
        "id": "HGKKBltIpEga",
        "outputId": "c56ac77d-61fb-498e-b11a-05729fc0a344"
      },
      "source": [
        "spec = tn / (tn + fp)\n",
        "spec"
      ],
      "execution_count": null,
      "outputs": [
        {
          "output_type": "execute_result",
          "data": {
            "text/plain": [
              "1.0"
            ]
          },
          "metadata": {
            "tags": []
          },
          "execution_count": 47
        }
      ]
    },
    {
      "cell_type": "code",
      "metadata": {
        "id": "a8aRcTVkpEga"
      },
      "source": [
        ""
      ],
      "execution_count": null,
      "outputs": []
    }
  ]
}